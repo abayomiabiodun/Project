{
 "cells": [
  {
   "cell_type": "code",
   "execution_count": 1,
   "id": "e5f1c1fb",
   "metadata": {},
   "outputs": [],
   "source": [
    "import pandas as pd\n",
    "import numpy as np\n",
    "import matplotlib.pyplot as plt "
   ]
  },
  {
   "cell_type": "code",
   "execution_count": 2,
   "id": "fcf70c24",
   "metadata": {
    "scrolled": true
   },
   "outputs": [
    {
     "data": {
      "text/html": [
       "<div>\n",
       "<style scoped>\n",
       "    .dataframe tbody tr th:only-of-type {\n",
       "        vertical-align: middle;\n",
       "    }\n",
       "\n",
       "    .dataframe tbody tr th {\n",
       "        vertical-align: top;\n",
       "    }\n",
       "\n",
       "    .dataframe thead th {\n",
       "        text-align: right;\n",
       "    }\n",
       "</style>\n",
       "<table border=\"1\" class=\"dataframe\">\n",
       "  <thead>\n",
       "    <tr style=\"text-align: right;\">\n",
       "      <th></th>\n",
       "      <th>deal_id</th>\n",
       "      <th>funded_amount</th>\n",
       "      <th>funded_date</th>\n",
       "      <th>industry_id</th>\n",
       "    </tr>\n",
       "  </thead>\n",
       "  <tbody>\n",
       "    <tr>\n",
       "      <th>0</th>\n",
       "      <td>a4Gf1000000nS5ZEAU</td>\n",
       "      <td>175000</td>\n",
       "      <td>4/3/2020</td>\n",
       "      <td>3</td>\n",
       "    </tr>\n",
       "    <tr>\n",
       "      <th>1</th>\n",
       "      <td>a4Gf1000000nS5jEAE</td>\n",
       "      <td>3800</td>\n",
       "      <td>5/21/2019</td>\n",
       "      <td>3</td>\n",
       "    </tr>\n",
       "    <tr>\n",
       "      <th>2</th>\n",
       "      <td>a4Gf1000000nS5nEAE</td>\n",
       "      <td>6600</td>\n",
       "      <td>9/25/2020</td>\n",
       "      <td>3</td>\n",
       "    </tr>\n",
       "    <tr>\n",
       "      <th>3</th>\n",
       "      <td>a4Gf1000000nS5pEAE</td>\n",
       "      <td>13000</td>\n",
       "      <td>4/27/2020</td>\n",
       "      <td>4</td>\n",
       "    </tr>\n",
       "    <tr>\n",
       "      <th>4</th>\n",
       "      <td>a4Gf1000000nS5uEAE</td>\n",
       "      <td>5600</td>\n",
       "      <td>3/14/2020</td>\n",
       "      <td>3</td>\n",
       "    </tr>\n",
       "  </tbody>\n",
       "</table>\n",
       "</div>"
      ],
      "text/plain": [
       "              deal_id  funded_amount funded_date  industry_id\n",
       "0  a4Gf1000000nS5ZEAU         175000    4/3/2020            3\n",
       "1  a4Gf1000000nS5jEAE           3800   5/21/2019            3\n",
       "2  a4Gf1000000nS5nEAE           6600   9/25/2020            3\n",
       "3  a4Gf1000000nS5pEAE          13000   4/27/2020            4\n",
       "4  a4Gf1000000nS5uEAE           5600   3/14/2020            3"
      ]
     },
     "execution_count": 2,
     "metadata": {},
     "output_type": "execute_result"
    }
   ],
   "source": [
    "df = pd.read_csv('Deal .csv')\n",
    "df.head()"
   ]
  },
  {
   "cell_type": "code",
   "execution_count": 3,
   "id": "f8a4f971",
   "metadata": {},
   "outputs": [
    {
     "data": {
      "text/plain": [
       "deal_id          0\n",
       "funded_amount    0\n",
       "funded_date      0\n",
       "industry_id      0\n",
       "dtype: int64"
      ]
     },
     "execution_count": 3,
     "metadata": {},
     "output_type": "execute_result"
    }
   ],
   "source": [
    "df.isnull().sum()"
   ]
  },
  {
   "cell_type": "code",
   "execution_count": 4,
   "id": "5b0716e8",
   "metadata": {},
   "outputs": [],
   "source": [
    "commercial = df[df[\"industry_id\"]==1]"
   ]
  },
  {
   "cell_type": "code",
   "execution_count": 5,
   "id": "4dfaff9a",
   "metadata": {},
   "outputs": [],
   "source": [
    "real_estate = df[df[\"industry_id\"]==2]"
   ]
  },
  {
   "cell_type": "code",
   "execution_count": 6,
   "id": "ea681bb4",
   "metadata": {},
   "outputs": [],
   "source": [
    "technology = df[df[\"industry_id\"]==3]"
   ]
  },
  {
   "cell_type": "code",
   "execution_count": 7,
   "id": "987124f4",
   "metadata": {},
   "outputs": [],
   "source": [
    "other = df[df[\"industry_id\"]==4]"
   ]
  },
  {
   "cell_type": "code",
   "execution_count": 8,
   "id": "71adbe98",
   "metadata": {},
   "outputs": [
    {
     "data": {
      "text/html": [
       "<div>\n",
       "<style scoped>\n",
       "    .dataframe tbody tr th:only-of-type {\n",
       "        vertical-align: middle;\n",
       "    }\n",
       "\n",
       "    .dataframe tbody tr th {\n",
       "        vertical-align: top;\n",
       "    }\n",
       "\n",
       "    .dataframe thead th {\n",
       "        text-align: right;\n",
       "    }\n",
       "</style>\n",
       "<table border=\"1\" class=\"dataframe\">\n",
       "  <thead>\n",
       "    <tr style=\"text-align: right;\">\n",
       "      <th></th>\n",
       "      <th>deal_id</th>\n",
       "      <th>funded_amount</th>\n",
       "      <th>funded_date</th>\n",
       "      <th>industry_id</th>\n",
       "    </tr>\n",
       "  </thead>\n",
       "  <tbody>\n",
       "    <tr>\n",
       "      <th>6</th>\n",
       "      <td>a4Gf1000000nS64EAE</td>\n",
       "      <td>35000</td>\n",
       "      <td>6/25/2019</td>\n",
       "      <td>1</td>\n",
       "    </tr>\n",
       "    <tr>\n",
       "      <th>7</th>\n",
       "      <td>a4Gf1000000nS6CEAU</td>\n",
       "      <td>45000</td>\n",
       "      <td>3/17/2019</td>\n",
       "      <td>1</td>\n",
       "    </tr>\n",
       "    <tr>\n",
       "      <th>8</th>\n",
       "      <td>a4Gf1000000nS6IEAU</td>\n",
       "      <td>20000</td>\n",
       "      <td>1/1/2018</td>\n",
       "      <td>1</td>\n",
       "    </tr>\n",
       "    <tr>\n",
       "      <th>13</th>\n",
       "      <td>a4Gf1000000nS6oEAE</td>\n",
       "      <td>10000</td>\n",
       "      <td>12/6/2020</td>\n",
       "      <td>1</td>\n",
       "    </tr>\n",
       "    <tr>\n",
       "      <th>15</th>\n",
       "      <td>a4Gf1000000nS6rEAE</td>\n",
       "      <td>3500</td>\n",
       "      <td>2/1/2019</td>\n",
       "      <td>1</td>\n",
       "    </tr>\n",
       "  </tbody>\n",
       "</table>\n",
       "</div>"
      ],
      "text/plain": [
       "               deal_id  funded_amount funded_date  industry_id\n",
       "6   a4Gf1000000nS64EAE          35000   6/25/2019            1\n",
       "7   a4Gf1000000nS6CEAU          45000   3/17/2019            1\n",
       "8   a4Gf1000000nS6IEAU          20000    1/1/2018            1\n",
       "13  a4Gf1000000nS6oEAE          10000   12/6/2020            1\n",
       "15  a4Gf1000000nS6rEAE           3500    2/1/2019            1"
      ]
     },
     "execution_count": 8,
     "metadata": {},
     "output_type": "execute_result"
    }
   ],
   "source": [
    "commercial.head()"
   ]
  },
  {
   "cell_type": "code",
   "execution_count": 9,
   "id": "d02c1734",
   "metadata": {},
   "outputs": [
    {
     "data": {
      "text/html": [
       "<div>\n",
       "<style scoped>\n",
       "    .dataframe tbody tr th:only-of-type {\n",
       "        vertical-align: middle;\n",
       "    }\n",
       "\n",
       "    .dataframe tbody tr th {\n",
       "        vertical-align: top;\n",
       "    }\n",
       "\n",
       "    .dataframe thead th {\n",
       "        text-align: right;\n",
       "    }\n",
       "</style>\n",
       "<table border=\"1\" class=\"dataframe\">\n",
       "  <thead>\n",
       "    <tr style=\"text-align: right;\">\n",
       "      <th></th>\n",
       "      <th>deal_id</th>\n",
       "      <th>funded_amount</th>\n",
       "      <th>funded_date</th>\n",
       "      <th>industry_id</th>\n",
       "    </tr>\n",
       "  </thead>\n",
       "  <tbody>\n",
       "    <tr>\n",
       "      <th>11</th>\n",
       "      <td>a4Gf1000000nS6LEAU</td>\n",
       "      <td>8000</td>\n",
       "      <td>10/3/2020</td>\n",
       "      <td>2</td>\n",
       "    </tr>\n",
       "    <tr>\n",
       "      <th>12</th>\n",
       "      <td>a4Gf1000000nS6gEAE</td>\n",
       "      <td>3800</td>\n",
       "      <td>10/23/2020</td>\n",
       "      <td>2</td>\n",
       "    </tr>\n",
       "    <tr>\n",
       "      <th>19</th>\n",
       "      <td>a4Gf1000000nS74EAE</td>\n",
       "      <td>9000</td>\n",
       "      <td>1/27/2020</td>\n",
       "      <td>2</td>\n",
       "    </tr>\n",
       "    <tr>\n",
       "      <th>30</th>\n",
       "      <td>a4Gf1000000nSLLEA2</td>\n",
       "      <td>12500</td>\n",
       "      <td>2/16/2020</td>\n",
       "      <td>2</td>\n",
       "    </tr>\n",
       "    <tr>\n",
       "      <th>32</th>\n",
       "      <td>a4Gf1000000nSLSEA2</td>\n",
       "      <td>2500</td>\n",
       "      <td>10/17/2018</td>\n",
       "      <td>2</td>\n",
       "    </tr>\n",
       "  </tbody>\n",
       "</table>\n",
       "</div>"
      ],
      "text/plain": [
       "               deal_id  funded_amount funded_date  industry_id\n",
       "11  a4Gf1000000nS6LEAU           8000   10/3/2020            2\n",
       "12  a4Gf1000000nS6gEAE           3800  10/23/2020            2\n",
       "19  a4Gf1000000nS74EAE           9000   1/27/2020            2\n",
       "30  a4Gf1000000nSLLEA2          12500   2/16/2020            2\n",
       "32  a4Gf1000000nSLSEA2           2500  10/17/2018            2"
      ]
     },
     "execution_count": 9,
     "metadata": {},
     "output_type": "execute_result"
    }
   ],
   "source": [
    "real_estate.head()"
   ]
  },
  {
   "cell_type": "code",
   "execution_count": 10,
   "id": "751a5ba3",
   "metadata": {},
   "outputs": [
    {
     "data": {
      "text/html": [
       "<div>\n",
       "<style scoped>\n",
       "    .dataframe tbody tr th:only-of-type {\n",
       "        vertical-align: middle;\n",
       "    }\n",
       "\n",
       "    .dataframe tbody tr th {\n",
       "        vertical-align: top;\n",
       "    }\n",
       "\n",
       "    .dataframe thead th {\n",
       "        text-align: right;\n",
       "    }\n",
       "</style>\n",
       "<table border=\"1\" class=\"dataframe\">\n",
       "  <thead>\n",
       "    <tr style=\"text-align: right;\">\n",
       "      <th></th>\n",
       "      <th>deal_id</th>\n",
       "      <th>funded_amount</th>\n",
       "      <th>funded_date</th>\n",
       "      <th>industry_id</th>\n",
       "    </tr>\n",
       "  </thead>\n",
       "  <tbody>\n",
       "    <tr>\n",
       "      <th>0</th>\n",
       "      <td>a4Gf1000000nS5ZEAU</td>\n",
       "      <td>175000</td>\n",
       "      <td>4/3/2020</td>\n",
       "      <td>3</td>\n",
       "    </tr>\n",
       "    <tr>\n",
       "      <th>1</th>\n",
       "      <td>a4Gf1000000nS5jEAE</td>\n",
       "      <td>3800</td>\n",
       "      <td>5/21/2019</td>\n",
       "      <td>3</td>\n",
       "    </tr>\n",
       "    <tr>\n",
       "      <th>2</th>\n",
       "      <td>a4Gf1000000nS5nEAE</td>\n",
       "      <td>6600</td>\n",
       "      <td>9/25/2020</td>\n",
       "      <td>3</td>\n",
       "    </tr>\n",
       "    <tr>\n",
       "      <th>4</th>\n",
       "      <td>a4Gf1000000nS5uEAE</td>\n",
       "      <td>5600</td>\n",
       "      <td>3/14/2020</td>\n",
       "      <td>3</td>\n",
       "    </tr>\n",
       "    <tr>\n",
       "      <th>5</th>\n",
       "      <td>a4Gf1000000nS5vEAE</td>\n",
       "      <td>180000</td>\n",
       "      <td>8/12/2018</td>\n",
       "      <td>3</td>\n",
       "    </tr>\n",
       "  </tbody>\n",
       "</table>\n",
       "</div>"
      ],
      "text/plain": [
       "              deal_id  funded_amount funded_date  industry_id\n",
       "0  a4Gf1000000nS5ZEAU         175000    4/3/2020            3\n",
       "1  a4Gf1000000nS5jEAE           3800   5/21/2019            3\n",
       "2  a4Gf1000000nS5nEAE           6600   9/25/2020            3\n",
       "4  a4Gf1000000nS5uEAE           5600   3/14/2020            3\n",
       "5  a4Gf1000000nS5vEAE         180000   8/12/2018            3"
      ]
     },
     "execution_count": 10,
     "metadata": {},
     "output_type": "execute_result"
    }
   ],
   "source": [
    "technology.head()"
   ]
  },
  {
   "cell_type": "code",
   "execution_count": 11,
   "id": "def6f663",
   "metadata": {},
   "outputs": [
    {
     "data": {
      "text/html": [
       "<div>\n",
       "<style scoped>\n",
       "    .dataframe tbody tr th:only-of-type {\n",
       "        vertical-align: middle;\n",
       "    }\n",
       "\n",
       "    .dataframe tbody tr th {\n",
       "        vertical-align: top;\n",
       "    }\n",
       "\n",
       "    .dataframe thead th {\n",
       "        text-align: right;\n",
       "    }\n",
       "</style>\n",
       "<table border=\"1\" class=\"dataframe\">\n",
       "  <thead>\n",
       "    <tr style=\"text-align: right;\">\n",
       "      <th></th>\n",
       "      <th>deal_id</th>\n",
       "      <th>funded_amount</th>\n",
       "      <th>funded_date</th>\n",
       "      <th>industry_id</th>\n",
       "    </tr>\n",
       "  </thead>\n",
       "  <tbody>\n",
       "    <tr>\n",
       "      <th>3</th>\n",
       "      <td>a4Gf1000000nS5pEAE</td>\n",
       "      <td>13000</td>\n",
       "      <td>4/27/2020</td>\n",
       "      <td>4</td>\n",
       "    </tr>\n",
       "    <tr>\n",
       "      <th>9</th>\n",
       "      <td>a4Gf1000000nS6JEAU</td>\n",
       "      <td>3900</td>\n",
       "      <td>1/20/2019</td>\n",
       "      <td>4</td>\n",
       "    </tr>\n",
       "    <tr>\n",
       "      <th>10</th>\n",
       "      <td>a4Gf1000000nS6KEAU</td>\n",
       "      <td>8800</td>\n",
       "      <td>4/19/2020</td>\n",
       "      <td>4</td>\n",
       "    </tr>\n",
       "    <tr>\n",
       "      <th>14</th>\n",
       "      <td>a4Gf1000000nS6qEAE</td>\n",
       "      <td>8000</td>\n",
       "      <td>3/20/2020</td>\n",
       "      <td>4</td>\n",
       "    </tr>\n",
       "    <tr>\n",
       "      <th>21</th>\n",
       "      <td>a4Gf1000000nS7JEAU</td>\n",
       "      <td>8800</td>\n",
       "      <td>6/9/2018</td>\n",
       "      <td>4</td>\n",
       "    </tr>\n",
       "  </tbody>\n",
       "</table>\n",
       "</div>"
      ],
      "text/plain": [
       "               deal_id  funded_amount funded_date  industry_id\n",
       "3   a4Gf1000000nS5pEAE          13000   4/27/2020            4\n",
       "9   a4Gf1000000nS6JEAU           3900   1/20/2019            4\n",
       "10  a4Gf1000000nS6KEAU           8800   4/19/2020            4\n",
       "14  a4Gf1000000nS6qEAE           8000   3/20/2020            4\n",
       "21  a4Gf1000000nS7JEAU           8800    6/9/2018            4"
      ]
     },
     "execution_count": 11,
     "metadata": {},
     "output_type": "execute_result"
    }
   ],
   "source": [
    "other.head()"
   ]
  },
  {
   "cell_type": "code",
   "execution_count": 12,
   "id": "289cb81b",
   "metadata": {},
   "outputs": [],
   "source": [
    "average_funded_amount_commercial = commercial['funded_amount'].mean()"
   ]
  },
  {
   "cell_type": "code",
   "execution_count": 13,
   "id": "7c78320a",
   "metadata": {},
   "outputs": [
    {
     "data": {
      "text/plain": [
       "21236.238532110092"
      ]
     },
     "execution_count": 13,
     "metadata": {},
     "output_type": "execute_result"
    }
   ],
   "source": [
    "average_funded_amount_commercial"
   ]
  },
  {
   "cell_type": "code",
   "execution_count": 14,
   "id": "be0cecd7",
   "metadata": {},
   "outputs": [],
   "source": [
    "average_funded_amount_real_estate = real_estate['funded_amount'].mean()"
   ]
  },
  {
   "cell_type": "code",
   "execution_count": 15,
   "id": "502de106",
   "metadata": {},
   "outputs": [
    {
     "data": {
      "text/plain": [
       "16064.578313253012"
      ]
     },
     "execution_count": 15,
     "metadata": {},
     "output_type": "execute_result"
    }
   ],
   "source": [
    "average_funded_amount_real_estate"
   ]
  },
  {
   "cell_type": "code",
   "execution_count": 16,
   "id": "9f0f608b",
   "metadata": {},
   "outputs": [],
   "source": [
    "average_funded_amount_technology = technology['funded_amount'].mean()"
   ]
  },
  {
   "cell_type": "code",
   "execution_count": 17,
   "id": "a6fc6965",
   "metadata": {},
   "outputs": [
    {
     "data": {
      "text/plain": [
       "15143.129770992366"
      ]
     },
     "execution_count": 17,
     "metadata": {},
     "output_type": "execute_result"
    }
   ],
   "source": [
    "average_funded_amount_technology"
   ]
  },
  {
   "cell_type": "code",
   "execution_count": 18,
   "id": "6fdc5c5a",
   "metadata": {},
   "outputs": [],
   "source": [
    "average_funded_amount_other = other['funded_amount'].mean()"
   ]
  },
  {
   "cell_type": "code",
   "execution_count": 19,
   "id": "2343b1da",
   "metadata": {},
   "outputs": [
    {
     "data": {
      "text/plain": [
       "19741.170731707316"
      ]
     },
     "execution_count": 19,
     "metadata": {},
     "output_type": "execute_result"
    }
   ],
   "source": [
    "average_funded_amount_other"
   ]
  },
  {
   "cell_type": "code",
   "execution_count": 20,
   "id": "00c19b22",
   "metadata": {},
   "outputs": [],
   "source": [
    "fund_by_industry = {\"Average fund\":[average_funded_amount_commercial,average_funded_amount_real_estate,average_funded_amount_technology,average_funded_amount_other]}\n",
    "\n",
    "fund_by_industry = pd.DataFrame(fund_by_industry, index=[\"Commercial\",\"Real Estate\", \"Technology\", \"Other\"])"
   ]
  },
  {
   "cell_type": "code",
   "execution_count": 21,
   "id": "fc2a35a7",
   "metadata": {},
   "outputs": [
    {
     "data": {
      "text/html": [
       "<div>\n",
       "<style scoped>\n",
       "    .dataframe tbody tr th:only-of-type {\n",
       "        vertical-align: middle;\n",
       "    }\n",
       "\n",
       "    .dataframe tbody tr th {\n",
       "        vertical-align: top;\n",
       "    }\n",
       "\n",
       "    .dataframe thead th {\n",
       "        text-align: right;\n",
       "    }\n",
       "</style>\n",
       "<table border=\"1\" class=\"dataframe\">\n",
       "  <thead>\n",
       "    <tr style=\"text-align: right;\">\n",
       "      <th></th>\n",
       "      <th>Average fund</th>\n",
       "    </tr>\n",
       "  </thead>\n",
       "  <tbody>\n",
       "    <tr>\n",
       "      <th>Commercial</th>\n",
       "      <td>21236.238532</td>\n",
       "    </tr>\n",
       "    <tr>\n",
       "      <th>Real Estate</th>\n",
       "      <td>16064.578313</td>\n",
       "    </tr>\n",
       "    <tr>\n",
       "      <th>Technology</th>\n",
       "      <td>15143.129771</td>\n",
       "    </tr>\n",
       "    <tr>\n",
       "      <th>Other</th>\n",
       "      <td>19741.170732</td>\n",
       "    </tr>\n",
       "  </tbody>\n",
       "</table>\n",
       "</div>"
      ],
      "text/plain": [
       "             Average fund\n",
       "Commercial   21236.238532\n",
       "Real Estate  16064.578313\n",
       "Technology   15143.129771\n",
       "Other        19741.170732"
      ]
     },
     "execution_count": 21,
     "metadata": {},
     "output_type": "execute_result"
    }
   ],
   "source": [
    "fund_by_industry.head()"
   ]
  },
  {
   "cell_type": "code",
   "execution_count": 22,
   "id": "36207aa9",
   "metadata": {},
   "outputs": [
    {
     "data": {
      "text/plain": [
       "Text(0.5, 1.0, 'Average Fund of Industry')"
      ]
     },
     "execution_count": 22,
     "metadata": {},
     "output_type": "execute_result"
    },
    {
     "data": {
      "image/png": "[encoded data removed]",
      "text/plain": [
       "<Figure size 640x480 with 1 Axes>"
      ]
     },
     "metadata": {},
     "output_type": "display_data"
    }
   ],
   "source": [
    "fund_by_industry.plot(kind='bar')\n",
    "plt.xlabel('Industry')\n",
    "plt.ylabel('Average Fund')\n",
    "plt.title('Average Fund of Industry')\n",
    "#plt.savefig('average_fund.png')"
   ]
  },
  {
   "cell_type": "code",
   "execution_count": 23,
   "id": "c8cfd65d",
   "metadata": {},
   "outputs": [
    {
     "data": {
      "text/plain": [
       "1305"
      ]
     },
     "execution_count": 23,
     "metadata": {},
     "output_type": "execute_result"
    }
   ],
   "source": [
    "len(df)"
   ]
  },
  {
   "cell_type": "code",
   "execution_count": 24,
   "id": "e74911ed",
   "metadata": {},
   "outputs": [],
   "source": [
    "df['funded_date'] = pd.to_datetime(df['funded_date'])"
   ]
  },
  {
   "cell_type": "code",
   "execution_count": 25,
   "id": "56a748ba",
   "metadata": {},
   "outputs": [
    {
     "name": "stdout",
     "output_type": "stream",
     "text": [
      "<class 'pandas.core.frame.DataFrame'>\n",
      "RangeIndex: 1305 entries, 0 to 1304\n",
      "Data columns (total 4 columns):\n",
      " #   Column         Non-Null Count  Dtype         \n",
      "---  ------         --------------  -----         \n",
      " 0   deal_id        1305 non-null   object        \n",
      " 1   funded_amount  1305 non-null   int64         \n",
      " 2   funded_date    1305 non-null   datetime64[ns]\n",
      " 3   industry_id    1305 non-null   int64         \n",
      "dtypes: datetime64[ns](1), int64(2), object(1)\n",
      "memory usage: 40.9+ KB\n"
     ]
    }
   ],
   "source": [
    "df.info()"
   ]
  },
  {
   "cell_type": "code",
   "execution_count": 26,
   "id": "da0a4853",
   "metadata": {},
   "outputs": [],
   "source": [
    "df['year'] = df['funded_date'].dt.year"
   ]
  },
  {
   "cell_type": "code",
   "execution_count": 27,
   "id": "7fc764e9",
   "metadata": {},
   "outputs": [
    {
     "data": {
      "text/html": [
       "<div>\n",
       "<style scoped>\n",
       "    .dataframe tbody tr th:only-of-type {\n",
       "        vertical-align: middle;\n",
       "    }\n",
       "\n",
       "    .dataframe tbody tr th {\n",
       "        vertical-align: top;\n",
       "    }\n",
       "\n",
       "    .dataframe thead th {\n",
       "        text-align: right;\n",
       "    }\n",
       "</style>\n",
       "<table border=\"1\" class=\"dataframe\">\n",
       "  <thead>\n",
       "    <tr style=\"text-align: right;\">\n",
       "      <th></th>\n",
       "      <th>deal_id</th>\n",
       "      <th>funded_amount</th>\n",
       "      <th>funded_date</th>\n",
       "      <th>industry_id</th>\n",
       "      <th>year</th>\n",
       "    </tr>\n",
       "  </thead>\n",
       "  <tbody>\n",
       "    <tr>\n",
       "      <th>0</th>\n",
       "      <td>a4Gf1000000nS5ZEAU</td>\n",
       "      <td>175000</td>\n",
       "      <td>2020-04-03</td>\n",
       "      <td>3</td>\n",
       "      <td>2020</td>\n",
       "    </tr>\n",
       "    <tr>\n",
       "      <th>1</th>\n",
       "      <td>a4Gf1000000nS5jEAE</td>\n",
       "      <td>3800</td>\n",
       "      <td>2019-05-21</td>\n",
       "      <td>3</td>\n",
       "      <td>2019</td>\n",
       "    </tr>\n",
       "    <tr>\n",
       "      <th>2</th>\n",
       "      <td>a4Gf1000000nS5nEAE</td>\n",
       "      <td>6600</td>\n",
       "      <td>2020-09-25</td>\n",
       "      <td>3</td>\n",
       "      <td>2020</td>\n",
       "    </tr>\n",
       "    <tr>\n",
       "      <th>3</th>\n",
       "      <td>a4Gf1000000nS5pEAE</td>\n",
       "      <td>13000</td>\n",
       "      <td>2020-04-27</td>\n",
       "      <td>4</td>\n",
       "      <td>2020</td>\n",
       "    </tr>\n",
       "    <tr>\n",
       "      <th>4</th>\n",
       "      <td>a4Gf1000000nS5uEAE</td>\n",
       "      <td>5600</td>\n",
       "      <td>2020-03-14</td>\n",
       "      <td>3</td>\n",
       "      <td>2020</td>\n",
       "    </tr>\n",
       "  </tbody>\n",
       "</table>\n",
       "</div>"
      ],
      "text/plain": [
       "              deal_id  funded_amount funded_date  industry_id  year\n",
       "0  a4Gf1000000nS5ZEAU         175000  2020-04-03            3  2020\n",
       "1  a4Gf1000000nS5jEAE           3800  2019-05-21            3  2019\n",
       "2  a4Gf1000000nS5nEAE           6600  2020-09-25            3  2020\n",
       "3  a4Gf1000000nS5pEAE          13000  2020-04-27            4  2020\n",
       "4  a4Gf1000000nS5uEAE           5600  2020-03-14            3  2020"
      ]
     },
     "execution_count": 27,
     "metadata": {},
     "output_type": "execute_result"
    }
   ],
   "source": [
    "df.head()"
   ]
  },
  {
   "cell_type": "code",
   "execution_count": 28,
   "id": "8d6025e0",
   "metadata": {},
   "outputs": [
    {
     "data": {
      "text/plain": [
       "array([2020, 2019, 2018])"
      ]
     },
     "execution_count": 28,
     "metadata": {},
     "output_type": "execute_result"
    }
   ],
   "source": [
    "df['year'].unique()"
   ]
  },
  {
   "cell_type": "code",
   "execution_count": 29,
   "id": "844b39ed",
   "metadata": {
    "scrolled": true
   },
   "outputs": [
    {
     "data": {
      "text/html": [
       "<div>\n",
       "<style scoped>\n",
       "    .dataframe tbody tr th:only-of-type {\n",
       "        vertical-align: middle;\n",
       "    }\n",
       "\n",
       "    .dataframe tbody tr th {\n",
       "        vertical-align: top;\n",
       "    }\n",
       "\n",
       "    .dataframe thead th {\n",
       "        text-align: right;\n",
       "    }\n",
       "</style>\n",
       "<table border=\"1\" class=\"dataframe\">\n",
       "  <thead>\n",
       "    <tr style=\"text-align: right;\">\n",
       "      <th></th>\n",
       "      <th>deal_id</th>\n",
       "      <th>funded_amount</th>\n",
       "      <th>funded_date</th>\n",
       "      <th>industry_id</th>\n",
       "      <th>year</th>\n",
       "    </tr>\n",
       "  </thead>\n",
       "  <tbody>\n",
       "    <tr>\n",
       "      <th>0</th>\n",
       "      <td>a4Gf1000000nS5ZEAU</td>\n",
       "      <td>175000</td>\n",
       "      <td>2020-04-03</td>\n",
       "      <td>3</td>\n",
       "      <td>2020</td>\n",
       "    </tr>\n",
       "    <tr>\n",
       "      <th>2</th>\n",
       "      <td>a4Gf1000000nS5nEAE</td>\n",
       "      <td>6600</td>\n",
       "      <td>2020-09-25</td>\n",
       "      <td>3</td>\n",
       "      <td>2020</td>\n",
       "    </tr>\n",
       "    <tr>\n",
       "      <th>3</th>\n",
       "      <td>a4Gf1000000nS5pEAE</td>\n",
       "      <td>13000</td>\n",
       "      <td>2020-04-27</td>\n",
       "      <td>4</td>\n",
       "      <td>2020</td>\n",
       "    </tr>\n",
       "    <tr>\n",
       "      <th>4</th>\n",
       "      <td>a4Gf1000000nS5uEAE</td>\n",
       "      <td>5600</td>\n",
       "      <td>2020-03-14</td>\n",
       "      <td>3</td>\n",
       "      <td>2020</td>\n",
       "    </tr>\n",
       "    <tr>\n",
       "      <th>10</th>\n",
       "      <td>a4Gf1000000nS6KEAU</td>\n",
       "      <td>8800</td>\n",
       "      <td>2020-04-19</td>\n",
       "      <td>4</td>\n",
       "      <td>2020</td>\n",
       "    </tr>\n",
       "  </tbody>\n",
       "</table>\n",
       "</div>"
      ],
      "text/plain": [
       "               deal_id  funded_amount funded_date  industry_id  year\n",
       "0   a4Gf1000000nS5ZEAU         175000  2020-04-03            3  2020\n",
       "2   a4Gf1000000nS5nEAE           6600  2020-09-25            3  2020\n",
       "3   a4Gf1000000nS5pEAE          13000  2020-04-27            4  2020\n",
       "4   a4Gf1000000nS5uEAE           5600  2020-03-14            3  2020\n",
       "10  a4Gf1000000nS6KEAU           8800  2020-04-19            4  2020"
      ]
     },
     "execution_count": 29,
     "metadata": {},
     "output_type": "execute_result"
    }
   ],
   "source": [
    "year_2020 = df[df['year']==2020]\n",
    "year_2020.head()"
   ]
  },
  {
   "cell_type": "code",
   "execution_count": 30,
   "id": "5139918b",
   "metadata": {},
   "outputs": [
    {
     "data": {
      "text/html": [
       "<div>\n",
       "<style scoped>\n",
       "    .dataframe tbody tr th:only-of-type {\n",
       "        vertical-align: middle;\n",
       "    }\n",
       "\n",
       "    .dataframe tbody tr th {\n",
       "        vertical-align: top;\n",
       "    }\n",
       "\n",
       "    .dataframe thead th {\n",
       "        text-align: right;\n",
       "    }\n",
       "</style>\n",
       "<table border=\"1\" class=\"dataframe\">\n",
       "  <thead>\n",
       "    <tr style=\"text-align: right;\">\n",
       "      <th></th>\n",
       "      <th>deal_id</th>\n",
       "      <th>funded_amount</th>\n",
       "      <th>funded_date</th>\n",
       "      <th>industry_id</th>\n",
       "      <th>year</th>\n",
       "    </tr>\n",
       "  </thead>\n",
       "  <tbody>\n",
       "    <tr>\n",
       "      <th>1</th>\n",
       "      <td>a4Gf1000000nS5jEAE</td>\n",
       "      <td>3800</td>\n",
       "      <td>2019-05-21</td>\n",
       "      <td>3</td>\n",
       "      <td>2019</td>\n",
       "    </tr>\n",
       "    <tr>\n",
       "      <th>6</th>\n",
       "      <td>a4Gf1000000nS64EAE</td>\n",
       "      <td>35000</td>\n",
       "      <td>2019-06-25</td>\n",
       "      <td>1</td>\n",
       "      <td>2019</td>\n",
       "    </tr>\n",
       "    <tr>\n",
       "      <th>7</th>\n",
       "      <td>a4Gf1000000nS6CEAU</td>\n",
       "      <td>45000</td>\n",
       "      <td>2019-03-17</td>\n",
       "      <td>1</td>\n",
       "      <td>2019</td>\n",
       "    </tr>\n",
       "    <tr>\n",
       "      <th>9</th>\n",
       "      <td>a4Gf1000000nS6JEAU</td>\n",
       "      <td>3900</td>\n",
       "      <td>2019-01-20</td>\n",
       "      <td>4</td>\n",
       "      <td>2019</td>\n",
       "    </tr>\n",
       "    <tr>\n",
       "      <th>15</th>\n",
       "      <td>a4Gf1000000nS6rEAE</td>\n",
       "      <td>3500</td>\n",
       "      <td>2019-02-01</td>\n",
       "      <td>1</td>\n",
       "      <td>2019</td>\n",
       "    </tr>\n",
       "  </tbody>\n",
       "</table>\n",
       "</div>"
      ],
      "text/plain": [
       "               deal_id  funded_amount funded_date  industry_id  year\n",
       "1   a4Gf1000000nS5jEAE           3800  2019-05-21            3  2019\n",
       "6   a4Gf1000000nS64EAE          35000  2019-06-25            1  2019\n",
       "7   a4Gf1000000nS6CEAU          45000  2019-03-17            1  2019\n",
       "9   a4Gf1000000nS6JEAU           3900  2019-01-20            4  2019\n",
       "15  a4Gf1000000nS6rEAE           3500  2019-02-01            1  2019"
      ]
     },
     "execution_count": 30,
     "metadata": {},
     "output_type": "execute_result"
    }
   ],
   "source": [
    "year_2019 = df[df['year']==2019]\n",
    "year_2019.head()"
   ]
  },
  {
   "cell_type": "code",
   "execution_count": 31,
   "id": "bd3e49ea",
   "metadata": {},
   "outputs": [
    {
     "data": {
      "text/html": [
       "<div>\n",
       "<style scoped>\n",
       "    .dataframe tbody tr th:only-of-type {\n",
       "        vertical-align: middle;\n",
       "    }\n",
       "\n",
       "    .dataframe tbody tr th {\n",
       "        vertical-align: top;\n",
       "    }\n",
       "\n",
       "    .dataframe thead th {\n",
       "        text-align: right;\n",
       "    }\n",
       "</style>\n",
       "<table border=\"1\" class=\"dataframe\">\n",
       "  <thead>\n",
       "    <tr style=\"text-align: right;\">\n",
       "      <th></th>\n",
       "      <th>deal_id</th>\n",
       "      <th>funded_amount</th>\n",
       "      <th>funded_date</th>\n",
       "      <th>industry_id</th>\n",
       "      <th>year</th>\n",
       "    </tr>\n",
       "  </thead>\n",
       "  <tbody>\n",
       "    <tr>\n",
       "      <th>5</th>\n",
       "      <td>a4Gf1000000nS5vEAE</td>\n",
       "      <td>180000</td>\n",
       "      <td>2018-08-12</td>\n",
       "      <td>3</td>\n",
       "      <td>2018</td>\n",
       "    </tr>\n",
       "    <tr>\n",
       "      <th>8</th>\n",
       "      <td>a4Gf1000000nS6IEAU</td>\n",
       "      <td>20000</td>\n",
       "      <td>2018-01-01</td>\n",
       "      <td>1</td>\n",
       "      <td>2018</td>\n",
       "    </tr>\n",
       "    <tr>\n",
       "      <th>21</th>\n",
       "      <td>a4Gf1000000nS7JEAU</td>\n",
       "      <td>8800</td>\n",
       "      <td>2018-06-09</td>\n",
       "      <td>4</td>\n",
       "      <td>2018</td>\n",
       "    </tr>\n",
       "    <tr>\n",
       "      <th>22</th>\n",
       "      <td>a4Gf1000000nS7MEAU</td>\n",
       "      <td>12000</td>\n",
       "      <td>2018-10-03</td>\n",
       "      <td>3</td>\n",
       "      <td>2018</td>\n",
       "    </tr>\n",
       "    <tr>\n",
       "      <th>24</th>\n",
       "      <td>a4Gf1000000nS7fEAE</td>\n",
       "      <td>7500</td>\n",
       "      <td>2018-06-06</td>\n",
       "      <td>3</td>\n",
       "      <td>2018</td>\n",
       "    </tr>\n",
       "  </tbody>\n",
       "</table>\n",
       "</div>"
      ],
      "text/plain": [
       "               deal_id  funded_amount funded_date  industry_id  year\n",
       "5   a4Gf1000000nS5vEAE         180000  2018-08-12            3  2018\n",
       "8   a4Gf1000000nS6IEAU          20000  2018-01-01            1  2018\n",
       "21  a4Gf1000000nS7JEAU           8800  2018-06-09            4  2018\n",
       "22  a4Gf1000000nS7MEAU          12000  2018-10-03            3  2018\n",
       "24  a4Gf1000000nS7fEAE           7500  2018-06-06            3  2018"
      ]
     },
     "execution_count": 31,
     "metadata": {},
     "output_type": "execute_result"
    }
   ],
   "source": [
    "year_2018 = df[df['year']==2018]\n",
    "year_2018.head()"
   ]
  },
  {
   "cell_type": "markdown",
   "id": "11a77f65",
   "metadata": {},
   "source": [
    "## 2020 year per Industry "
   ]
  },
  {
   "cell_type": "code",
   "execution_count": 32,
   "id": "49700306",
   "metadata": {},
   "outputs": [],
   "source": [
    "year_2020_per_commercial_industry = year_2020[year_2020['industry_id']==1]"
   ]
  },
  {
   "cell_type": "code",
   "execution_count": 33,
   "id": "e64eaf34",
   "metadata": {},
   "outputs": [
    {
     "data": {
      "text/html": [
       "<div>\n",
       "<style scoped>\n",
       "    .dataframe tbody tr th:only-of-type {\n",
       "        vertical-align: middle;\n",
       "    }\n",
       "\n",
       "    .dataframe tbody tr th {\n",
       "        vertical-align: top;\n",
       "    }\n",
       "\n",
       "    .dataframe thead th {\n",
       "        text-align: right;\n",
       "    }\n",
       "</style>\n",
       "<table border=\"1\" class=\"dataframe\">\n",
       "  <thead>\n",
       "    <tr style=\"text-align: right;\">\n",
       "      <th></th>\n",
       "      <th>deal_id</th>\n",
       "      <th>funded_amount</th>\n",
       "      <th>funded_date</th>\n",
       "      <th>industry_id</th>\n",
       "      <th>year</th>\n",
       "    </tr>\n",
       "  </thead>\n",
       "  <tbody>\n",
       "    <tr>\n",
       "      <th>13</th>\n",
       "      <td>a4Gf1000000nS6oEAE</td>\n",
       "      <td>10000</td>\n",
       "      <td>2020-12-06</td>\n",
       "      <td>1</td>\n",
       "      <td>2020</td>\n",
       "    </tr>\n",
       "    <tr>\n",
       "      <th>20</th>\n",
       "      <td>a4Gf1000000nS7AEAU</td>\n",
       "      <td>85000</td>\n",
       "      <td>2020-01-01</td>\n",
       "      <td>1</td>\n",
       "      <td>2020</td>\n",
       "    </tr>\n",
       "    <tr>\n",
       "      <th>23</th>\n",
       "      <td>a4Gf1000000nS7WEAU</td>\n",
       "      <td>22000</td>\n",
       "      <td>2020-09-26</td>\n",
       "      <td>1</td>\n",
       "      <td>2020</td>\n",
       "    </tr>\n",
       "    <tr>\n",
       "      <th>29</th>\n",
       "      <td>a4Gf1000000nSLFEA2</td>\n",
       "      <td>8800</td>\n",
       "      <td>2020-08-23</td>\n",
       "      <td>1</td>\n",
       "      <td>2020</td>\n",
       "    </tr>\n",
       "    <tr>\n",
       "      <th>43</th>\n",
       "      <td>a4Gf1000000nSM5EAM</td>\n",
       "      <td>12000</td>\n",
       "      <td>2020-03-14</td>\n",
       "      <td>1</td>\n",
       "      <td>2020</td>\n",
       "    </tr>\n",
       "  </tbody>\n",
       "</table>\n",
       "</div>"
      ],
      "text/plain": [
       "               deal_id  funded_amount funded_date  industry_id  year\n",
       "13  a4Gf1000000nS6oEAE          10000  2020-12-06            1  2020\n",
       "20  a4Gf1000000nS7AEAU          85000  2020-01-01            1  2020\n",
       "23  a4Gf1000000nS7WEAU          22000  2020-09-26            1  2020\n",
       "29  a4Gf1000000nSLFEA2           8800  2020-08-23            1  2020\n",
       "43  a4Gf1000000nSM5EAM          12000  2020-03-14            1  2020"
      ]
     },
     "execution_count": 33,
     "metadata": {},
     "output_type": "execute_result"
    }
   ],
   "source": [
    "year_2020_per_commercial_industry.head()"
   ]
  },
  {
   "cell_type": "code",
   "execution_count": 34,
   "id": "72b9fb41",
   "metadata": {},
   "outputs": [
    {
     "data": {
      "text/html": [
       "<div>\n",
       "<style scoped>\n",
       "    .dataframe tbody tr th:only-of-type {\n",
       "        vertical-align: middle;\n",
       "    }\n",
       "\n",
       "    .dataframe tbody tr th {\n",
       "        vertical-align: top;\n",
       "    }\n",
       "\n",
       "    .dataframe thead th {\n",
       "        text-align: right;\n",
       "    }\n",
       "</style>\n",
       "<table border=\"1\" class=\"dataframe\">\n",
       "  <thead>\n",
       "    <tr style=\"text-align: right;\">\n",
       "      <th></th>\n",
       "      <th>deal_id</th>\n",
       "      <th>funded_amount</th>\n",
       "      <th>funded_date</th>\n",
       "      <th>industry_id</th>\n",
       "      <th>year</th>\n",
       "    </tr>\n",
       "  </thead>\n",
       "  <tbody>\n",
       "    <tr>\n",
       "      <th>11</th>\n",
       "      <td>a4Gf1000000nS6LEAU</td>\n",
       "      <td>8000</td>\n",
       "      <td>2020-10-03</td>\n",
       "      <td>2</td>\n",
       "      <td>2020</td>\n",
       "    </tr>\n",
       "    <tr>\n",
       "      <th>12</th>\n",
       "      <td>a4Gf1000000nS6gEAE</td>\n",
       "      <td>3800</td>\n",
       "      <td>2020-10-23</td>\n",
       "      <td>2</td>\n",
       "      <td>2020</td>\n",
       "    </tr>\n",
       "    <tr>\n",
       "      <th>19</th>\n",
       "      <td>a4Gf1000000nS74EAE</td>\n",
       "      <td>9000</td>\n",
       "      <td>2020-01-27</td>\n",
       "      <td>2</td>\n",
       "      <td>2020</td>\n",
       "    </tr>\n",
       "    <tr>\n",
       "      <th>30</th>\n",
       "      <td>a4Gf1000000nSLLEA2</td>\n",
       "      <td>12500</td>\n",
       "      <td>2020-02-16</td>\n",
       "      <td>2</td>\n",
       "      <td>2020</td>\n",
       "    </tr>\n",
       "    <tr>\n",
       "      <th>40</th>\n",
       "      <td>a4Gf1000000nSLzEAM</td>\n",
       "      <td>55000</td>\n",
       "      <td>2020-12-23</td>\n",
       "      <td>2</td>\n",
       "      <td>2020</td>\n",
       "    </tr>\n",
       "  </tbody>\n",
       "</table>\n",
       "</div>"
      ],
      "text/plain": [
       "               deal_id  funded_amount funded_date  industry_id  year\n",
       "11  a4Gf1000000nS6LEAU           8000  2020-10-03            2  2020\n",
       "12  a4Gf1000000nS6gEAE           3800  2020-10-23            2  2020\n",
       "19  a4Gf1000000nS74EAE           9000  2020-01-27            2  2020\n",
       "30  a4Gf1000000nSLLEA2          12500  2020-02-16            2  2020\n",
       "40  a4Gf1000000nSLzEAM          55000  2020-12-23            2  2020"
      ]
     },
     "execution_count": 34,
     "metadata": {},
     "output_type": "execute_result"
    }
   ],
   "source": [
    "year_2020_per_real_estate_industry = year_2020[year_2020['industry_id']==2]\n",
    "year_2020_per_real_estate_industry.head()"
   ]
  },
  {
   "cell_type": "code",
   "execution_count": 35,
   "id": "152e8ee6",
   "metadata": {},
   "outputs": [
    {
     "data": {
      "text/html": [
       "<div>\n",
       "<style scoped>\n",
       "    .dataframe tbody tr th:only-of-type {\n",
       "        vertical-align: middle;\n",
       "    }\n",
       "\n",
       "    .dataframe tbody tr th {\n",
       "        vertical-align: top;\n",
       "    }\n",
       "\n",
       "    .dataframe thead th {\n",
       "        text-align: right;\n",
       "    }\n",
       "</style>\n",
       "<table border=\"1\" class=\"dataframe\">\n",
       "  <thead>\n",
       "    <tr style=\"text-align: right;\">\n",
       "      <th></th>\n",
       "      <th>deal_id</th>\n",
       "      <th>funded_amount</th>\n",
       "      <th>funded_date</th>\n",
       "      <th>industry_id</th>\n",
       "      <th>year</th>\n",
       "    </tr>\n",
       "  </thead>\n",
       "  <tbody>\n",
       "    <tr>\n",
       "      <th>0</th>\n",
       "      <td>a4Gf1000000nS5ZEAU</td>\n",
       "      <td>175000</td>\n",
       "      <td>2020-04-03</td>\n",
       "      <td>3</td>\n",
       "      <td>2020</td>\n",
       "    </tr>\n",
       "    <tr>\n",
       "      <th>2</th>\n",
       "      <td>a4Gf1000000nS5nEAE</td>\n",
       "      <td>6600</td>\n",
       "      <td>2020-09-25</td>\n",
       "      <td>3</td>\n",
       "      <td>2020</td>\n",
       "    </tr>\n",
       "    <tr>\n",
       "      <th>4</th>\n",
       "      <td>a4Gf1000000nS5uEAE</td>\n",
       "      <td>5600</td>\n",
       "      <td>2020-03-14</td>\n",
       "      <td>3</td>\n",
       "      <td>2020</td>\n",
       "    </tr>\n",
       "    <tr>\n",
       "      <th>17</th>\n",
       "      <td>a4Gf1000000nS6xEAE</td>\n",
       "      <td>8800</td>\n",
       "      <td>2020-11-22</td>\n",
       "      <td>3</td>\n",
       "      <td>2020</td>\n",
       "    </tr>\n",
       "    <tr>\n",
       "      <th>18</th>\n",
       "      <td>a4Gf1000000nS73EAE</td>\n",
       "      <td>30000</td>\n",
       "      <td>2020-09-27</td>\n",
       "      <td>3</td>\n",
       "      <td>2020</td>\n",
       "    </tr>\n",
       "  </tbody>\n",
       "</table>\n",
       "</div>"
      ],
      "text/plain": [
       "               deal_id  funded_amount funded_date  industry_id  year\n",
       "0   a4Gf1000000nS5ZEAU         175000  2020-04-03            3  2020\n",
       "2   a4Gf1000000nS5nEAE           6600  2020-09-25            3  2020\n",
       "4   a4Gf1000000nS5uEAE           5600  2020-03-14            3  2020\n",
       "17  a4Gf1000000nS6xEAE           8800  2020-11-22            3  2020\n",
       "18  a4Gf1000000nS73EAE          30000  2020-09-27            3  2020"
      ]
     },
     "execution_count": 35,
     "metadata": {},
     "output_type": "execute_result"
    }
   ],
   "source": [
    "year_2020_per_technology_industry = year_2020[year_2020['industry_id']==3]\n",
    "year_2020_per_technology_industry.head()"
   ]
  },
  {
   "cell_type": "code",
   "execution_count": 36,
   "id": "49594922",
   "metadata": {},
   "outputs": [
    {
     "data": {
      "text/html": [
       "<div>\n",
       "<style scoped>\n",
       "    .dataframe tbody tr th:only-of-type {\n",
       "        vertical-align: middle;\n",
       "    }\n",
       "\n",
       "    .dataframe tbody tr th {\n",
       "        vertical-align: top;\n",
       "    }\n",
       "\n",
       "    .dataframe thead th {\n",
       "        text-align: right;\n",
       "    }\n",
       "</style>\n",
       "<table border=\"1\" class=\"dataframe\">\n",
       "  <thead>\n",
       "    <tr style=\"text-align: right;\">\n",
       "      <th></th>\n",
       "      <th>deal_id</th>\n",
       "      <th>funded_amount</th>\n",
       "      <th>funded_date</th>\n",
       "      <th>industry_id</th>\n",
       "      <th>year</th>\n",
       "    </tr>\n",
       "  </thead>\n",
       "  <tbody>\n",
       "    <tr>\n",
       "      <th>3</th>\n",
       "      <td>a4Gf1000000nS5pEAE</td>\n",
       "      <td>13000</td>\n",
       "      <td>2020-04-27</td>\n",
       "      <td>4</td>\n",
       "      <td>2020</td>\n",
       "    </tr>\n",
       "    <tr>\n",
       "      <th>10</th>\n",
       "      <td>a4Gf1000000nS6KEAU</td>\n",
       "      <td>8800</td>\n",
       "      <td>2020-04-19</td>\n",
       "      <td>4</td>\n",
       "      <td>2020</td>\n",
       "    </tr>\n",
       "    <tr>\n",
       "      <th>14</th>\n",
       "      <td>a4Gf1000000nS6qEAE</td>\n",
       "      <td>8000</td>\n",
       "      <td>2020-03-20</td>\n",
       "      <td>4</td>\n",
       "      <td>2020</td>\n",
       "    </tr>\n",
       "    <tr>\n",
       "      <th>33</th>\n",
       "      <td>a4Gf1000000nSLVEA2</td>\n",
       "      <td>4000</td>\n",
       "      <td>2020-06-14</td>\n",
       "      <td>4</td>\n",
       "      <td>2020</td>\n",
       "    </tr>\n",
       "    <tr>\n",
       "      <th>37</th>\n",
       "      <td>a4Gf1000000nSLmEAM</td>\n",
       "      <td>20000</td>\n",
       "      <td>2020-01-09</td>\n",
       "      <td>4</td>\n",
       "      <td>2020</td>\n",
       "    </tr>\n",
       "  </tbody>\n",
       "</table>\n",
       "</div>"
      ],
      "text/plain": [
       "               deal_id  funded_amount funded_date  industry_id  year\n",
       "3   a4Gf1000000nS5pEAE          13000  2020-04-27            4  2020\n",
       "10  a4Gf1000000nS6KEAU           8800  2020-04-19            4  2020\n",
       "14  a4Gf1000000nS6qEAE           8000  2020-03-20            4  2020\n",
       "33  a4Gf1000000nSLVEA2           4000  2020-06-14            4  2020\n",
       "37  a4Gf1000000nSLmEAM          20000  2020-01-09            4  2020"
      ]
     },
     "execution_count": 36,
     "metadata": {},
     "output_type": "execute_result"
    }
   ],
   "source": [
    "year_2020_per_other_industry = year_2020[year_2020['industry_id']==4]\n",
    "year_2020_per_other_industry.head()"
   ]
  },
  {
   "cell_type": "markdown",
   "id": "b211ee67",
   "metadata": {},
   "source": [
    "## 2019 year "
   ]
  },
  {
   "cell_type": "code",
   "execution_count": 37,
   "id": "47375580",
   "metadata": {},
   "outputs": [
    {
     "data": {
      "text/html": [
       "<div>\n",
       "<style scoped>\n",
       "    .dataframe tbody tr th:only-of-type {\n",
       "        vertical-align: middle;\n",
       "    }\n",
       "\n",
       "    .dataframe tbody tr th {\n",
       "        vertical-align: top;\n",
       "    }\n",
       "\n",
       "    .dataframe thead th {\n",
       "        text-align: right;\n",
       "    }\n",
       "</style>\n",
       "<table border=\"1\" class=\"dataframe\">\n",
       "  <thead>\n",
       "    <tr style=\"text-align: right;\">\n",
       "      <th></th>\n",
       "      <th>deal_id</th>\n",
       "      <th>funded_amount</th>\n",
       "      <th>funded_date</th>\n",
       "      <th>industry_id</th>\n",
       "      <th>year</th>\n",
       "    </tr>\n",
       "  </thead>\n",
       "  <tbody>\n",
       "    <tr>\n",
       "      <th>1</th>\n",
       "      <td>a4Gf1000000nS5jEAE</td>\n",
       "      <td>3800</td>\n",
       "      <td>2019-05-21</td>\n",
       "      <td>3</td>\n",
       "      <td>2019</td>\n",
       "    </tr>\n",
       "    <tr>\n",
       "      <th>6</th>\n",
       "      <td>a4Gf1000000nS64EAE</td>\n",
       "      <td>35000</td>\n",
       "      <td>2019-06-25</td>\n",
       "      <td>1</td>\n",
       "      <td>2019</td>\n",
       "    </tr>\n",
       "    <tr>\n",
       "      <th>7</th>\n",
       "      <td>a4Gf1000000nS6CEAU</td>\n",
       "      <td>45000</td>\n",
       "      <td>2019-03-17</td>\n",
       "      <td>1</td>\n",
       "      <td>2019</td>\n",
       "    </tr>\n",
       "    <tr>\n",
       "      <th>9</th>\n",
       "      <td>a4Gf1000000nS6JEAU</td>\n",
       "      <td>3900</td>\n",
       "      <td>2019-01-20</td>\n",
       "      <td>4</td>\n",
       "      <td>2019</td>\n",
       "    </tr>\n",
       "    <tr>\n",
       "      <th>15</th>\n",
       "      <td>a4Gf1000000nS6rEAE</td>\n",
       "      <td>3500</td>\n",
       "      <td>2019-02-01</td>\n",
       "      <td>1</td>\n",
       "      <td>2019</td>\n",
       "    </tr>\n",
       "  </tbody>\n",
       "</table>\n",
       "</div>"
      ],
      "text/plain": [
       "               deal_id  funded_amount funded_date  industry_id  year\n",
       "1   a4Gf1000000nS5jEAE           3800  2019-05-21            3  2019\n",
       "6   a4Gf1000000nS64EAE          35000  2019-06-25            1  2019\n",
       "7   a4Gf1000000nS6CEAU          45000  2019-03-17            1  2019\n",
       "9   a4Gf1000000nS6JEAU           3900  2019-01-20            4  2019\n",
       "15  a4Gf1000000nS6rEAE           3500  2019-02-01            1  2019"
      ]
     },
     "execution_count": 37,
     "metadata": {},
     "output_type": "execute_result"
    }
   ],
   "source": [
    "year_2019.head()"
   ]
  },
  {
   "cell_type": "code",
   "execution_count": 38,
   "id": "2438986e",
   "metadata": {},
   "outputs": [
    {
     "data": {
      "text/html": [
       "<div>\n",
       "<style scoped>\n",
       "    .dataframe tbody tr th:only-of-type {\n",
       "        vertical-align: middle;\n",
       "    }\n",
       "\n",
       "    .dataframe tbody tr th {\n",
       "        vertical-align: top;\n",
       "    }\n",
       "\n",
       "    .dataframe thead th {\n",
       "        text-align: right;\n",
       "    }\n",
       "</style>\n",
       "<table border=\"1\" class=\"dataframe\">\n",
       "  <thead>\n",
       "    <tr style=\"text-align: right;\">\n",
       "      <th></th>\n",
       "      <th>deal_id</th>\n",
       "      <th>funded_amount</th>\n",
       "      <th>funded_date</th>\n",
       "      <th>industry_id</th>\n",
       "      <th>year</th>\n",
       "    </tr>\n",
       "  </thead>\n",
       "  <tbody>\n",
       "    <tr>\n",
       "      <th>6</th>\n",
       "      <td>a4Gf1000000nS64EAE</td>\n",
       "      <td>35000</td>\n",
       "      <td>2019-06-25</td>\n",
       "      <td>1</td>\n",
       "      <td>2019</td>\n",
       "    </tr>\n",
       "    <tr>\n",
       "      <th>7</th>\n",
       "      <td>a4Gf1000000nS6CEAU</td>\n",
       "      <td>45000</td>\n",
       "      <td>2019-03-17</td>\n",
       "      <td>1</td>\n",
       "      <td>2019</td>\n",
       "    </tr>\n",
       "    <tr>\n",
       "      <th>15</th>\n",
       "      <td>a4Gf1000000nS6rEAE</td>\n",
       "      <td>3500</td>\n",
       "      <td>2019-02-01</td>\n",
       "      <td>1</td>\n",
       "      <td>2019</td>\n",
       "    </tr>\n",
       "    <tr>\n",
       "      <th>16</th>\n",
       "      <td>a4Gf1000000nS6sEAE</td>\n",
       "      <td>25000</td>\n",
       "      <td>2019-07-26</td>\n",
       "      <td>1</td>\n",
       "      <td>2019</td>\n",
       "    </tr>\n",
       "    <tr>\n",
       "      <th>28</th>\n",
       "      <td>a4Gf1000000nSL5EAM</td>\n",
       "      <td>7000</td>\n",
       "      <td>2019-10-10</td>\n",
       "      <td>1</td>\n",
       "      <td>2019</td>\n",
       "    </tr>\n",
       "  </tbody>\n",
       "</table>\n",
       "</div>"
      ],
      "text/plain": [
       "               deal_id  funded_amount funded_date  industry_id  year\n",
       "6   a4Gf1000000nS64EAE          35000  2019-06-25            1  2019\n",
       "7   a4Gf1000000nS6CEAU          45000  2019-03-17            1  2019\n",
       "15  a4Gf1000000nS6rEAE           3500  2019-02-01            1  2019\n",
       "16  a4Gf1000000nS6sEAE          25000  2019-07-26            1  2019\n",
       "28  a4Gf1000000nSL5EAM           7000  2019-10-10            1  2019"
      ]
     },
     "execution_count": 38,
     "metadata": {},
     "output_type": "execute_result"
    }
   ],
   "source": [
    "year_2019_per_commercial_industry = year_2019[year_2019['industry_id']==1]\n",
    "year_2019_per_commercial_industry.head()"
   ]
  },
  {
   "cell_type": "code",
   "execution_count": 39,
   "id": "78a17073",
   "metadata": {},
   "outputs": [
    {
     "data": {
      "text/html": [
       "<div>\n",
       "<style scoped>\n",
       "    .dataframe tbody tr th:only-of-type {\n",
       "        vertical-align: middle;\n",
       "    }\n",
       "\n",
       "    .dataframe tbody tr th {\n",
       "        vertical-align: top;\n",
       "    }\n",
       "\n",
       "    .dataframe thead th {\n",
       "        text-align: right;\n",
       "    }\n",
       "</style>\n",
       "<table border=\"1\" class=\"dataframe\">\n",
       "  <thead>\n",
       "    <tr style=\"text-align: right;\">\n",
       "      <th></th>\n",
       "      <th>deal_id</th>\n",
       "      <th>funded_amount</th>\n",
       "      <th>funded_date</th>\n",
       "      <th>industry_id</th>\n",
       "      <th>year</th>\n",
       "    </tr>\n",
       "  </thead>\n",
       "  <tbody>\n",
       "    <tr>\n",
       "      <th>38</th>\n",
       "      <td>a4Gf1000000nSLnEAM</td>\n",
       "      <td>12000</td>\n",
       "      <td>2019-12-18</td>\n",
       "      <td>2</td>\n",
       "      <td>2019</td>\n",
       "    </tr>\n",
       "    <tr>\n",
       "      <th>55</th>\n",
       "      <td>a4Gf1000000nSMeEAM</td>\n",
       "      <td>3300</td>\n",
       "      <td>2019-01-12</td>\n",
       "      <td>2</td>\n",
       "      <td>2019</td>\n",
       "    </tr>\n",
       "    <tr>\n",
       "      <th>72</th>\n",
       "      <td>a4Gf1000000nSNwEAM</td>\n",
       "      <td>2500</td>\n",
       "      <td>2019-12-02</td>\n",
       "      <td>2</td>\n",
       "      <td>2019</td>\n",
       "    </tr>\n",
       "    <tr>\n",
       "      <th>74</th>\n",
       "      <td>a4Gf1000000nSNzEAM</td>\n",
       "      <td>10500</td>\n",
       "      <td>2019-05-23</td>\n",
       "      <td>2</td>\n",
       "      <td>2019</td>\n",
       "    </tr>\n",
       "    <tr>\n",
       "      <th>78</th>\n",
       "      <td>a4Gf1000000nSOMEA2</td>\n",
       "      <td>8500</td>\n",
       "      <td>2019-02-01</td>\n",
       "      <td>2</td>\n",
       "      <td>2019</td>\n",
       "    </tr>\n",
       "  </tbody>\n",
       "</table>\n",
       "</div>"
      ],
      "text/plain": [
       "               deal_id  funded_amount funded_date  industry_id  year\n",
       "38  a4Gf1000000nSLnEAM          12000  2019-12-18            2  2019\n",
       "55  a4Gf1000000nSMeEAM           3300  2019-01-12            2  2019\n",
       "72  a4Gf1000000nSNwEAM           2500  2019-12-02            2  2019\n",
       "74  a4Gf1000000nSNzEAM          10500  2019-05-23            2  2019\n",
       "78  a4Gf1000000nSOMEA2           8500  2019-02-01            2  2019"
      ]
     },
     "execution_count": 39,
     "metadata": {},
     "output_type": "execute_result"
    }
   ],
   "source": [
    "year_2019_per_real_estate_industry = year_2019[year_2019['industry_id']==2]\n",
    "year_2019_per_real_estate_industry.head()"
   ]
  },
  {
   "cell_type": "code",
   "execution_count": 40,
   "id": "be34cdbc",
   "metadata": {},
   "outputs": [
    {
     "data": {
      "text/html": [
       "<div>\n",
       "<style scoped>\n",
       "    .dataframe tbody tr th:only-of-type {\n",
       "        vertical-align: middle;\n",
       "    }\n",
       "\n",
       "    .dataframe tbody tr th {\n",
       "        vertical-align: top;\n",
       "    }\n",
       "\n",
       "    .dataframe thead th {\n",
       "        text-align: right;\n",
       "    }\n",
       "</style>\n",
       "<table border=\"1\" class=\"dataframe\">\n",
       "  <thead>\n",
       "    <tr style=\"text-align: right;\">\n",
       "      <th></th>\n",
       "      <th>deal_id</th>\n",
       "      <th>funded_amount</th>\n",
       "      <th>funded_date</th>\n",
       "      <th>industry_id</th>\n",
       "      <th>year</th>\n",
       "    </tr>\n",
       "  </thead>\n",
       "  <tbody>\n",
       "    <tr>\n",
       "      <th>1</th>\n",
       "      <td>a4Gf1000000nS5jEAE</td>\n",
       "      <td>3800</td>\n",
       "      <td>2019-05-21</td>\n",
       "      <td>3</td>\n",
       "      <td>2019</td>\n",
       "    </tr>\n",
       "    <tr>\n",
       "      <th>26</th>\n",
       "      <td>a4Gf1000000nS7mEAE</td>\n",
       "      <td>4500</td>\n",
       "      <td>2019-05-23</td>\n",
       "      <td>3</td>\n",
       "      <td>2019</td>\n",
       "    </tr>\n",
       "    <tr>\n",
       "      <th>27</th>\n",
       "      <td>a4Gf1000000nS7nEAE</td>\n",
       "      <td>5200</td>\n",
       "      <td>2019-06-26</td>\n",
       "      <td>3</td>\n",
       "      <td>2019</td>\n",
       "    </tr>\n",
       "    <tr>\n",
       "      <th>50</th>\n",
       "      <td>a4Gf1000000nSMVEA2</td>\n",
       "      <td>8800</td>\n",
       "      <td>2019-01-06</td>\n",
       "      <td>3</td>\n",
       "      <td>2019</td>\n",
       "    </tr>\n",
       "    <tr>\n",
       "      <th>54</th>\n",
       "      <td>a4Gf1000000nSMbEAM</td>\n",
       "      <td>6500</td>\n",
       "      <td>2019-10-17</td>\n",
       "      <td>3</td>\n",
       "      <td>2019</td>\n",
       "    </tr>\n",
       "  </tbody>\n",
       "</table>\n",
       "</div>"
      ],
      "text/plain": [
       "               deal_id  funded_amount funded_date  industry_id  year\n",
       "1   a4Gf1000000nS5jEAE           3800  2019-05-21            3  2019\n",
       "26  a4Gf1000000nS7mEAE           4500  2019-05-23            3  2019\n",
       "27  a4Gf1000000nS7nEAE           5200  2019-06-26            3  2019\n",
       "50  a4Gf1000000nSMVEA2           8800  2019-01-06            3  2019\n",
       "54  a4Gf1000000nSMbEAM           6500  2019-10-17            3  2019"
      ]
     },
     "execution_count": 40,
     "metadata": {},
     "output_type": "execute_result"
    }
   ],
   "source": [
    "year_2019_per_technology_industry = year_2019[year_2019['industry_id']==3]\n",
    "year_2019_per_technology_industry.head()"
   ]
  },
  {
   "cell_type": "code",
   "execution_count": 41,
   "id": "93cdbfc1",
   "metadata": {},
   "outputs": [
    {
     "data": {
      "text/html": [
       "<div>\n",
       "<style scoped>\n",
       "    .dataframe tbody tr th:only-of-type {\n",
       "        vertical-align: middle;\n",
       "    }\n",
       "\n",
       "    .dataframe tbody tr th {\n",
       "        vertical-align: top;\n",
       "    }\n",
       "\n",
       "    .dataframe thead th {\n",
       "        text-align: right;\n",
       "    }\n",
       "</style>\n",
       "<table border=\"1\" class=\"dataframe\">\n",
       "  <thead>\n",
       "    <tr style=\"text-align: right;\">\n",
       "      <th></th>\n",
       "      <th>deal_id</th>\n",
       "      <th>funded_amount</th>\n",
       "      <th>funded_date</th>\n",
       "      <th>industry_id</th>\n",
       "      <th>year</th>\n",
       "    </tr>\n",
       "  </thead>\n",
       "  <tbody>\n",
       "    <tr>\n",
       "      <th>9</th>\n",
       "      <td>a4Gf1000000nS6JEAU</td>\n",
       "      <td>3900</td>\n",
       "      <td>2019-01-20</td>\n",
       "      <td>4</td>\n",
       "      <td>2019</td>\n",
       "    </tr>\n",
       "    <tr>\n",
       "      <th>59</th>\n",
       "      <td>a4Gf1000000nSMvEAM</td>\n",
       "      <td>6600</td>\n",
       "      <td>2019-05-24</td>\n",
       "      <td>4</td>\n",
       "      <td>2019</td>\n",
       "    </tr>\n",
       "    <tr>\n",
       "      <th>67</th>\n",
       "      <td>a4Gf1000000nSNVEA2</td>\n",
       "      <td>3000</td>\n",
       "      <td>2019-05-05</td>\n",
       "      <td>4</td>\n",
       "      <td>2019</td>\n",
       "    </tr>\n",
       "    <tr>\n",
       "      <th>70</th>\n",
       "      <td>a4Gf1000000nSNnEAM</td>\n",
       "      <td>10000</td>\n",
       "      <td>2019-07-18</td>\n",
       "      <td>4</td>\n",
       "      <td>2019</td>\n",
       "    </tr>\n",
       "    <tr>\n",
       "      <th>84</th>\n",
       "      <td>a4Gf1000000nSOiEAM</td>\n",
       "      <td>200000</td>\n",
       "      <td>2019-06-25</td>\n",
       "      <td>4</td>\n",
       "      <td>2019</td>\n",
       "    </tr>\n",
       "  </tbody>\n",
       "</table>\n",
       "</div>"
      ],
      "text/plain": [
       "               deal_id  funded_amount funded_date  industry_id  year\n",
       "9   a4Gf1000000nS6JEAU           3900  2019-01-20            4  2019\n",
       "59  a4Gf1000000nSMvEAM           6600  2019-05-24            4  2019\n",
       "67  a4Gf1000000nSNVEA2           3000  2019-05-05            4  2019\n",
       "70  a4Gf1000000nSNnEAM          10000  2019-07-18            4  2019\n",
       "84  a4Gf1000000nSOiEAM         200000  2019-06-25            4  2019"
      ]
     },
     "execution_count": 41,
     "metadata": {},
     "output_type": "execute_result"
    }
   ],
   "source": [
    "year_2019_per_other_industry = year_2019[year_2019['industry_id']==4]\n",
    "year_2019_per_other_industry.head()"
   ]
  },
  {
   "cell_type": "markdown",
   "id": "f0439daf",
   "metadata": {},
   "source": [
    "## 2018 year"
   ]
  },
  {
   "cell_type": "code",
   "execution_count": 42,
   "id": "6a20ebf0",
   "metadata": {},
   "outputs": [
    {
     "data": {
      "text/html": [
       "<div>\n",
       "<style scoped>\n",
       "    .dataframe tbody tr th:only-of-type {\n",
       "        vertical-align: middle;\n",
       "    }\n",
       "\n",
       "    .dataframe tbody tr th {\n",
       "        vertical-align: top;\n",
       "    }\n",
       "\n",
       "    .dataframe thead th {\n",
       "        text-align: right;\n",
       "    }\n",
       "</style>\n",
       "<table border=\"1\" class=\"dataframe\">\n",
       "  <thead>\n",
       "    <tr style=\"text-align: right;\">\n",
       "      <th></th>\n",
       "      <th>deal_id</th>\n",
       "      <th>funded_amount</th>\n",
       "      <th>funded_date</th>\n",
       "      <th>industry_id</th>\n",
       "      <th>year</th>\n",
       "    </tr>\n",
       "  </thead>\n",
       "  <tbody>\n",
       "    <tr>\n",
       "      <th>5</th>\n",
       "      <td>a4Gf1000000nS5vEAE</td>\n",
       "      <td>180000</td>\n",
       "      <td>2018-08-12</td>\n",
       "      <td>3</td>\n",
       "      <td>2018</td>\n",
       "    </tr>\n",
       "    <tr>\n",
       "      <th>8</th>\n",
       "      <td>a4Gf1000000nS6IEAU</td>\n",
       "      <td>20000</td>\n",
       "      <td>2018-01-01</td>\n",
       "      <td>1</td>\n",
       "      <td>2018</td>\n",
       "    </tr>\n",
       "    <tr>\n",
       "      <th>21</th>\n",
       "      <td>a4Gf1000000nS7JEAU</td>\n",
       "      <td>8800</td>\n",
       "      <td>2018-06-09</td>\n",
       "      <td>4</td>\n",
       "      <td>2018</td>\n",
       "    </tr>\n",
       "    <tr>\n",
       "      <th>22</th>\n",
       "      <td>a4Gf1000000nS7MEAU</td>\n",
       "      <td>12000</td>\n",
       "      <td>2018-10-03</td>\n",
       "      <td>3</td>\n",
       "      <td>2018</td>\n",
       "    </tr>\n",
       "    <tr>\n",
       "      <th>24</th>\n",
       "      <td>a4Gf1000000nS7fEAE</td>\n",
       "      <td>7500</td>\n",
       "      <td>2018-06-06</td>\n",
       "      <td>3</td>\n",
       "      <td>2018</td>\n",
       "    </tr>\n",
       "  </tbody>\n",
       "</table>\n",
       "</div>"
      ],
      "text/plain": [
       "               deal_id  funded_amount funded_date  industry_id  year\n",
       "5   a4Gf1000000nS5vEAE         180000  2018-08-12            3  2018\n",
       "8   a4Gf1000000nS6IEAU          20000  2018-01-01            1  2018\n",
       "21  a4Gf1000000nS7JEAU           8800  2018-06-09            4  2018\n",
       "22  a4Gf1000000nS7MEAU          12000  2018-10-03            3  2018\n",
       "24  a4Gf1000000nS7fEAE           7500  2018-06-06            3  2018"
      ]
     },
     "execution_count": 42,
     "metadata": {},
     "output_type": "execute_result"
    }
   ],
   "source": [
    "year_2018.head()"
   ]
  },
  {
   "cell_type": "code",
   "execution_count": 43,
   "id": "47e2294a",
   "metadata": {},
   "outputs": [
    {
     "data": {
      "text/html": [
       "<div>\n",
       "<style scoped>\n",
       "    .dataframe tbody tr th:only-of-type {\n",
       "        vertical-align: middle;\n",
       "    }\n",
       "\n",
       "    .dataframe tbody tr th {\n",
       "        vertical-align: top;\n",
       "    }\n",
       "\n",
       "    .dataframe thead th {\n",
       "        text-align: right;\n",
       "    }\n",
       "</style>\n",
       "<table border=\"1\" class=\"dataframe\">\n",
       "  <thead>\n",
       "    <tr style=\"text-align: right;\">\n",
       "      <th></th>\n",
       "      <th>deal_id</th>\n",
       "      <th>funded_amount</th>\n",
       "      <th>funded_date</th>\n",
       "      <th>industry_id</th>\n",
       "      <th>year</th>\n",
       "    </tr>\n",
       "  </thead>\n",
       "  <tbody>\n",
       "    <tr>\n",
       "      <th>8</th>\n",
       "      <td>a4Gf1000000nS6IEAU</td>\n",
       "      <td>20000</td>\n",
       "      <td>2018-01-01</td>\n",
       "      <td>1</td>\n",
       "      <td>2018</td>\n",
       "    </tr>\n",
       "    <tr>\n",
       "      <th>39</th>\n",
       "      <td>a4Gf1000000nSLuEAM</td>\n",
       "      <td>10000</td>\n",
       "      <td>2018-07-24</td>\n",
       "      <td>1</td>\n",
       "      <td>2018</td>\n",
       "    </tr>\n",
       "    <tr>\n",
       "      <th>45</th>\n",
       "      <td>a4Gf1000000nSMCEA2</td>\n",
       "      <td>7000</td>\n",
       "      <td>2018-05-15</td>\n",
       "      <td>1</td>\n",
       "      <td>2018</td>\n",
       "    </tr>\n",
       "    <tr>\n",
       "      <th>46</th>\n",
       "      <td>a4Gf1000000nSMHEA2</td>\n",
       "      <td>20000</td>\n",
       "      <td>2018-09-05</td>\n",
       "      <td>1</td>\n",
       "      <td>2018</td>\n",
       "    </tr>\n",
       "    <tr>\n",
       "      <th>47</th>\n",
       "      <td>a4Gf1000000nSMKEA2</td>\n",
       "      <td>6300</td>\n",
       "      <td>2018-05-15</td>\n",
       "      <td>1</td>\n",
       "      <td>2018</td>\n",
       "    </tr>\n",
       "  </tbody>\n",
       "</table>\n",
       "</div>"
      ],
      "text/plain": [
       "               deal_id  funded_amount funded_date  industry_id  year\n",
       "8   a4Gf1000000nS6IEAU          20000  2018-01-01            1  2018\n",
       "39  a4Gf1000000nSLuEAM          10000  2018-07-24            1  2018\n",
       "45  a4Gf1000000nSMCEA2           7000  2018-05-15            1  2018\n",
       "46  a4Gf1000000nSMHEA2          20000  2018-09-05            1  2018\n",
       "47  a4Gf1000000nSMKEA2           6300  2018-05-15            1  2018"
      ]
     },
     "execution_count": 43,
     "metadata": {},
     "output_type": "execute_result"
    }
   ],
   "source": [
    "year_2018_per_commercial_industry = year_2018[year_2018['industry_id']==1]\n",
    "year_2018_per_commercial_industry.head()"
   ]
  },
  {
   "cell_type": "code",
   "execution_count": 44,
   "id": "3c574415",
   "metadata": {},
   "outputs": [
    {
     "data": {
      "text/html": [
       "<div>\n",
       "<style scoped>\n",
       "    .dataframe tbody tr th:only-of-type {\n",
       "        vertical-align: middle;\n",
       "    }\n",
       "\n",
       "    .dataframe tbody tr th {\n",
       "        vertical-align: top;\n",
       "    }\n",
       "\n",
       "    .dataframe thead th {\n",
       "        text-align: right;\n",
       "    }\n",
       "</style>\n",
       "<table border=\"1\" class=\"dataframe\">\n",
       "  <thead>\n",
       "    <tr style=\"text-align: right;\">\n",
       "      <th></th>\n",
       "      <th>deal_id</th>\n",
       "      <th>funded_amount</th>\n",
       "      <th>funded_date</th>\n",
       "      <th>industry_id</th>\n",
       "      <th>year</th>\n",
       "    </tr>\n",
       "  </thead>\n",
       "  <tbody>\n",
       "    <tr>\n",
       "      <th>32</th>\n",
       "      <td>a4Gf1000000nSLSEA2</td>\n",
       "      <td>2500</td>\n",
       "      <td>2018-10-17</td>\n",
       "      <td>2</td>\n",
       "      <td>2018</td>\n",
       "    </tr>\n",
       "    <tr>\n",
       "      <th>57</th>\n",
       "      <td>a4Gf1000000nSMrEAM</td>\n",
       "      <td>5000</td>\n",
       "      <td>2018-06-27</td>\n",
       "      <td>2</td>\n",
       "      <td>2018</td>\n",
       "    </tr>\n",
       "    <tr>\n",
       "      <th>61</th>\n",
       "      <td>a4Gf1000000nSMzEAM</td>\n",
       "      <td>7000</td>\n",
       "      <td>2018-07-01</td>\n",
       "      <td>2</td>\n",
       "      <td>2018</td>\n",
       "    </tr>\n",
       "    <tr>\n",
       "      <th>68</th>\n",
       "      <td>a4Gf1000000nSNbEAM</td>\n",
       "      <td>18000</td>\n",
       "      <td>2018-12-01</td>\n",
       "      <td>2</td>\n",
       "      <td>2018</td>\n",
       "    </tr>\n",
       "    <tr>\n",
       "      <th>79</th>\n",
       "      <td>a4Gf1000000nSONEA2</td>\n",
       "      <td>7500</td>\n",
       "      <td>2018-07-18</td>\n",
       "      <td>2</td>\n",
       "      <td>2018</td>\n",
       "    </tr>\n",
       "  </tbody>\n",
       "</table>\n",
       "</div>"
      ],
      "text/plain": [
       "               deal_id  funded_amount funded_date  industry_id  year\n",
       "32  a4Gf1000000nSLSEA2           2500  2018-10-17            2  2018\n",
       "57  a4Gf1000000nSMrEAM           5000  2018-06-27            2  2018\n",
       "61  a4Gf1000000nSMzEAM           7000  2018-07-01            2  2018\n",
       "68  a4Gf1000000nSNbEAM          18000  2018-12-01            2  2018\n",
       "79  a4Gf1000000nSONEA2           7500  2018-07-18            2  2018"
      ]
     },
     "execution_count": 44,
     "metadata": {},
     "output_type": "execute_result"
    }
   ],
   "source": [
    "year_2018_per_real_estate_industry = year_2018[year_2018['industry_id']==2]\n",
    "year_2018_per_real_estate_industry.head()"
   ]
  },
  {
   "cell_type": "code",
   "execution_count": 45,
   "id": "9dfa8406",
   "metadata": {},
   "outputs": [
    {
     "data": {
      "text/html": [
       "<div>\n",
       "<style scoped>\n",
       "    .dataframe tbody tr th:only-of-type {\n",
       "        vertical-align: middle;\n",
       "    }\n",
       "\n",
       "    .dataframe tbody tr th {\n",
       "        vertical-align: top;\n",
       "    }\n",
       "\n",
       "    .dataframe thead th {\n",
       "        text-align: right;\n",
       "    }\n",
       "</style>\n",
       "<table border=\"1\" class=\"dataframe\">\n",
       "  <thead>\n",
       "    <tr style=\"text-align: right;\">\n",
       "      <th></th>\n",
       "      <th>deal_id</th>\n",
       "      <th>funded_amount</th>\n",
       "      <th>funded_date</th>\n",
       "      <th>industry_id</th>\n",
       "      <th>year</th>\n",
       "    </tr>\n",
       "  </thead>\n",
       "  <tbody>\n",
       "    <tr>\n",
       "      <th>5</th>\n",
       "      <td>a4Gf1000000nS5vEAE</td>\n",
       "      <td>180000</td>\n",
       "      <td>2018-08-12</td>\n",
       "      <td>3</td>\n",
       "      <td>2018</td>\n",
       "    </tr>\n",
       "    <tr>\n",
       "      <th>22</th>\n",
       "      <td>a4Gf1000000nS7MEAU</td>\n",
       "      <td>12000</td>\n",
       "      <td>2018-10-03</td>\n",
       "      <td>3</td>\n",
       "      <td>2018</td>\n",
       "    </tr>\n",
       "    <tr>\n",
       "      <th>24</th>\n",
       "      <td>a4Gf1000000nS7fEAE</td>\n",
       "      <td>7500</td>\n",
       "      <td>2018-06-06</td>\n",
       "      <td>3</td>\n",
       "      <td>2018</td>\n",
       "    </tr>\n",
       "    <tr>\n",
       "      <th>56</th>\n",
       "      <td>a4Gf1000000nSMjEAM</td>\n",
       "      <td>4500</td>\n",
       "      <td>2018-02-26</td>\n",
       "      <td>3</td>\n",
       "      <td>2018</td>\n",
       "    </tr>\n",
       "    <tr>\n",
       "      <th>77</th>\n",
       "      <td>a4Gf1000000nSOKEA2</td>\n",
       "      <td>4000</td>\n",
       "      <td>2018-05-01</td>\n",
       "      <td>3</td>\n",
       "      <td>2018</td>\n",
       "    </tr>\n",
       "  </tbody>\n",
       "</table>\n",
       "</div>"
      ],
      "text/plain": [
       "               deal_id  funded_amount funded_date  industry_id  year\n",
       "5   a4Gf1000000nS5vEAE         180000  2018-08-12            3  2018\n",
       "22  a4Gf1000000nS7MEAU          12000  2018-10-03            3  2018\n",
       "24  a4Gf1000000nS7fEAE           7500  2018-06-06            3  2018\n",
       "56  a4Gf1000000nSMjEAM           4500  2018-02-26            3  2018\n",
       "77  a4Gf1000000nSOKEA2           4000  2018-05-01            3  2018"
      ]
     },
     "execution_count": 45,
     "metadata": {},
     "output_type": "execute_result"
    }
   ],
   "source": [
    "year_2018_per_technology_industry = year_2018[year_2018['industry_id']==3]\n",
    "year_2018_per_technology_industry.head()"
   ]
  },
  {
   "cell_type": "code",
   "execution_count": 46,
   "id": "cc2a45ee",
   "metadata": {},
   "outputs": [
    {
     "data": {
      "text/html": [
       "<div>\n",
       "<style scoped>\n",
       "    .dataframe tbody tr th:only-of-type {\n",
       "        vertical-align: middle;\n",
       "    }\n",
       "\n",
       "    .dataframe tbody tr th {\n",
       "        vertical-align: top;\n",
       "    }\n",
       "\n",
       "    .dataframe thead th {\n",
       "        text-align: right;\n",
       "    }\n",
       "</style>\n",
       "<table border=\"1\" class=\"dataframe\">\n",
       "  <thead>\n",
       "    <tr style=\"text-align: right;\">\n",
       "      <th></th>\n",
       "      <th>deal_id</th>\n",
       "      <th>funded_amount</th>\n",
       "      <th>funded_date</th>\n",
       "      <th>industry_id</th>\n",
       "      <th>year</th>\n",
       "    </tr>\n",
       "  </thead>\n",
       "  <tbody>\n",
       "    <tr>\n",
       "      <th>21</th>\n",
       "      <td>a4Gf1000000nS7JEAU</td>\n",
       "      <td>8800</td>\n",
       "      <td>2018-06-09</td>\n",
       "      <td>4</td>\n",
       "      <td>2018</td>\n",
       "    </tr>\n",
       "    <tr>\n",
       "      <th>41</th>\n",
       "      <td>a4Gf1000000nSM0EAM</td>\n",
       "      <td>100000</td>\n",
       "      <td>2018-05-08</td>\n",
       "      <td>4</td>\n",
       "      <td>2018</td>\n",
       "    </tr>\n",
       "    <tr>\n",
       "      <th>73</th>\n",
       "      <td>a4Gf1000000nSNxEAM</td>\n",
       "      <td>3000</td>\n",
       "      <td>2018-08-03</td>\n",
       "      <td>4</td>\n",
       "      <td>2018</td>\n",
       "    </tr>\n",
       "    <tr>\n",
       "      <th>75</th>\n",
       "      <td>a4Gf1000000nSO9EAM</td>\n",
       "      <td>20000</td>\n",
       "      <td>2018-01-03</td>\n",
       "      <td>4</td>\n",
       "      <td>2018</td>\n",
       "    </tr>\n",
       "    <tr>\n",
       "      <th>76</th>\n",
       "      <td>a4Gf1000000nSOGEA2</td>\n",
       "      <td>15000</td>\n",
       "      <td>2018-03-11</td>\n",
       "      <td>4</td>\n",
       "      <td>2018</td>\n",
       "    </tr>\n",
       "  </tbody>\n",
       "</table>\n",
       "</div>"
      ],
      "text/plain": [
       "               deal_id  funded_amount funded_date  industry_id  year\n",
       "21  a4Gf1000000nS7JEAU           8800  2018-06-09            4  2018\n",
       "41  a4Gf1000000nSM0EAM         100000  2018-05-08            4  2018\n",
       "73  a4Gf1000000nSNxEAM           3000  2018-08-03            4  2018\n",
       "75  a4Gf1000000nSO9EAM          20000  2018-01-03            4  2018\n",
       "76  a4Gf1000000nSOGEA2          15000  2018-03-11            4  2018"
      ]
     },
     "execution_count": 46,
     "metadata": {},
     "output_type": "execute_result"
    }
   ],
   "source": [
    "year_2018_per_other_industry = year_2018[year_2018['industry_id']==4]\n",
    "year_2018_per_other_industry.head()"
   ]
  },
  {
   "cell_type": "markdown",
   "id": "b3fd4f69",
   "metadata": {},
   "source": [
    "# Fund Amount per year 2020"
   ]
  },
  {
   "cell_type": "code",
   "execution_count": 47,
   "id": "f558beb2",
   "metadata": {},
   "outputs": [
    {
     "data": {
      "text/plain": [
       "1542700"
      ]
     },
     "execution_count": 47,
     "metadata": {},
     "output_type": "execute_result"
    }
   ],
   "source": [
    "funded_amount_2020_commercial_industry = year_2020_per_commercial_industry['funded_amount'].sum()\n",
    "funded_amount_2020_commercial_industry"
   ]
  },
  {
   "cell_type": "code",
   "execution_count": 48,
   "id": "c71c98e3",
   "metadata": {},
   "outputs": [
    {
     "data": {
      "text/plain": [
       "2461200"
      ]
     },
     "execution_count": 48,
     "metadata": {},
     "output_type": "execute_result"
    }
   ],
   "source": [
    "funded_amount_2020_real_estate_industry = year_2020_per_real_estate_industry['funded_amount'].sum()\n",
    "funded_amount_2020_real_estate_industry"
   ]
  },
  {
   "cell_type": "code",
   "execution_count": 49,
   "id": "0b2d97f6",
   "metadata": {},
   "outputs": [
    {
     "data": {
      "text/plain": [
       "1318200"
      ]
     },
     "execution_count": 49,
     "metadata": {},
     "output_type": "execute_result"
    }
   ],
   "source": [
    "funded_amount_2020_technology_industry = year_2020_per_technology_industry['funded_amount'].sum()\n",
    "funded_amount_2020_technology_industry"
   ]
  },
  {
   "cell_type": "code",
   "execution_count": 50,
   "id": "f249517b",
   "metadata": {},
   "outputs": [
    {
     "data": {
      "text/plain": [
       "2363100"
      ]
     },
     "execution_count": 50,
     "metadata": {},
     "output_type": "execute_result"
    }
   ],
   "source": [
    "funded_amount_2020_other_industry = year_2020_per_other_industry['funded_amount'].sum()\n",
    "funded_amount_2020_other_industry"
   ]
  },
  {
   "cell_type": "markdown",
   "id": "2b4c96a1",
   "metadata": {},
   "source": [
    "# Fund Amount per year 2019"
   ]
  },
  {
   "cell_type": "code",
   "execution_count": 51,
   "id": "bf76f6cb",
   "metadata": {},
   "outputs": [
    {
     "data": {
      "text/plain": [
       "1441900"
      ]
     },
     "execution_count": 51,
     "metadata": {},
     "output_type": "execute_result"
    }
   ],
   "source": [
    "funded_amount_2019_commercial_industry = year_2019_per_commercial_industry['funded_amount'].sum()\n",
    "funded_amount_2019_commercial_industry"
   ]
  },
  {
   "cell_type": "code",
   "execution_count": 52,
   "id": "8fca70de",
   "metadata": {},
   "outputs": [
    {
     "data": {
      "text/plain": [
       "1802000"
      ]
     },
     "execution_count": 52,
     "metadata": {},
     "output_type": "execute_result"
    }
   ],
   "source": [
    "funded_amount_2019_real_estate_industry = year_2019_per_real_estate_industry['funded_amount'].sum()\n",
    "funded_amount_2019_real_estate_industry"
   ]
  },
  {
   "cell_type": "code",
   "execution_count": 53,
   "id": "03312112",
   "metadata": {},
   "outputs": [
    {
     "data": {
      "text/plain": [
       "1395500"
      ]
     },
     "execution_count": 53,
     "metadata": {},
     "output_type": "execute_result"
    }
   ],
   "source": [
    "funded_amount_2019_technology_industry = year_2019_per_technology_industry['funded_amount'].sum()\n",
    "funded_amount_2019_technology_industry"
   ]
  },
  {
   "cell_type": "code",
   "execution_count": 54,
   "id": "f5e76077",
   "metadata": {},
   "outputs": [
    {
     "data": {
      "text/plain": [
       "3146980"
      ]
     },
     "execution_count": 54,
     "metadata": {},
     "output_type": "execute_result"
    }
   ],
   "source": [
    "funded_amount_2019_other_industry = year_2019_per_other_industry['funded_amount'].sum()\n",
    "funded_amount_2019_other_industry"
   ]
  },
  {
   "cell_type": "markdown",
   "id": "045df430",
   "metadata": {},
   "source": [
    "##  Fund Amount per year 2018"
   ]
  },
  {
   "cell_type": "code",
   "execution_count": 55,
   "id": "0c63955b",
   "metadata": {},
   "outputs": [
    {
     "data": {
      "text/plain": [
       "1644900"
      ]
     },
     "execution_count": 55,
     "metadata": {},
     "output_type": "execute_result"
    }
   ],
   "source": [
    "funded_amount_2018_commercial_industry = year_2018_per_commercial_industry['funded_amount'].sum()\n",
    "funded_amount_2018_commercial_industry"
   ]
  },
  {
   "cell_type": "code",
   "execution_count": 56,
   "id": "f3e3c5fb",
   "metadata": {},
   "outputs": [
    {
     "data": {
      "text/plain": [
       "2403600"
      ]
     },
     "execution_count": 56,
     "metadata": {},
     "output_type": "execute_result"
    }
   ],
   "source": [
    "funded_amount_2018_real_estate_industry = year_2018_per_real_estate_industry['funded_amount'].sum()\n",
    "funded_amount_2018_real_estate_industry"
   ]
  },
  {
   "cell_type": "code",
   "execution_count": 57,
   "id": "1dc2c970",
   "metadata": {},
   "outputs": [
    {
     "data": {
      "text/plain": [
       "1253800"
      ]
     },
     "execution_count": 57,
     "metadata": {},
     "output_type": "execute_result"
    }
   ],
   "source": [
    "funded_amount_2018_technology_industry = year_2018_per_technology_industry['funded_amount'].sum()\n",
    "funded_amount_2018_technology_industry"
   ]
  },
  {
   "cell_type": "code",
   "execution_count": 58,
   "id": "821fb91b",
   "metadata": {},
   "outputs": [
    {
     "data": {
      "text/plain": [
       "2583800"
      ]
     },
     "execution_count": 58,
     "metadata": {},
     "output_type": "execute_result"
    }
   ],
   "source": [
    "funded_amount_2018_other_industry = year_2018_per_other_industry['funded_amount'].sum()\n",
    "funded_amount_2018_other_industry"
   ]
  },
  {
   "cell_type": "code",
   "execution_count": 59,
   "id": "08ffaf9e",
   "metadata": {},
   "outputs": [],
   "source": [
    "funded_amount_per_year = {\"Commercial Industry\":[funded_amount_2018_commercial_industry,funded_amount_2019_commercial_industry,funded_amount_2020_commercial_industry],\n",
    "                \"Real Estate Industry\":[funded_amount_2018_real_estate_industry,funded_amount_2019_real_estate_industry,funded_amount_2020_real_estate_industry],\n",
    "                \"Technology Industry\":[funded_amount_2018_technology_industry,funded_amount_2019_technology_industry,funded_amount_2020_technology_industry],\n",
    "                \"Other Industry\":[funded_amount_2018_other_industry,funded_amount_2019_other_industry,funded_amount_2020_other_industry]}"
   ]
  },
  {
   "cell_type": "code",
   "execution_count": 60,
   "id": "21f28b29",
   "metadata": {},
   "outputs": [],
   "source": [
    "funded_amount_per_year = pd.DataFrame(funded_amount_per_year, index=[2018, 2019, 2020])"
   ]
  },
  {
   "cell_type": "code",
   "execution_count": 61,
   "id": "5b42c743",
   "metadata": {},
   "outputs": [
    {
     "data": {
      "text/html": [
       "<div>\n",
       "<style scoped>\n",
       "    .dataframe tbody tr th:only-of-type {\n",
       "        vertical-align: middle;\n",
       "    }\n",
       "\n",
       "    .dataframe tbody tr th {\n",
       "        vertical-align: top;\n",
       "    }\n",
       "\n",
       "    .dataframe thead th {\n",
       "        text-align: right;\n",
       "    }\n",
       "</style>\n",
       "<table border=\"1\" class=\"dataframe\">\n",
       "  <thead>\n",
       "    <tr style=\"text-align: right;\">\n",
       "      <th></th>\n",
       "      <th>Commercial Industry</th>\n",
       "      <th>Real Estate Industry</th>\n",
       "      <th>Technology Industry</th>\n",
       "      <th>Other Industry</th>\n",
       "    </tr>\n",
       "  </thead>\n",
       "  <tbody>\n",
       "    <tr>\n",
       "      <th>2018</th>\n",
       "      <td>1644900</td>\n",
       "      <td>2403600</td>\n",
       "      <td>1253800</td>\n",
       "      <td>2583800</td>\n",
       "    </tr>\n",
       "    <tr>\n",
       "      <th>2019</th>\n",
       "      <td>1441900</td>\n",
       "      <td>1802000</td>\n",
       "      <td>1395500</td>\n",
       "      <td>3146980</td>\n",
       "    </tr>\n",
       "    <tr>\n",
       "      <th>2020</th>\n",
       "      <td>1542700</td>\n",
       "      <td>2461200</td>\n",
       "      <td>1318200</td>\n",
       "      <td>2363100</td>\n",
       "    </tr>\n",
       "  </tbody>\n",
       "</table>\n",
       "</div>"
      ],
      "text/plain": [
       "      Commercial Industry  Real Estate Industry  Technology Industry  \\\n",
       "2018              1644900               2403600              1253800   \n",
       "2019              1441900               1802000              1395500   \n",
       "2020              1542700               2461200              1318200   \n",
       "\n",
       "      Other Industry  \n",
       "2018         2583800  \n",
       "2019         3146980  \n",
       "2020         2363100  "
      ]
     },
     "execution_count": 61,
     "metadata": {},
     "output_type": "execute_result"
    }
   ],
   "source": [
    "funded_amount_per_year.head()"
   ]
  },
  {
   "cell_type": "code",
   "execution_count": 62,
   "id": "971e26d2",
   "metadata": {
    "scrolled": true
   },
   "outputs": [
    {
     "data": {
      "text/plain": [
       "Text(0.5, 1.0, 'Fund Amount per Industry by Year')"
      ]
     },
     "execution_count": 62,
     "metadata": {},
     "output_type": "execute_result"
    },
    {
     "data": {
      "image/png": "[encoded data removed]",
      "text/plain": [
       "<Figure size 640x480 with 1 Axes>"
      ]
     },
     "metadata": {},
     "output_type": "display_data"
    }
   ],
   "source": [
    "funded_amount_per_year.plot(kind='bar')\n",
    "plt.xlabel('Year')\n",
    "plt.ylabel('Fund Amount')\n",
    "plt.title('Fund Amount per Industry by Year')\n",
    "#plt.savefig('fund.png')"
   ]
  },
  {
   "cell_type": "markdown",
   "id": "8d3c1af5",
   "metadata": {},
   "source": [
    "## Funded Amount per Quarter"
   ]
  },
  {
   "cell_type": "code",
   "execution_count": 63,
   "id": "ee987832",
   "metadata": {},
   "outputs": [
    {
     "data": {
      "text/html": [
       "<div>\n",
       "<style scoped>\n",
       "    .dataframe tbody tr th:only-of-type {\n",
       "        vertical-align: middle;\n",
       "    }\n",
       "\n",
       "    .dataframe tbody tr th {\n",
       "        vertical-align: top;\n",
       "    }\n",
       "\n",
       "    .dataframe thead th {\n",
       "        text-align: right;\n",
       "    }\n",
       "</style>\n",
       "<table border=\"1\" class=\"dataframe\">\n",
       "  <thead>\n",
       "    <tr style=\"text-align: right;\">\n",
       "      <th></th>\n",
       "      <th>deal_id</th>\n",
       "      <th>funded_amount</th>\n",
       "      <th>funded_date</th>\n",
       "      <th>industry_id</th>\n",
       "      <th>year</th>\n",
       "    </tr>\n",
       "  </thead>\n",
       "  <tbody>\n",
       "    <tr>\n",
       "      <th>0</th>\n",
       "      <td>a4Gf1000000nS5ZEAU</td>\n",
       "      <td>175000</td>\n",
       "      <td>2020-04-03</td>\n",
       "      <td>3</td>\n",
       "      <td>2020</td>\n",
       "    </tr>\n",
       "    <tr>\n",
       "      <th>1</th>\n",
       "      <td>a4Gf1000000nS5jEAE</td>\n",
       "      <td>3800</td>\n",
       "      <td>2019-05-21</td>\n",
       "      <td>3</td>\n",
       "      <td>2019</td>\n",
       "    </tr>\n",
       "    <tr>\n",
       "      <th>2</th>\n",
       "      <td>a4Gf1000000nS5nEAE</td>\n",
       "      <td>6600</td>\n",
       "      <td>2020-09-25</td>\n",
       "      <td>3</td>\n",
       "      <td>2020</td>\n",
       "    </tr>\n",
       "    <tr>\n",
       "      <th>3</th>\n",
       "      <td>a4Gf1000000nS5pEAE</td>\n",
       "      <td>13000</td>\n",
       "      <td>2020-04-27</td>\n",
       "      <td>4</td>\n",
       "      <td>2020</td>\n",
       "    </tr>\n",
       "    <tr>\n",
       "      <th>4</th>\n",
       "      <td>a4Gf1000000nS5uEAE</td>\n",
       "      <td>5600</td>\n",
       "      <td>2020-03-14</td>\n",
       "      <td>3</td>\n",
       "      <td>2020</td>\n",
       "    </tr>\n",
       "  </tbody>\n",
       "</table>\n",
       "</div>"
      ],
      "text/plain": [
       "              deal_id  funded_amount funded_date  industry_id  year\n",
       "0  a4Gf1000000nS5ZEAU         175000  2020-04-03            3  2020\n",
       "1  a4Gf1000000nS5jEAE           3800  2019-05-21            3  2019\n",
       "2  a4Gf1000000nS5nEAE           6600  2020-09-25            3  2020\n",
       "3  a4Gf1000000nS5pEAE          13000  2020-04-27            4  2020\n",
       "4  a4Gf1000000nS5uEAE           5600  2020-03-14            3  2020"
      ]
     },
     "execution_count": 63,
     "metadata": {},
     "output_type": "execute_result"
    }
   ],
   "source": [
    "df.head()"
   ]
  },
  {
   "cell_type": "code",
   "execution_count": 64,
   "id": "22a7fa09",
   "metadata": {},
   "outputs": [],
   "source": [
    "df['Month'] = df['funded_date'].dt.month"
   ]
  },
  {
   "cell_type": "code",
   "execution_count": 65,
   "id": "55917fda",
   "metadata": {},
   "outputs": [
    {
     "data": {
      "text/html": [
       "<div>\n",
       "<style scoped>\n",
       "    .dataframe tbody tr th:only-of-type {\n",
       "        vertical-align: middle;\n",
       "    }\n",
       "\n",
       "    .dataframe tbody tr th {\n",
       "        vertical-align: top;\n",
       "    }\n",
       "\n",
       "    .dataframe thead th {\n",
       "        text-align: right;\n",
       "    }\n",
       "</style>\n",
       "<table border=\"1\" class=\"dataframe\">\n",
       "  <thead>\n",
       "    <tr style=\"text-align: right;\">\n",
       "      <th></th>\n",
       "      <th>deal_id</th>\n",
       "      <th>funded_amount</th>\n",
       "      <th>funded_date</th>\n",
       "      <th>industry_id</th>\n",
       "      <th>year</th>\n",
       "      <th>Month</th>\n",
       "    </tr>\n",
       "  </thead>\n",
       "  <tbody>\n",
       "    <tr>\n",
       "      <th>0</th>\n",
       "      <td>a4Gf1000000nS5ZEAU</td>\n",
       "      <td>175000</td>\n",
       "      <td>2020-04-03</td>\n",
       "      <td>3</td>\n",
       "      <td>2020</td>\n",
       "      <td>4</td>\n",
       "    </tr>\n",
       "    <tr>\n",
       "      <th>1</th>\n",
       "      <td>a4Gf1000000nS5jEAE</td>\n",
       "      <td>3800</td>\n",
       "      <td>2019-05-21</td>\n",
       "      <td>3</td>\n",
       "      <td>2019</td>\n",
       "      <td>5</td>\n",
       "    </tr>\n",
       "    <tr>\n",
       "      <th>2</th>\n",
       "      <td>a4Gf1000000nS5nEAE</td>\n",
       "      <td>6600</td>\n",
       "      <td>2020-09-25</td>\n",
       "      <td>3</td>\n",
       "      <td>2020</td>\n",
       "      <td>9</td>\n",
       "    </tr>\n",
       "    <tr>\n",
       "      <th>3</th>\n",
       "      <td>a4Gf1000000nS5pEAE</td>\n",
       "      <td>13000</td>\n",
       "      <td>2020-04-27</td>\n",
       "      <td>4</td>\n",
       "      <td>2020</td>\n",
       "      <td>4</td>\n",
       "    </tr>\n",
       "    <tr>\n",
       "      <th>4</th>\n",
       "      <td>a4Gf1000000nS5uEAE</td>\n",
       "      <td>5600</td>\n",
       "      <td>2020-03-14</td>\n",
       "      <td>3</td>\n",
       "      <td>2020</td>\n",
       "      <td>3</td>\n",
       "    </tr>\n",
       "  </tbody>\n",
       "</table>\n",
       "</div>"
      ],
      "text/plain": [
       "              deal_id  funded_amount funded_date  industry_id  year  Month\n",
       "0  a4Gf1000000nS5ZEAU         175000  2020-04-03            3  2020      4\n",
       "1  a4Gf1000000nS5jEAE           3800  2019-05-21            3  2019      5\n",
       "2  a4Gf1000000nS5nEAE           6600  2020-09-25            3  2020      9\n",
       "3  a4Gf1000000nS5pEAE          13000  2020-04-27            4  2020      4\n",
       "4  a4Gf1000000nS5uEAE           5600  2020-03-14            3  2020      3"
      ]
     },
     "execution_count": 65,
     "metadata": {},
     "output_type": "execute_result"
    }
   ],
   "source": [
    "df.head()"
   ]
  },
  {
   "cell_type": "code",
   "execution_count": 66,
   "id": "6f381fca",
   "metadata": {},
   "outputs": [],
   "source": [
    "# First Quarter \n",
    "df_Jan = df[df['Month']==1]\n",
    "df_Feb = df[df['Month']==2]\n",
    "df_Mar = df[df['Month']==3]"
   ]
  },
  {
   "cell_type": "code",
   "execution_count": 67,
   "id": "0b05a586",
   "metadata": {},
   "outputs": [
    {
     "data": {
      "text/html": [
       "<div>\n",
       "<style scoped>\n",
       "    .dataframe tbody tr th:only-of-type {\n",
       "        vertical-align: middle;\n",
       "    }\n",
       "\n",
       "    .dataframe tbody tr th {\n",
       "        vertical-align: top;\n",
       "    }\n",
       "\n",
       "    .dataframe thead th {\n",
       "        text-align: right;\n",
       "    }\n",
       "</style>\n",
       "<table border=\"1\" class=\"dataframe\">\n",
       "  <thead>\n",
       "    <tr style=\"text-align: right;\">\n",
       "      <th></th>\n",
       "      <th>deal_id</th>\n",
       "      <th>funded_amount</th>\n",
       "      <th>funded_date</th>\n",
       "      <th>industry_id</th>\n",
       "      <th>year</th>\n",
       "      <th>Month</th>\n",
       "    </tr>\n",
       "  </thead>\n",
       "  <tbody>\n",
       "    <tr>\n",
       "      <th>8</th>\n",
       "      <td>a4Gf1000000nS6IEAU</td>\n",
       "      <td>20000</td>\n",
       "      <td>2018-01-01</td>\n",
       "      <td>1</td>\n",
       "      <td>2018</td>\n",
       "      <td>1</td>\n",
       "    </tr>\n",
       "    <tr>\n",
       "      <th>9</th>\n",
       "      <td>a4Gf1000000nS6JEAU</td>\n",
       "      <td>3900</td>\n",
       "      <td>2019-01-20</td>\n",
       "      <td>4</td>\n",
       "      <td>2019</td>\n",
       "      <td>1</td>\n",
       "    </tr>\n",
       "    <tr>\n",
       "      <th>19</th>\n",
       "      <td>a4Gf1000000nS74EAE</td>\n",
       "      <td>9000</td>\n",
       "      <td>2020-01-27</td>\n",
       "      <td>2</td>\n",
       "      <td>2020</td>\n",
       "      <td>1</td>\n",
       "    </tr>\n",
       "    <tr>\n",
       "      <th>20</th>\n",
       "      <td>a4Gf1000000nS7AEAU</td>\n",
       "      <td>85000</td>\n",
       "      <td>2020-01-01</td>\n",
       "      <td>1</td>\n",
       "      <td>2020</td>\n",
       "      <td>1</td>\n",
       "    </tr>\n",
       "    <tr>\n",
       "      <th>37</th>\n",
       "      <td>a4Gf1000000nSLmEAM</td>\n",
       "      <td>20000</td>\n",
       "      <td>2020-01-09</td>\n",
       "      <td>4</td>\n",
       "      <td>2020</td>\n",
       "      <td>1</td>\n",
       "    </tr>\n",
       "  </tbody>\n",
       "</table>\n",
       "</div>"
      ],
      "text/plain": [
       "               deal_id  funded_amount funded_date  industry_id  year  Month\n",
       "8   a4Gf1000000nS6IEAU          20000  2018-01-01            1  2018      1\n",
       "9   a4Gf1000000nS6JEAU           3900  2019-01-20            4  2019      1\n",
       "19  a4Gf1000000nS74EAE           9000  2020-01-27            2  2020      1\n",
       "20  a4Gf1000000nS7AEAU          85000  2020-01-01            1  2020      1\n",
       "37  a4Gf1000000nSLmEAM          20000  2020-01-09            4  2020      1"
      ]
     },
     "execution_count": 67,
     "metadata": {},
     "output_type": "execute_result"
    }
   ],
   "source": [
    "first_quarter = pd.concat([df_Jan, df_Feb,df_Mar], axis=0)\n",
    "first_quarter.head()"
   ]
  },
  {
   "cell_type": "code",
   "execution_count": 68,
   "id": "9128e840",
   "metadata": {},
   "outputs": [
    {
     "data": {
      "text/plain": [
       "array([1, 2, 3])"
      ]
     },
     "execution_count": 68,
     "metadata": {},
     "output_type": "execute_result"
    }
   ],
   "source": [
    "first_quarter['Month'].unique()"
   ]
  },
  {
   "cell_type": "code",
   "execution_count": 69,
   "id": "02a3c799",
   "metadata": {},
   "outputs": [],
   "source": [
    "# Second Quarter \n",
    "df_April = df[df['Month']==4]\n",
    "df_May = df[df['Month']==5]\n",
    "df_June = df[df['Month']==6]"
   ]
  },
  {
   "cell_type": "code",
   "execution_count": 70,
   "id": "4a6ca40a",
   "metadata": {},
   "outputs": [
    {
     "data": {
      "text/html": [
       "<div>\n",
       "<style scoped>\n",
       "    .dataframe tbody tr th:only-of-type {\n",
       "        vertical-align: middle;\n",
       "    }\n",
       "\n",
       "    .dataframe tbody tr th {\n",
       "        vertical-align: top;\n",
       "    }\n",
       "\n",
       "    .dataframe thead th {\n",
       "        text-align: right;\n",
       "    }\n",
       "</style>\n",
       "<table border=\"1\" class=\"dataframe\">\n",
       "  <thead>\n",
       "    <tr style=\"text-align: right;\">\n",
       "      <th></th>\n",
       "      <th>deal_id</th>\n",
       "      <th>funded_amount</th>\n",
       "      <th>funded_date</th>\n",
       "      <th>industry_id</th>\n",
       "      <th>year</th>\n",
       "      <th>Month</th>\n",
       "    </tr>\n",
       "  </thead>\n",
       "  <tbody>\n",
       "    <tr>\n",
       "      <th>0</th>\n",
       "      <td>a4Gf1000000nS5ZEAU</td>\n",
       "      <td>175000</td>\n",
       "      <td>2020-04-03</td>\n",
       "      <td>3</td>\n",
       "      <td>2020</td>\n",
       "      <td>4</td>\n",
       "    </tr>\n",
       "    <tr>\n",
       "      <th>3</th>\n",
       "      <td>a4Gf1000000nS5pEAE</td>\n",
       "      <td>13000</td>\n",
       "      <td>2020-04-27</td>\n",
       "      <td>4</td>\n",
       "      <td>2020</td>\n",
       "      <td>4</td>\n",
       "    </tr>\n",
       "    <tr>\n",
       "      <th>10</th>\n",
       "      <td>a4Gf1000000nS6KEAU</td>\n",
       "      <td>8800</td>\n",
       "      <td>2020-04-19</td>\n",
       "      <td>4</td>\n",
       "      <td>2020</td>\n",
       "      <td>4</td>\n",
       "    </tr>\n",
       "    <tr>\n",
       "      <th>80</th>\n",
       "      <td>a4Gf1000000nSOREA2</td>\n",
       "      <td>4500</td>\n",
       "      <td>2020-04-17</td>\n",
       "      <td>2</td>\n",
       "      <td>2020</td>\n",
       "      <td>4</td>\n",
       "    </tr>\n",
       "    <tr>\n",
       "      <th>90</th>\n",
       "      <td>a4Gf1000000nSOtEAM</td>\n",
       "      <td>15000</td>\n",
       "      <td>2019-04-30</td>\n",
       "      <td>3</td>\n",
       "      <td>2019</td>\n",
       "      <td>4</td>\n",
       "    </tr>\n",
       "  </tbody>\n",
       "</table>\n",
       "</div>"
      ],
      "text/plain": [
       "               deal_id  funded_amount funded_date  industry_id  year  Month\n",
       "0   a4Gf1000000nS5ZEAU         175000  2020-04-03            3  2020      4\n",
       "3   a4Gf1000000nS5pEAE          13000  2020-04-27            4  2020      4\n",
       "10  a4Gf1000000nS6KEAU           8800  2020-04-19            4  2020      4\n",
       "80  a4Gf1000000nSOREA2           4500  2020-04-17            2  2020      4\n",
       "90  a4Gf1000000nSOtEAM          15000  2019-04-30            3  2019      4"
      ]
     },
     "execution_count": 70,
     "metadata": {},
     "output_type": "execute_result"
    }
   ],
   "source": [
    "second_quarter = pd.concat([df_April, df_May,df_June], axis=0)\n",
    "second_quarter.head()"
   ]
  },
  {
   "cell_type": "code",
   "execution_count": 71,
   "id": "9ac9a575",
   "metadata": {},
   "outputs": [
    {
     "data": {
      "text/plain": [
       "array([4, 5, 6])"
      ]
     },
     "execution_count": 71,
     "metadata": {},
     "output_type": "execute_result"
    }
   ],
   "source": [
    "second_quarter['Month'].unique()"
   ]
  },
  {
   "cell_type": "code",
   "execution_count": 72,
   "id": "753f05bd",
   "metadata": {},
   "outputs": [],
   "source": [
    "# Third Quarter \n",
    "df_July = df[df['Month']==7]\n",
    "df_August = df[df['Month']==8]\n",
    "df_Sep = df[df['Month']==9]"
   ]
  },
  {
   "cell_type": "code",
   "execution_count": 73,
   "id": "110ea3b7",
   "metadata": {},
   "outputs": [
    {
     "data": {
      "text/html": [
       "<div>\n",
       "<style scoped>\n",
       "    .dataframe tbody tr th:only-of-type {\n",
       "        vertical-align: middle;\n",
       "    }\n",
       "\n",
       "    .dataframe tbody tr th {\n",
       "        vertical-align: top;\n",
       "    }\n",
       "\n",
       "    .dataframe thead th {\n",
       "        text-align: right;\n",
       "    }\n",
       "</style>\n",
       "<table border=\"1\" class=\"dataframe\">\n",
       "  <thead>\n",
       "    <tr style=\"text-align: right;\">\n",
       "      <th></th>\n",
       "      <th>deal_id</th>\n",
       "      <th>funded_amount</th>\n",
       "      <th>funded_date</th>\n",
       "      <th>industry_id</th>\n",
       "      <th>year</th>\n",
       "      <th>Month</th>\n",
       "    </tr>\n",
       "  </thead>\n",
       "  <tbody>\n",
       "    <tr>\n",
       "      <th>16</th>\n",
       "      <td>a4Gf1000000nS6sEAE</td>\n",
       "      <td>25000</td>\n",
       "      <td>2019-07-26</td>\n",
       "      <td>1</td>\n",
       "      <td>2019</td>\n",
       "      <td>7</td>\n",
       "    </tr>\n",
       "    <tr>\n",
       "      <th>39</th>\n",
       "      <td>a4Gf1000000nSLuEAM</td>\n",
       "      <td>10000</td>\n",
       "      <td>2018-07-24</td>\n",
       "      <td>1</td>\n",
       "      <td>2018</td>\n",
       "      <td>7</td>\n",
       "    </tr>\n",
       "    <tr>\n",
       "      <th>61</th>\n",
       "      <td>a4Gf1000000nSMzEAM</td>\n",
       "      <td>7000</td>\n",
       "      <td>2018-07-01</td>\n",
       "      <td>2</td>\n",
       "      <td>2018</td>\n",
       "      <td>7</td>\n",
       "    </tr>\n",
       "    <tr>\n",
       "      <th>65</th>\n",
       "      <td>a4Gf1000000nSN9EAM</td>\n",
       "      <td>2500</td>\n",
       "      <td>2020-07-27</td>\n",
       "      <td>4</td>\n",
       "      <td>2020</td>\n",
       "      <td>7</td>\n",
       "    </tr>\n",
       "    <tr>\n",
       "      <th>70</th>\n",
       "      <td>a4Gf1000000nSNnEAM</td>\n",
       "      <td>10000</td>\n",
       "      <td>2019-07-18</td>\n",
       "      <td>4</td>\n",
       "      <td>2019</td>\n",
       "      <td>7</td>\n",
       "    </tr>\n",
       "  </tbody>\n",
       "</table>\n",
       "</div>"
      ],
      "text/plain": [
       "               deal_id  funded_amount funded_date  industry_id  year  Month\n",
       "16  a4Gf1000000nS6sEAE          25000  2019-07-26            1  2019      7\n",
       "39  a4Gf1000000nSLuEAM          10000  2018-07-24            1  2018      7\n",
       "61  a4Gf1000000nSMzEAM           7000  2018-07-01            2  2018      7\n",
       "65  a4Gf1000000nSN9EAM           2500  2020-07-27            4  2020      7\n",
       "70  a4Gf1000000nSNnEAM          10000  2019-07-18            4  2019      7"
      ]
     },
     "execution_count": 73,
     "metadata": {},
     "output_type": "execute_result"
    }
   ],
   "source": [
    "third_quarter = pd.concat([df_July, df_August,df_Sep], axis=0)\n",
    "third_quarter.head()"
   ]
  },
  {
   "cell_type": "code",
   "execution_count": 74,
   "id": "b92117aa",
   "metadata": {},
   "outputs": [
    {
     "data": {
      "text/plain": [
       "array([7, 8, 9])"
      ]
     },
     "execution_count": 74,
     "metadata": {},
     "output_type": "execute_result"
    }
   ],
   "source": [
    "third_quarter['Month'].unique()"
   ]
  },
  {
   "cell_type": "code",
   "execution_count": 75,
   "id": "f007479f",
   "metadata": {},
   "outputs": [],
   "source": [
    "# Fourth Quarter \n",
    "df_Oct = df[df['Month']==10]\n",
    "df_Nov = df[df['Month']==11]\n",
    "df_Dec = df[df['Month']==12]"
   ]
  },
  {
   "cell_type": "code",
   "execution_count": 76,
   "id": "ad4b7910",
   "metadata": {},
   "outputs": [
    {
     "data": {
      "text/html": [
       "<div>\n",
       "<style scoped>\n",
       "    .dataframe tbody tr th:only-of-type {\n",
       "        vertical-align: middle;\n",
       "    }\n",
       "\n",
       "    .dataframe tbody tr th {\n",
       "        vertical-align: top;\n",
       "    }\n",
       "\n",
       "    .dataframe thead th {\n",
       "        text-align: right;\n",
       "    }\n",
       "</style>\n",
       "<table border=\"1\" class=\"dataframe\">\n",
       "  <thead>\n",
       "    <tr style=\"text-align: right;\">\n",
       "      <th></th>\n",
       "      <th>deal_id</th>\n",
       "      <th>funded_amount</th>\n",
       "      <th>funded_date</th>\n",
       "      <th>industry_id</th>\n",
       "      <th>year</th>\n",
       "      <th>Month</th>\n",
       "    </tr>\n",
       "  </thead>\n",
       "  <tbody>\n",
       "    <tr>\n",
       "      <th>11</th>\n",
       "      <td>a4Gf1000000nS6LEAU</td>\n",
       "      <td>8000</td>\n",
       "      <td>2020-10-03</td>\n",
       "      <td>2</td>\n",
       "      <td>2020</td>\n",
       "      <td>10</td>\n",
       "    </tr>\n",
       "    <tr>\n",
       "      <th>12</th>\n",
       "      <td>a4Gf1000000nS6gEAE</td>\n",
       "      <td>3800</td>\n",
       "      <td>2020-10-23</td>\n",
       "      <td>2</td>\n",
       "      <td>2020</td>\n",
       "      <td>10</td>\n",
       "    </tr>\n",
       "    <tr>\n",
       "      <th>22</th>\n",
       "      <td>a4Gf1000000nS7MEAU</td>\n",
       "      <td>12000</td>\n",
       "      <td>2018-10-03</td>\n",
       "      <td>3</td>\n",
       "      <td>2018</td>\n",
       "      <td>10</td>\n",
       "    </tr>\n",
       "    <tr>\n",
       "      <th>28</th>\n",
       "      <td>a4Gf1000000nSL5EAM</td>\n",
       "      <td>7000</td>\n",
       "      <td>2019-10-10</td>\n",
       "      <td>1</td>\n",
       "      <td>2019</td>\n",
       "      <td>10</td>\n",
       "    </tr>\n",
       "    <tr>\n",
       "      <th>32</th>\n",
       "      <td>a4Gf1000000nSLSEA2</td>\n",
       "      <td>2500</td>\n",
       "      <td>2018-10-17</td>\n",
       "      <td>2</td>\n",
       "      <td>2018</td>\n",
       "      <td>10</td>\n",
       "    </tr>\n",
       "  </tbody>\n",
       "</table>\n",
       "</div>"
      ],
      "text/plain": [
       "               deal_id  funded_amount funded_date  industry_id  year  Month\n",
       "11  a4Gf1000000nS6LEAU           8000  2020-10-03            2  2020     10\n",
       "12  a4Gf1000000nS6gEAE           3800  2020-10-23            2  2020     10\n",
       "22  a4Gf1000000nS7MEAU          12000  2018-10-03            3  2018     10\n",
       "28  a4Gf1000000nSL5EAM           7000  2019-10-10            1  2019     10\n",
       "32  a4Gf1000000nSLSEA2           2500  2018-10-17            2  2018     10"
      ]
     },
     "execution_count": 76,
     "metadata": {},
     "output_type": "execute_result"
    }
   ],
   "source": [
    "fourth_quarter = pd.concat([df_Oct, df_Nov,df_Dec], axis=0)\n",
    "fourth_quarter.head()"
   ]
  },
  {
   "cell_type": "code",
   "execution_count": 77,
   "id": "53053cff",
   "metadata": {},
   "outputs": [
    {
     "data": {
      "text/plain": [
       "array([10, 11, 12])"
      ]
     },
     "execution_count": 77,
     "metadata": {},
     "output_type": "execute_result"
    }
   ],
   "source": [
    "fourth_quarter['Month'].unique()"
   ]
  },
  {
   "cell_type": "code",
   "execution_count": 78,
   "id": "9b67dcfd",
   "metadata": {},
   "outputs": [
    {
     "data": {
      "text/html": [
       "<div>\n",
       "<style scoped>\n",
       "    .dataframe tbody tr th:only-of-type {\n",
       "        vertical-align: middle;\n",
       "    }\n",
       "\n",
       "    .dataframe tbody tr th {\n",
       "        vertical-align: top;\n",
       "    }\n",
       "\n",
       "    .dataframe thead th {\n",
       "        text-align: right;\n",
       "    }\n",
       "</style>\n",
       "<table border=\"1\" class=\"dataframe\">\n",
       "  <thead>\n",
       "    <tr style=\"text-align: right;\">\n",
       "      <th></th>\n",
       "      <th>deal_id</th>\n",
       "      <th>funded_amount</th>\n",
       "      <th>funded_date</th>\n",
       "      <th>industry_id</th>\n",
       "      <th>year</th>\n",
       "      <th>Month</th>\n",
       "    </tr>\n",
       "  </thead>\n",
       "  <tbody>\n",
       "    <tr>\n",
       "      <th>8</th>\n",
       "      <td>a4Gf1000000nS6IEAU</td>\n",
       "      <td>20000</td>\n",
       "      <td>2018-01-01</td>\n",
       "      <td>1</td>\n",
       "      <td>2018</td>\n",
       "      <td>1</td>\n",
       "    </tr>\n",
       "    <tr>\n",
       "      <th>20</th>\n",
       "      <td>a4Gf1000000nS7AEAU</td>\n",
       "      <td>85000</td>\n",
       "      <td>2020-01-01</td>\n",
       "      <td>1</td>\n",
       "      <td>2020</td>\n",
       "      <td>1</td>\n",
       "    </tr>\n",
       "    <tr>\n",
       "      <th>71</th>\n",
       "      <td>a4Gf1000000nSNvEAM</td>\n",
       "      <td>5000</td>\n",
       "      <td>2018-01-09</td>\n",
       "      <td>1</td>\n",
       "      <td>2018</td>\n",
       "      <td>1</td>\n",
       "    </tr>\n",
       "    <tr>\n",
       "      <th>193</th>\n",
       "      <td>a4Gf1000000nSfiEAE</td>\n",
       "      <td>150000</td>\n",
       "      <td>2020-01-10</td>\n",
       "      <td>1</td>\n",
       "      <td>2020</td>\n",
       "      <td>1</td>\n",
       "    </tr>\n",
       "    <tr>\n",
       "      <th>231</th>\n",
       "      <td>a4Gf1000000nSi3EAE</td>\n",
       "      <td>20000</td>\n",
       "      <td>2019-01-22</td>\n",
       "      <td>1</td>\n",
       "      <td>2019</td>\n",
       "      <td>1</td>\n",
       "    </tr>\n",
       "  </tbody>\n",
       "</table>\n",
       "</div>"
      ],
      "text/plain": [
       "                deal_id  funded_amount funded_date  industry_id  year  Month\n",
       "8    a4Gf1000000nS6IEAU          20000  2018-01-01            1  2018      1\n",
       "20   a4Gf1000000nS7AEAU          85000  2020-01-01            1  2020      1\n",
       "71   a4Gf1000000nSNvEAM           5000  2018-01-09            1  2018      1\n",
       "193  a4Gf1000000nSfiEAE         150000  2020-01-10            1  2020      1\n",
       "231  a4Gf1000000nSi3EAE          20000  2019-01-22            1  2019      1"
      ]
     },
     "execution_count": 78,
     "metadata": {},
     "output_type": "execute_result"
    }
   ],
   "source": [
    "first_quarter_commercial = first_quarter[first_quarter['industry_id']==1]\n",
    "first_quarter_commercial.head()"
   ]
  },
  {
   "cell_type": "code",
   "execution_count": 79,
   "id": "5fd9e6b3",
   "metadata": {},
   "outputs": [
    {
     "data": {
      "text/plain": [
       "55"
      ]
     },
     "execution_count": 79,
     "metadata": {},
     "output_type": "execute_result"
    }
   ],
   "source": [
    "len(first_quarter_commercial)"
   ]
  },
  {
   "cell_type": "code",
   "execution_count": 80,
   "id": "9dd41c53",
   "metadata": {},
   "outputs": [
    {
     "data": {
      "text/html": [
       "<div>\n",
       "<style scoped>\n",
       "    .dataframe tbody tr th:only-of-type {\n",
       "        vertical-align: middle;\n",
       "    }\n",
       "\n",
       "    .dataframe tbody tr th {\n",
       "        vertical-align: top;\n",
       "    }\n",
       "\n",
       "    .dataframe thead th {\n",
       "        text-align: right;\n",
       "    }\n",
       "</style>\n",
       "<table border=\"1\" class=\"dataframe\">\n",
       "  <thead>\n",
       "    <tr style=\"text-align: right;\">\n",
       "      <th></th>\n",
       "      <th>deal_id</th>\n",
       "      <th>funded_amount</th>\n",
       "      <th>funded_date</th>\n",
       "      <th>industry_id</th>\n",
       "      <th>year</th>\n",
       "      <th>Month</th>\n",
       "    </tr>\n",
       "  </thead>\n",
       "  <tbody>\n",
       "    <tr>\n",
       "      <th>19</th>\n",
       "      <td>a4Gf1000000nS74EAE</td>\n",
       "      <td>9000</td>\n",
       "      <td>2020-01-27</td>\n",
       "      <td>2</td>\n",
       "      <td>2020</td>\n",
       "      <td>1</td>\n",
       "    </tr>\n",
       "    <tr>\n",
       "      <th>55</th>\n",
       "      <td>a4Gf1000000nSMeEAM</td>\n",
       "      <td>3300</td>\n",
       "      <td>2019-01-12</td>\n",
       "      <td>2</td>\n",
       "      <td>2019</td>\n",
       "      <td>1</td>\n",
       "    </tr>\n",
       "    <tr>\n",
       "      <th>105</th>\n",
       "      <td>a4Gf1000000nSPiEAM</td>\n",
       "      <td>4000</td>\n",
       "      <td>2020-01-20</td>\n",
       "      <td>2</td>\n",
       "      <td>2020</td>\n",
       "      <td>1</td>\n",
       "    </tr>\n",
       "    <tr>\n",
       "      <th>124</th>\n",
       "      <td>a4Gf1000000nSQkEAM</td>\n",
       "      <td>5500</td>\n",
       "      <td>2020-01-26</td>\n",
       "      <td>2</td>\n",
       "      <td>2020</td>\n",
       "      <td>1</td>\n",
       "    </tr>\n",
       "    <tr>\n",
       "      <th>205</th>\n",
       "      <td>a4Gf1000000nSgTEAU</td>\n",
       "      <td>20000</td>\n",
       "      <td>2018-01-31</td>\n",
       "      <td>2</td>\n",
       "      <td>2018</td>\n",
       "      <td>1</td>\n",
       "    </tr>\n",
       "  </tbody>\n",
       "</table>\n",
       "</div>"
      ],
      "text/plain": [
       "                deal_id  funded_amount funded_date  industry_id  year  Month\n",
       "19   a4Gf1000000nS74EAE           9000  2020-01-27            2  2020      1\n",
       "55   a4Gf1000000nSMeEAM           3300  2019-01-12            2  2019      1\n",
       "105  a4Gf1000000nSPiEAM           4000  2020-01-20            2  2020      1\n",
       "124  a4Gf1000000nSQkEAM           5500  2020-01-26            2  2020      1\n",
       "205  a4Gf1000000nSgTEAU          20000  2018-01-31            2  2018      1"
      ]
     },
     "execution_count": 80,
     "metadata": {},
     "output_type": "execute_result"
    }
   ],
   "source": [
    "first_quarter_real_estate = first_quarter[first_quarter['industry_id']==2]\n",
    "first_quarter_real_estate.head()"
   ]
  },
  {
   "cell_type": "code",
   "execution_count": 81,
   "id": "d7c25607",
   "metadata": {},
   "outputs": [
    {
     "data": {
      "text/html": [
       "<div>\n",
       "<style scoped>\n",
       "    .dataframe tbody tr th:only-of-type {\n",
       "        vertical-align: middle;\n",
       "    }\n",
       "\n",
       "    .dataframe tbody tr th {\n",
       "        vertical-align: top;\n",
       "    }\n",
       "\n",
       "    .dataframe thead th {\n",
       "        text-align: right;\n",
       "    }\n",
       "</style>\n",
       "<table border=\"1\" class=\"dataframe\">\n",
       "  <thead>\n",
       "    <tr style=\"text-align: right;\">\n",
       "      <th></th>\n",
       "      <th>deal_id</th>\n",
       "      <th>funded_amount</th>\n",
       "      <th>funded_date</th>\n",
       "      <th>industry_id</th>\n",
       "      <th>year</th>\n",
       "      <th>Month</th>\n",
       "    </tr>\n",
       "  </thead>\n",
       "  <tbody>\n",
       "    <tr>\n",
       "      <th>50</th>\n",
       "      <td>a4Gf1000000nSMVEA2</td>\n",
       "      <td>8800</td>\n",
       "      <td>2019-01-06</td>\n",
       "      <td>3</td>\n",
       "      <td>2019</td>\n",
       "      <td>1</td>\n",
       "    </tr>\n",
       "    <tr>\n",
       "      <th>114</th>\n",
       "      <td>a4Gf1000000nSQ8EAM</td>\n",
       "      <td>7000</td>\n",
       "      <td>2020-01-11</td>\n",
       "      <td>3</td>\n",
       "      <td>2020</td>\n",
       "      <td>1</td>\n",
       "    </tr>\n",
       "    <tr>\n",
       "      <th>145</th>\n",
       "      <td>a4Gf1000000nSS7EAM</td>\n",
       "      <td>37500</td>\n",
       "      <td>2018-01-23</td>\n",
       "      <td>3</td>\n",
       "      <td>2018</td>\n",
       "      <td>1</td>\n",
       "    </tr>\n",
       "    <tr>\n",
       "      <th>149</th>\n",
       "      <td>a4Gf1000000nSSLEA2</td>\n",
       "      <td>7000</td>\n",
       "      <td>2020-01-13</td>\n",
       "      <td>3</td>\n",
       "      <td>2020</td>\n",
       "      <td>1</td>\n",
       "    </tr>\n",
       "    <tr>\n",
       "      <th>167</th>\n",
       "      <td>a4Gf1000000nSe0EAE</td>\n",
       "      <td>14000</td>\n",
       "      <td>2020-01-11</td>\n",
       "      <td>3</td>\n",
       "      <td>2020</td>\n",
       "      <td>1</td>\n",
       "    </tr>\n",
       "  </tbody>\n",
       "</table>\n",
       "</div>"
      ],
      "text/plain": [
       "                deal_id  funded_amount funded_date  industry_id  year  Month\n",
       "50   a4Gf1000000nSMVEA2           8800  2019-01-06            3  2019      1\n",
       "114  a4Gf1000000nSQ8EAM           7000  2020-01-11            3  2020      1\n",
       "145  a4Gf1000000nSS7EAM          37500  2018-01-23            3  2018      1\n",
       "149  a4Gf1000000nSSLEA2           7000  2020-01-13            3  2020      1\n",
       "167  a4Gf1000000nSe0EAE          14000  2020-01-11            3  2020      1"
      ]
     },
     "execution_count": 81,
     "metadata": {},
     "output_type": "execute_result"
    }
   ],
   "source": [
    "first_quarter_technology = first_quarter[first_quarter['industry_id']==3]\n",
    "first_quarter_technology.head()"
   ]
  },
  {
   "cell_type": "code",
   "execution_count": 82,
   "id": "2c904211",
   "metadata": {},
   "outputs": [
    {
     "data": {
      "text/html": [
       "<div>\n",
       "<style scoped>\n",
       "    .dataframe tbody tr th:only-of-type {\n",
       "        vertical-align: middle;\n",
       "    }\n",
       "\n",
       "    .dataframe tbody tr th {\n",
       "        vertical-align: top;\n",
       "    }\n",
       "\n",
       "    .dataframe thead th {\n",
       "        text-align: right;\n",
       "    }\n",
       "</style>\n",
       "<table border=\"1\" class=\"dataframe\">\n",
       "  <thead>\n",
       "    <tr style=\"text-align: right;\">\n",
       "      <th></th>\n",
       "      <th>deal_id</th>\n",
       "      <th>funded_amount</th>\n",
       "      <th>funded_date</th>\n",
       "      <th>industry_id</th>\n",
       "      <th>year</th>\n",
       "      <th>Month</th>\n",
       "    </tr>\n",
       "  </thead>\n",
       "  <tbody>\n",
       "    <tr>\n",
       "      <th>9</th>\n",
       "      <td>a4Gf1000000nS6JEAU</td>\n",
       "      <td>3900</td>\n",
       "      <td>2019-01-20</td>\n",
       "      <td>4</td>\n",
       "      <td>2019</td>\n",
       "      <td>1</td>\n",
       "    </tr>\n",
       "    <tr>\n",
       "      <th>37</th>\n",
       "      <td>a4Gf1000000nSLmEAM</td>\n",
       "      <td>20000</td>\n",
       "      <td>2020-01-09</td>\n",
       "      <td>4</td>\n",
       "      <td>2020</td>\n",
       "      <td>1</td>\n",
       "    </tr>\n",
       "    <tr>\n",
       "      <th>75</th>\n",
       "      <td>a4Gf1000000nSO9EAM</td>\n",
       "      <td>20000</td>\n",
       "      <td>2018-01-03</td>\n",
       "      <td>4</td>\n",
       "      <td>2018</td>\n",
       "      <td>1</td>\n",
       "    </tr>\n",
       "    <tr>\n",
       "      <th>103</th>\n",
       "      <td>a4Gf1000000nSPgEAM</td>\n",
       "      <td>50000</td>\n",
       "      <td>2018-01-29</td>\n",
       "      <td>4</td>\n",
       "      <td>2018</td>\n",
       "      <td>1</td>\n",
       "    </tr>\n",
       "    <tr>\n",
       "      <th>219</th>\n",
       "      <td>a4Gf1000000nShOEAU</td>\n",
       "      <td>8000</td>\n",
       "      <td>2019-01-20</td>\n",
       "      <td>4</td>\n",
       "      <td>2019</td>\n",
       "      <td>1</td>\n",
       "    </tr>\n",
       "  </tbody>\n",
       "</table>\n",
       "</div>"
      ],
      "text/plain": [
       "                deal_id  funded_amount funded_date  industry_id  year  Month\n",
       "9    a4Gf1000000nS6JEAU           3900  2019-01-20            4  2019      1\n",
       "37   a4Gf1000000nSLmEAM          20000  2020-01-09            4  2020      1\n",
       "75   a4Gf1000000nSO9EAM          20000  2018-01-03            4  2018      1\n",
       "103  a4Gf1000000nSPgEAM          50000  2018-01-29            4  2018      1\n",
       "219  a4Gf1000000nShOEAU           8000  2019-01-20            4  2019      1"
      ]
     },
     "execution_count": 82,
     "metadata": {},
     "output_type": "execute_result"
    }
   ],
   "source": [
    "first_quarter_other = first_quarter[first_quarter['industry_id']==4]\n",
    "first_quarter_other.head()"
   ]
  },
  {
   "cell_type": "markdown",
   "id": "c1c2461a",
   "metadata": {},
   "source": [
    "## First Quarter Fund"
   ]
  },
  {
   "cell_type": "code",
   "execution_count": 83,
   "id": "65113868",
   "metadata": {},
   "outputs": [
    {
     "data": {
      "text/plain": [
       "1345900"
      ]
     },
     "execution_count": 83,
     "metadata": {},
     "output_type": "execute_result"
    }
   ],
   "source": [
    "first_quarter_commercial_funded_amount = first_quarter_commercial['funded_amount'].sum()\n",
    "first_quarter_commercial_funded_amount"
   ]
  },
  {
   "cell_type": "code",
   "execution_count": 84,
   "id": "223819d7",
   "metadata": {},
   "outputs": [
    {
     "data": {
      "text/plain": [
       "1345900"
      ]
     },
     "execution_count": 84,
     "metadata": {},
     "output_type": "execute_result"
    }
   ],
   "source": [
    "first_quarter_real_estate_funded_amount = first_quarter_commercial['funded_amount'].sum()\n",
    "first_quarter_real_estate_funded_amount"
   ]
  },
  {
   "cell_type": "code",
   "execution_count": 85,
   "id": "906eece7",
   "metadata": {},
   "outputs": [
    {
     "data": {
      "text/plain": [
       "812900"
      ]
     },
     "execution_count": 85,
     "metadata": {},
     "output_type": "execute_result"
    }
   ],
   "source": [
    "first_quarter_technology_funded_amount = first_quarter_technology['funded_amount'].sum()\n",
    "first_quarter_technology_funded_amount"
   ]
  },
  {
   "cell_type": "code",
   "execution_count": 86,
   "id": "051bddba",
   "metadata": {},
   "outputs": [
    {
     "data": {
      "text/plain": [
       "1703800"
      ]
     },
     "execution_count": 86,
     "metadata": {},
     "output_type": "execute_result"
    }
   ],
   "source": [
    "first_quarter_other_funded_amount = first_quarter_other['funded_amount'].sum()\n",
    "first_quarter_other_funded_amount"
   ]
  },
  {
   "cell_type": "markdown",
   "id": "218bf363",
   "metadata": {},
   "source": [
    "## Seond Quarter"
   ]
  },
  {
   "cell_type": "code",
   "execution_count": 87,
   "id": "f46f0044",
   "metadata": {},
   "outputs": [
    {
     "data": {
      "text/html": [
       "<div>\n",
       "<style scoped>\n",
       "    .dataframe tbody tr th:only-of-type {\n",
       "        vertical-align: middle;\n",
       "    }\n",
       "\n",
       "    .dataframe tbody tr th {\n",
       "        vertical-align: top;\n",
       "    }\n",
       "\n",
       "    .dataframe thead th {\n",
       "        text-align: right;\n",
       "    }\n",
       "</style>\n",
       "<table border=\"1\" class=\"dataframe\">\n",
       "  <thead>\n",
       "    <tr style=\"text-align: right;\">\n",
       "      <th></th>\n",
       "      <th>deal_id</th>\n",
       "      <th>funded_amount</th>\n",
       "      <th>funded_date</th>\n",
       "      <th>industry_id</th>\n",
       "      <th>year</th>\n",
       "      <th>Month</th>\n",
       "    </tr>\n",
       "  </thead>\n",
       "  <tbody>\n",
       "    <tr>\n",
       "      <th>170</th>\n",
       "      <td>a4Gf1000000nSe5EAE</td>\n",
       "      <td>25000</td>\n",
       "      <td>2018-04-23</td>\n",
       "      <td>1</td>\n",
       "      <td>2018</td>\n",
       "      <td>4</td>\n",
       "    </tr>\n",
       "    <tr>\n",
       "      <th>196</th>\n",
       "      <td>a4Gf1000000nSftEAE</td>\n",
       "      <td>15000</td>\n",
       "      <td>2019-04-16</td>\n",
       "      <td>1</td>\n",
       "      <td>2019</td>\n",
       "      <td>4</td>\n",
       "    </tr>\n",
       "    <tr>\n",
       "      <th>209</th>\n",
       "      <td>a4Gf1000000nSgbEAE</td>\n",
       "      <td>2200</td>\n",
       "      <td>2019-04-07</td>\n",
       "      <td>1</td>\n",
       "      <td>2019</td>\n",
       "      <td>4</td>\n",
       "    </tr>\n",
       "    <tr>\n",
       "      <th>248</th>\n",
       "      <td>a4Gf1000000nSjaEAE</td>\n",
       "      <td>5000</td>\n",
       "      <td>2018-04-26</td>\n",
       "      <td>1</td>\n",
       "      <td>2018</td>\n",
       "      <td>4</td>\n",
       "    </tr>\n",
       "    <tr>\n",
       "      <th>266</th>\n",
       "      <td>a4Gf1000000nSkeEAE</td>\n",
       "      <td>30000</td>\n",
       "      <td>2020-04-16</td>\n",
       "      <td>1</td>\n",
       "      <td>2020</td>\n",
       "      <td>4</td>\n",
       "    </tr>\n",
       "  </tbody>\n",
       "</table>\n",
       "</div>"
      ],
      "text/plain": [
       "                deal_id  funded_amount funded_date  industry_id  year  Month\n",
       "170  a4Gf1000000nSe5EAE          25000  2018-04-23            1  2018      4\n",
       "196  a4Gf1000000nSftEAE          15000  2019-04-16            1  2019      4\n",
       "209  a4Gf1000000nSgbEAE           2200  2019-04-07            1  2019      4\n",
       "248  a4Gf1000000nSjaEAE           5000  2018-04-26            1  2018      4\n",
       "266  a4Gf1000000nSkeEAE          30000  2020-04-16            1  2020      4"
      ]
     },
     "execution_count": 87,
     "metadata": {},
     "output_type": "execute_result"
    }
   ],
   "source": [
    "second_quarter_commercial = second_quarter[second_quarter['industry_id']==1]\n",
    "second_quarter_commercial.head()"
   ]
  },
  {
   "cell_type": "code",
   "execution_count": 88,
   "id": "9683bb3f",
   "metadata": {},
   "outputs": [
    {
     "data": {
      "text/html": [
       "<div>\n",
       "<style scoped>\n",
       "    .dataframe tbody tr th:only-of-type {\n",
       "        vertical-align: middle;\n",
       "    }\n",
       "\n",
       "    .dataframe tbody tr th {\n",
       "        vertical-align: top;\n",
       "    }\n",
       "\n",
       "    .dataframe thead th {\n",
       "        text-align: right;\n",
       "    }\n",
       "</style>\n",
       "<table border=\"1\" class=\"dataframe\">\n",
       "  <thead>\n",
       "    <tr style=\"text-align: right;\">\n",
       "      <th></th>\n",
       "      <th>deal_id</th>\n",
       "      <th>funded_amount</th>\n",
       "      <th>funded_date</th>\n",
       "      <th>industry_id</th>\n",
       "      <th>year</th>\n",
       "      <th>Month</th>\n",
       "    </tr>\n",
       "  </thead>\n",
       "  <tbody>\n",
       "    <tr>\n",
       "      <th>80</th>\n",
       "      <td>a4Gf1000000nSOREA2</td>\n",
       "      <td>4500</td>\n",
       "      <td>2020-04-17</td>\n",
       "      <td>2</td>\n",
       "      <td>2020</td>\n",
       "      <td>4</td>\n",
       "    </tr>\n",
       "    <tr>\n",
       "      <th>102</th>\n",
       "      <td>a4Gf1000000nSPbEAM</td>\n",
       "      <td>15000</td>\n",
       "      <td>2018-04-10</td>\n",
       "      <td>2</td>\n",
       "      <td>2018</td>\n",
       "      <td>4</td>\n",
       "    </tr>\n",
       "    <tr>\n",
       "      <th>116</th>\n",
       "      <td>a4Gf1000000nSQCEA2</td>\n",
       "      <td>7500</td>\n",
       "      <td>2018-04-19</td>\n",
       "      <td>2</td>\n",
       "      <td>2018</td>\n",
       "      <td>4</td>\n",
       "    </tr>\n",
       "    <tr>\n",
       "      <th>117</th>\n",
       "      <td>a4Gf1000000nSQDEA2</td>\n",
       "      <td>4000</td>\n",
       "      <td>2020-04-29</td>\n",
       "      <td>2</td>\n",
       "      <td>2020</td>\n",
       "      <td>4</td>\n",
       "    </tr>\n",
       "    <tr>\n",
       "      <th>139</th>\n",
       "      <td>a4Gf1000000nSRsEAM</td>\n",
       "      <td>4500</td>\n",
       "      <td>2019-04-10</td>\n",
       "      <td>2</td>\n",
       "      <td>2019</td>\n",
       "      <td>4</td>\n",
       "    </tr>\n",
       "  </tbody>\n",
       "</table>\n",
       "</div>"
      ],
      "text/plain": [
       "                deal_id  funded_amount funded_date  industry_id  year  Month\n",
       "80   a4Gf1000000nSOREA2           4500  2020-04-17            2  2020      4\n",
       "102  a4Gf1000000nSPbEAM          15000  2018-04-10            2  2018      4\n",
       "116  a4Gf1000000nSQCEA2           7500  2018-04-19            2  2018      4\n",
       "117  a4Gf1000000nSQDEA2           4000  2020-04-29            2  2020      4\n",
       "139  a4Gf1000000nSRsEAM           4500  2019-04-10            2  2019      4"
      ]
     },
     "execution_count": 88,
     "metadata": {},
     "output_type": "execute_result"
    }
   ],
   "source": [
    "second_quarter_real_estate = second_quarter[second_quarter['industry_id']==2]\n",
    "second_quarter_real_estate.head()"
   ]
  },
  {
   "cell_type": "code",
   "execution_count": 89,
   "id": "698b5e71",
   "metadata": {},
   "outputs": [
    {
     "data": {
      "text/html": [
       "<div>\n",
       "<style scoped>\n",
       "    .dataframe tbody tr th:only-of-type {\n",
       "        vertical-align: middle;\n",
       "    }\n",
       "\n",
       "    .dataframe tbody tr th {\n",
       "        vertical-align: top;\n",
       "    }\n",
       "\n",
       "    .dataframe thead th {\n",
       "        text-align: right;\n",
       "    }\n",
       "</style>\n",
       "<table border=\"1\" class=\"dataframe\">\n",
       "  <thead>\n",
       "    <tr style=\"text-align: right;\">\n",
       "      <th></th>\n",
       "      <th>deal_id</th>\n",
       "      <th>funded_amount</th>\n",
       "      <th>funded_date</th>\n",
       "      <th>industry_id</th>\n",
       "      <th>year</th>\n",
       "      <th>Month</th>\n",
       "    </tr>\n",
       "  </thead>\n",
       "  <tbody>\n",
       "    <tr>\n",
       "      <th>0</th>\n",
       "      <td>a4Gf1000000nS5ZEAU</td>\n",
       "      <td>175000</td>\n",
       "      <td>2020-04-03</td>\n",
       "      <td>3</td>\n",
       "      <td>2020</td>\n",
       "      <td>4</td>\n",
       "    </tr>\n",
       "    <tr>\n",
       "      <th>90</th>\n",
       "      <td>a4Gf1000000nSOtEAM</td>\n",
       "      <td>15000</td>\n",
       "      <td>2019-04-30</td>\n",
       "      <td>3</td>\n",
       "      <td>2019</td>\n",
       "      <td>4</td>\n",
       "    </tr>\n",
       "    <tr>\n",
       "      <th>91</th>\n",
       "      <td>a4Gf1000000nSP2EAM</td>\n",
       "      <td>2500</td>\n",
       "      <td>2020-04-26</td>\n",
       "      <td>3</td>\n",
       "      <td>2020</td>\n",
       "      <td>4</td>\n",
       "    </tr>\n",
       "    <tr>\n",
       "      <th>154</th>\n",
       "      <td>a4Gf1000000nSSjEAM</td>\n",
       "      <td>15000</td>\n",
       "      <td>2020-04-05</td>\n",
       "      <td>3</td>\n",
       "      <td>2020</td>\n",
       "      <td>4</td>\n",
       "    </tr>\n",
       "    <tr>\n",
       "      <th>201</th>\n",
       "      <td>a4Gf1000000nSgEEAU</td>\n",
       "      <td>6000</td>\n",
       "      <td>2018-04-29</td>\n",
       "      <td>3</td>\n",
       "      <td>2018</td>\n",
       "      <td>4</td>\n",
       "    </tr>\n",
       "  </tbody>\n",
       "</table>\n",
       "</div>"
      ],
      "text/plain": [
       "                deal_id  funded_amount funded_date  industry_id  year  Month\n",
       "0    a4Gf1000000nS5ZEAU         175000  2020-04-03            3  2020      4\n",
       "90   a4Gf1000000nSOtEAM          15000  2019-04-30            3  2019      4\n",
       "91   a4Gf1000000nSP2EAM           2500  2020-04-26            3  2020      4\n",
       "154  a4Gf1000000nSSjEAM          15000  2020-04-05            3  2020      4\n",
       "201  a4Gf1000000nSgEEAU           6000  2018-04-29            3  2018      4"
      ]
     },
     "execution_count": 89,
     "metadata": {},
     "output_type": "execute_result"
    }
   ],
   "source": [
    "second_quarter_technology = second_quarter[second_quarter['industry_id']==3]\n",
    "second_quarter_technology.head()"
   ]
  },
  {
   "cell_type": "code",
   "execution_count": 90,
   "id": "ed1ffe6b",
   "metadata": {},
   "outputs": [
    {
     "data": {
      "text/html": [
       "<div>\n",
       "<style scoped>\n",
       "    .dataframe tbody tr th:only-of-type {\n",
       "        vertical-align: middle;\n",
       "    }\n",
       "\n",
       "    .dataframe tbody tr th {\n",
       "        vertical-align: top;\n",
       "    }\n",
       "\n",
       "    .dataframe thead th {\n",
       "        text-align: right;\n",
       "    }\n",
       "</style>\n",
       "<table border=\"1\" class=\"dataframe\">\n",
       "  <thead>\n",
       "    <tr style=\"text-align: right;\">\n",
       "      <th></th>\n",
       "      <th>deal_id</th>\n",
       "      <th>funded_amount</th>\n",
       "      <th>funded_date</th>\n",
       "      <th>industry_id</th>\n",
       "      <th>year</th>\n",
       "      <th>Month</th>\n",
       "    </tr>\n",
       "  </thead>\n",
       "  <tbody>\n",
       "    <tr>\n",
       "      <th>3</th>\n",
       "      <td>a4Gf1000000nS5pEAE</td>\n",
       "      <td>13000</td>\n",
       "      <td>2020-04-27</td>\n",
       "      <td>4</td>\n",
       "      <td>2020</td>\n",
       "      <td>4</td>\n",
       "    </tr>\n",
       "    <tr>\n",
       "      <th>10</th>\n",
       "      <td>a4Gf1000000nS6KEAU</td>\n",
       "      <td>8800</td>\n",
       "      <td>2020-04-19</td>\n",
       "      <td>4</td>\n",
       "      <td>2020</td>\n",
       "      <td>4</td>\n",
       "    </tr>\n",
       "    <tr>\n",
       "      <th>169</th>\n",
       "      <td>a4Gf1000000nSe3EAE</td>\n",
       "      <td>15000</td>\n",
       "      <td>2019-04-24</td>\n",
       "      <td>4</td>\n",
       "      <td>2019</td>\n",
       "      <td>4</td>\n",
       "    </tr>\n",
       "    <tr>\n",
       "      <th>215</th>\n",
       "      <td>a4Gf1000000nSh7EAE</td>\n",
       "      <td>50000</td>\n",
       "      <td>2019-04-10</td>\n",
       "      <td>4</td>\n",
       "      <td>2019</td>\n",
       "      <td>4</td>\n",
       "    </tr>\n",
       "    <tr>\n",
       "      <th>235</th>\n",
       "      <td>a4Gf1000000nSiOEAU</td>\n",
       "      <td>15000</td>\n",
       "      <td>2019-04-04</td>\n",
       "      <td>4</td>\n",
       "      <td>2019</td>\n",
       "      <td>4</td>\n",
       "    </tr>\n",
       "  </tbody>\n",
       "</table>\n",
       "</div>"
      ],
      "text/plain": [
       "                deal_id  funded_amount funded_date  industry_id  year  Month\n",
       "3    a4Gf1000000nS5pEAE          13000  2020-04-27            4  2020      4\n",
       "10   a4Gf1000000nS6KEAU           8800  2020-04-19            4  2020      4\n",
       "169  a4Gf1000000nSe3EAE          15000  2019-04-24            4  2019      4\n",
       "215  a4Gf1000000nSh7EAE          50000  2019-04-10            4  2019      4\n",
       "235  a4Gf1000000nSiOEAU          15000  2019-04-04            4  2019      4"
      ]
     },
     "execution_count": 90,
     "metadata": {},
     "output_type": "execute_result"
    }
   ],
   "source": [
    "second_quarter_other = second_quarter[second_quarter['industry_id']==4]\n",
    "second_quarter_other.head()"
   ]
  },
  {
   "cell_type": "code",
   "execution_count": 91,
   "id": "235bda15",
   "metadata": {},
   "outputs": [
    {
     "data": {
      "text/plain": [
       "950100"
      ]
     },
     "execution_count": 91,
     "metadata": {},
     "output_type": "execute_result"
    }
   ],
   "source": [
    "second_quarter_commercial_funded_amount = second_quarter_commercial['funded_amount'].sum()\n",
    "second_quarter_commercial_funded_amount"
   ]
  },
  {
   "cell_type": "code",
   "execution_count": 92,
   "id": "e457e401",
   "metadata": {},
   "outputs": [
    {
     "data": {
      "text/plain": [
       "1363500"
      ]
     },
     "execution_count": 92,
     "metadata": {},
     "output_type": "execute_result"
    }
   ],
   "source": [
    "second_quarter_real_estate_funded_amount = second_quarter_real_estate['funded_amount'].sum()\n",
    "second_quarter_real_estate_funded_amount"
   ]
  },
  {
   "cell_type": "code",
   "execution_count": 93,
   "id": "452e7591",
   "metadata": {},
   "outputs": [
    {
     "data": {
      "text/plain": [
       "1148800"
      ]
     },
     "execution_count": 93,
     "metadata": {},
     "output_type": "execute_result"
    }
   ],
   "source": [
    "second_quarter_technology_funded_amount = second_quarter_technology['funded_amount'].sum()\n",
    "second_quarter_technology_funded_amount"
   ]
  },
  {
   "cell_type": "code",
   "execution_count": 94,
   "id": "d41ac235",
   "metadata": {},
   "outputs": [
    {
     "data": {
      "text/plain": [
       "1983200"
      ]
     },
     "execution_count": 94,
     "metadata": {},
     "output_type": "execute_result"
    }
   ],
   "source": [
    "second_quarter_other_funded_amount = second_quarter_other['funded_amount'].sum()\n",
    "second_quarter_other_funded_amount"
   ]
  },
  {
   "cell_type": "markdown",
   "id": "9703d567",
   "metadata": {},
   "source": [
    "## Third Quarter Fund per Industry"
   ]
  },
  {
   "cell_type": "code",
   "execution_count": 95,
   "id": "947adab6",
   "metadata": {},
   "outputs": [
    {
     "data": {
      "text/html": [
       "<div>\n",
       "<style scoped>\n",
       "    .dataframe tbody tr th:only-of-type {\n",
       "        vertical-align: middle;\n",
       "    }\n",
       "\n",
       "    .dataframe tbody tr th {\n",
       "        vertical-align: top;\n",
       "    }\n",
       "\n",
       "    .dataframe thead th {\n",
       "        text-align: right;\n",
       "    }\n",
       "</style>\n",
       "<table border=\"1\" class=\"dataframe\">\n",
       "  <thead>\n",
       "    <tr style=\"text-align: right;\">\n",
       "      <th></th>\n",
       "      <th>deal_id</th>\n",
       "      <th>funded_amount</th>\n",
       "      <th>funded_date</th>\n",
       "      <th>industry_id</th>\n",
       "      <th>year</th>\n",
       "      <th>Month</th>\n",
       "    </tr>\n",
       "  </thead>\n",
       "  <tbody>\n",
       "    <tr>\n",
       "      <th>16</th>\n",
       "      <td>a4Gf1000000nS6sEAE</td>\n",
       "      <td>25000</td>\n",
       "      <td>2019-07-26</td>\n",
       "      <td>1</td>\n",
       "      <td>2019</td>\n",
       "      <td>7</td>\n",
       "    </tr>\n",
       "    <tr>\n",
       "      <th>39</th>\n",
       "      <td>a4Gf1000000nSLuEAM</td>\n",
       "      <td>10000</td>\n",
       "      <td>2018-07-24</td>\n",
       "      <td>1</td>\n",
       "      <td>2018</td>\n",
       "      <td>7</td>\n",
       "    </tr>\n",
       "    <tr>\n",
       "      <th>61</th>\n",
       "      <td>a4Gf1000000nSMzEAM</td>\n",
       "      <td>7000</td>\n",
       "      <td>2018-07-01</td>\n",
       "      <td>2</td>\n",
       "      <td>2018</td>\n",
       "      <td>7</td>\n",
       "    </tr>\n",
       "    <tr>\n",
       "      <th>65</th>\n",
       "      <td>a4Gf1000000nSN9EAM</td>\n",
       "      <td>2500</td>\n",
       "      <td>2020-07-27</td>\n",
       "      <td>4</td>\n",
       "      <td>2020</td>\n",
       "      <td>7</td>\n",
       "    </tr>\n",
       "    <tr>\n",
       "      <th>70</th>\n",
       "      <td>a4Gf1000000nSNnEAM</td>\n",
       "      <td>10000</td>\n",
       "      <td>2019-07-18</td>\n",
       "      <td>4</td>\n",
       "      <td>2019</td>\n",
       "      <td>7</td>\n",
       "    </tr>\n",
       "  </tbody>\n",
       "</table>\n",
       "</div>"
      ],
      "text/plain": [
       "               deal_id  funded_amount funded_date  industry_id  year  Month\n",
       "16  a4Gf1000000nS6sEAE          25000  2019-07-26            1  2019      7\n",
       "39  a4Gf1000000nSLuEAM          10000  2018-07-24            1  2018      7\n",
       "61  a4Gf1000000nSMzEAM           7000  2018-07-01            2  2018      7\n",
       "65  a4Gf1000000nSN9EAM           2500  2020-07-27            4  2020      7\n",
       "70  a4Gf1000000nSNnEAM          10000  2019-07-18            4  2019      7"
      ]
     },
     "execution_count": 95,
     "metadata": {},
     "output_type": "execute_result"
    }
   ],
   "source": [
    "third_quarter.head()"
   ]
  },
  {
   "cell_type": "code",
   "execution_count": 96,
   "id": "9af8dd0d",
   "metadata": {},
   "outputs": [
    {
     "data": {
      "text/html": [
       "<div>\n",
       "<style scoped>\n",
       "    .dataframe tbody tr th:only-of-type {\n",
       "        vertical-align: middle;\n",
       "    }\n",
       "\n",
       "    .dataframe tbody tr th {\n",
       "        vertical-align: top;\n",
       "    }\n",
       "\n",
       "    .dataframe thead th {\n",
       "        text-align: right;\n",
       "    }\n",
       "</style>\n",
       "<table border=\"1\" class=\"dataframe\">\n",
       "  <thead>\n",
       "    <tr style=\"text-align: right;\">\n",
       "      <th></th>\n",
       "      <th>deal_id</th>\n",
       "      <th>funded_amount</th>\n",
       "      <th>funded_date</th>\n",
       "      <th>industry_id</th>\n",
       "      <th>year</th>\n",
       "      <th>Month</th>\n",
       "    </tr>\n",
       "  </thead>\n",
       "  <tbody>\n",
       "    <tr>\n",
       "      <th>16</th>\n",
       "      <td>a4Gf1000000nS6sEAE</td>\n",
       "      <td>25000</td>\n",
       "      <td>2019-07-26</td>\n",
       "      <td>1</td>\n",
       "      <td>2019</td>\n",
       "      <td>7</td>\n",
       "    </tr>\n",
       "    <tr>\n",
       "      <th>39</th>\n",
       "      <td>a4Gf1000000nSLuEAM</td>\n",
       "      <td>10000</td>\n",
       "      <td>2018-07-24</td>\n",
       "      <td>1</td>\n",
       "      <td>2018</td>\n",
       "      <td>7</td>\n",
       "    </tr>\n",
       "    <tr>\n",
       "      <th>166</th>\n",
       "      <td>a4Gf1000000nSdvEAE</td>\n",
       "      <td>10000</td>\n",
       "      <td>2018-07-29</td>\n",
       "      <td>1</td>\n",
       "      <td>2018</td>\n",
       "      <td>7</td>\n",
       "    </tr>\n",
       "    <tr>\n",
       "      <th>208</th>\n",
       "      <td>a4Gf1000000nSgZEAU</td>\n",
       "      <td>4000</td>\n",
       "      <td>2019-07-24</td>\n",
       "      <td>1</td>\n",
       "      <td>2019</td>\n",
       "      <td>7</td>\n",
       "    </tr>\n",
       "    <tr>\n",
       "      <th>354</th>\n",
       "      <td>a4Gf1000000nS7TEAU</td>\n",
       "      <td>8800</td>\n",
       "      <td>2020-07-23</td>\n",
       "      <td>1</td>\n",
       "      <td>2020</td>\n",
       "      <td>7</td>\n",
       "    </tr>\n",
       "  </tbody>\n",
       "</table>\n",
       "</div>"
      ],
      "text/plain": [
       "                deal_id  funded_amount funded_date  industry_id  year  Month\n",
       "16   a4Gf1000000nS6sEAE          25000  2019-07-26            1  2019      7\n",
       "39   a4Gf1000000nSLuEAM          10000  2018-07-24            1  2018      7\n",
       "166  a4Gf1000000nSdvEAE          10000  2018-07-29            1  2018      7\n",
       "208  a4Gf1000000nSgZEAU           4000  2019-07-24            1  2019      7\n",
       "354  a4Gf1000000nS7TEAU           8800  2020-07-23            1  2020      7"
      ]
     },
     "execution_count": 96,
     "metadata": {},
     "output_type": "execute_result"
    }
   ],
   "source": [
    "third_quarter_commercial = third_quarter[third_quarter['industry_id']==1]\n",
    "third_quarter_commercial.head()"
   ]
  },
  {
   "cell_type": "code",
   "execution_count": 97,
   "id": "b879fcfd",
   "metadata": {},
   "outputs": [
    {
     "data": {
      "text/plain": [
       "942800"
      ]
     },
     "execution_count": 97,
     "metadata": {},
     "output_type": "execute_result"
    }
   ],
   "source": [
    "third_quarter_commercial_funded_amount = third_quarter_commercial['funded_amount'].sum()\n",
    "third_quarter_commercial_funded_amount"
   ]
  },
  {
   "cell_type": "code",
   "execution_count": 98,
   "id": "e2beb525",
   "metadata": {},
   "outputs": [
    {
     "data": {
      "text/html": [
       "<div>\n",
       "<style scoped>\n",
       "    .dataframe tbody tr th:only-of-type {\n",
       "        vertical-align: middle;\n",
       "    }\n",
       "\n",
       "    .dataframe tbody tr th {\n",
       "        vertical-align: top;\n",
       "    }\n",
       "\n",
       "    .dataframe thead th {\n",
       "        text-align: right;\n",
       "    }\n",
       "</style>\n",
       "<table border=\"1\" class=\"dataframe\">\n",
       "  <thead>\n",
       "    <tr style=\"text-align: right;\">\n",
       "      <th></th>\n",
       "      <th>deal_id</th>\n",
       "      <th>funded_amount</th>\n",
       "      <th>funded_date</th>\n",
       "      <th>industry_id</th>\n",
       "      <th>year</th>\n",
       "      <th>Month</th>\n",
       "    </tr>\n",
       "  </thead>\n",
       "  <tbody>\n",
       "    <tr>\n",
       "      <th>61</th>\n",
       "      <td>a4Gf1000000nSMzEAM</td>\n",
       "      <td>7000</td>\n",
       "      <td>2018-07-01</td>\n",
       "      <td>2</td>\n",
       "      <td>2018</td>\n",
       "      <td>7</td>\n",
       "    </tr>\n",
       "    <tr>\n",
       "      <th>79</th>\n",
       "      <td>a4Gf1000000nSONEA2</td>\n",
       "      <td>7500</td>\n",
       "      <td>2018-07-18</td>\n",
       "      <td>2</td>\n",
       "      <td>2018</td>\n",
       "      <td>7</td>\n",
       "    </tr>\n",
       "    <tr>\n",
       "      <th>185</th>\n",
       "      <td>a4Gf1000000nSfDEAU</td>\n",
       "      <td>3500</td>\n",
       "      <td>2020-07-28</td>\n",
       "      <td>2</td>\n",
       "      <td>2020</td>\n",
       "      <td>7</td>\n",
       "    </tr>\n",
       "    <tr>\n",
       "      <th>198</th>\n",
       "      <td>a4Gf1000000nSfyEAE</td>\n",
       "      <td>30000</td>\n",
       "      <td>2019-07-24</td>\n",
       "      <td>2</td>\n",
       "      <td>2019</td>\n",
       "      <td>7</td>\n",
       "    </tr>\n",
       "    <tr>\n",
       "      <th>220</th>\n",
       "      <td>a4Gf1000000nShQEAU</td>\n",
       "      <td>30000</td>\n",
       "      <td>2019-07-23</td>\n",
       "      <td>2</td>\n",
       "      <td>2019</td>\n",
       "      <td>7</td>\n",
       "    </tr>\n",
       "  </tbody>\n",
       "</table>\n",
       "</div>"
      ],
      "text/plain": [
       "                deal_id  funded_amount funded_date  industry_id  year  Month\n",
       "61   a4Gf1000000nSMzEAM           7000  2018-07-01            2  2018      7\n",
       "79   a4Gf1000000nSONEA2           7500  2018-07-18            2  2018      7\n",
       "185  a4Gf1000000nSfDEAU           3500  2020-07-28            2  2020      7\n",
       "198  a4Gf1000000nSfyEAE          30000  2019-07-24            2  2019      7\n",
       "220  a4Gf1000000nShQEAU          30000  2019-07-23            2  2019      7"
      ]
     },
     "execution_count": 98,
     "metadata": {},
     "output_type": "execute_result"
    }
   ],
   "source": [
    "third_quarter_real_estate = third_quarter[third_quarter['industry_id']==2]\n",
    "third_quarter_real_estate.head()"
   ]
  },
  {
   "cell_type": "code",
   "execution_count": 99,
   "id": "4e775c3e",
   "metadata": {},
   "outputs": [
    {
     "data": {
      "text/plain": [
       "1909500"
      ]
     },
     "execution_count": 99,
     "metadata": {},
     "output_type": "execute_result"
    }
   ],
   "source": [
    "third_quarter_real_estate_funded_amount = third_quarter_real_estate['funded_amount'].sum()\n",
    "third_quarter_real_estate_funded_amount"
   ]
  },
  {
   "cell_type": "code",
   "execution_count": 100,
   "id": "1800b053",
   "metadata": {},
   "outputs": [
    {
     "data": {
      "text/html": [
       "<div>\n",
       "<style scoped>\n",
       "    .dataframe tbody tr th:only-of-type {\n",
       "        vertical-align: middle;\n",
       "    }\n",
       "\n",
       "    .dataframe tbody tr th {\n",
       "        vertical-align: top;\n",
       "    }\n",
       "\n",
       "    .dataframe thead th {\n",
       "        text-align: right;\n",
       "    }\n",
       "</style>\n",
       "<table border=\"1\" class=\"dataframe\">\n",
       "  <thead>\n",
       "    <tr style=\"text-align: right;\">\n",
       "      <th></th>\n",
       "      <th>deal_id</th>\n",
       "      <th>funded_amount</th>\n",
       "      <th>funded_date</th>\n",
       "      <th>industry_id</th>\n",
       "      <th>year</th>\n",
       "      <th>Month</th>\n",
       "    </tr>\n",
       "  </thead>\n",
       "  <tbody>\n",
       "    <tr>\n",
       "      <th>81</th>\n",
       "      <td>a4Gf1000000nSOTEA2</td>\n",
       "      <td>12000</td>\n",
       "      <td>2018-07-03</td>\n",
       "      <td>3</td>\n",
       "      <td>2018</td>\n",
       "      <td>7</td>\n",
       "    </tr>\n",
       "    <tr>\n",
       "      <th>133</th>\n",
       "      <td>a4Gf1000000nSRKEA2</td>\n",
       "      <td>17000</td>\n",
       "      <td>2020-07-11</td>\n",
       "      <td>3</td>\n",
       "      <td>2020</td>\n",
       "      <td>7</td>\n",
       "    </tr>\n",
       "    <tr>\n",
       "      <th>290</th>\n",
       "      <td>a4Gf1000000nSmCEAU</td>\n",
       "      <td>6000</td>\n",
       "      <td>2018-07-22</td>\n",
       "      <td>3</td>\n",
       "      <td>2018</td>\n",
       "      <td>7</td>\n",
       "    </tr>\n",
       "    <tr>\n",
       "      <th>293</th>\n",
       "      <td>a4Gf1000000nSmOEAU</td>\n",
       "      <td>11000</td>\n",
       "      <td>2019-07-28</td>\n",
       "      <td>3</td>\n",
       "      <td>2019</td>\n",
       "      <td>7</td>\n",
       "    </tr>\n",
       "    <tr>\n",
       "      <th>325</th>\n",
       "      <td>a4Gf1000000nS5oEAE</td>\n",
       "      <td>9000</td>\n",
       "      <td>2020-07-06</td>\n",
       "      <td>3</td>\n",
       "      <td>2020</td>\n",
       "      <td>7</td>\n",
       "    </tr>\n",
       "  </tbody>\n",
       "</table>\n",
       "</div>"
      ],
      "text/plain": [
       "                deal_id  funded_amount funded_date  industry_id  year  Month\n",
       "81   a4Gf1000000nSOTEA2          12000  2018-07-03            3  2018      7\n",
       "133  a4Gf1000000nSRKEA2          17000  2020-07-11            3  2020      7\n",
       "290  a4Gf1000000nSmCEAU           6000  2018-07-22            3  2018      7\n",
       "293  a4Gf1000000nSmOEAU          11000  2019-07-28            3  2019      7\n",
       "325  a4Gf1000000nS5oEAE           9000  2020-07-06            3  2020      7"
      ]
     },
     "execution_count": 100,
     "metadata": {},
     "output_type": "execute_result"
    }
   ],
   "source": [
    "third_quarter_technology = third_quarter[third_quarter['industry_id']==3]\n",
    "third_quarter_technology.head()"
   ]
  },
  {
   "cell_type": "code",
   "execution_count": 101,
   "id": "6c4cb9af",
   "metadata": {},
   "outputs": [
    {
     "data": {
      "text/plain": [
       "1029400"
      ]
     },
     "execution_count": 101,
     "metadata": {},
     "output_type": "execute_result"
    }
   ],
   "source": [
    "third_quarter_technology_funded_amount = third_quarter_technology['funded_amount'].sum()\n",
    "third_quarter_technology_funded_amount"
   ]
  },
  {
   "cell_type": "code",
   "execution_count": 102,
   "id": "fbb994e7",
   "metadata": {},
   "outputs": [
    {
     "data": {
      "text/html": [
       "<div>\n",
       "<style scoped>\n",
       "    .dataframe tbody tr th:only-of-type {\n",
       "        vertical-align: middle;\n",
       "    }\n",
       "\n",
       "    .dataframe tbody tr th {\n",
       "        vertical-align: top;\n",
       "    }\n",
       "\n",
       "    .dataframe thead th {\n",
       "        text-align: right;\n",
       "    }\n",
       "</style>\n",
       "<table border=\"1\" class=\"dataframe\">\n",
       "  <thead>\n",
       "    <tr style=\"text-align: right;\">\n",
       "      <th></th>\n",
       "      <th>deal_id</th>\n",
       "      <th>funded_amount</th>\n",
       "      <th>funded_date</th>\n",
       "      <th>industry_id</th>\n",
       "      <th>year</th>\n",
       "      <th>Month</th>\n",
       "    </tr>\n",
       "  </thead>\n",
       "  <tbody>\n",
       "    <tr>\n",
       "      <th>65</th>\n",
       "      <td>a4Gf1000000nSN9EAM</td>\n",
       "      <td>2500</td>\n",
       "      <td>2020-07-27</td>\n",
       "      <td>4</td>\n",
       "      <td>2020</td>\n",
       "      <td>7</td>\n",
       "    </tr>\n",
       "    <tr>\n",
       "      <th>70</th>\n",
       "      <td>a4Gf1000000nSNnEAM</td>\n",
       "      <td>10000</td>\n",
       "      <td>2019-07-18</td>\n",
       "      <td>4</td>\n",
       "      <td>2019</td>\n",
       "      <td>7</td>\n",
       "    </tr>\n",
       "    <tr>\n",
       "      <th>98</th>\n",
       "      <td>a4Gf1000000nSPSEA2</td>\n",
       "      <td>14000</td>\n",
       "      <td>2019-07-06</td>\n",
       "      <td>4</td>\n",
       "      <td>2019</td>\n",
       "      <td>7</td>\n",
       "    </tr>\n",
       "    <tr>\n",
       "      <th>100</th>\n",
       "      <td>a4Gf1000000nSPVEA2</td>\n",
       "      <td>35000</td>\n",
       "      <td>2019-07-26</td>\n",
       "      <td>4</td>\n",
       "      <td>2019</td>\n",
       "      <td>7</td>\n",
       "    </tr>\n",
       "    <tr>\n",
       "      <th>153</th>\n",
       "      <td>a4Gf1000000nSShEAM</td>\n",
       "      <td>2000</td>\n",
       "      <td>2020-07-11</td>\n",
       "      <td>4</td>\n",
       "      <td>2020</td>\n",
       "      <td>7</td>\n",
       "    </tr>\n",
       "  </tbody>\n",
       "</table>\n",
       "</div>"
      ],
      "text/plain": [
       "                deal_id  funded_amount funded_date  industry_id  year  Month\n",
       "65   a4Gf1000000nSN9EAM           2500  2020-07-27            4  2020      7\n",
       "70   a4Gf1000000nSNnEAM          10000  2019-07-18            4  2019      7\n",
       "98   a4Gf1000000nSPSEA2          14000  2019-07-06            4  2019      7\n",
       "100  a4Gf1000000nSPVEA2          35000  2019-07-26            4  2019      7\n",
       "153  a4Gf1000000nSShEAM           2000  2020-07-11            4  2020      7"
      ]
     },
     "execution_count": 102,
     "metadata": {},
     "output_type": "execute_result"
    }
   ],
   "source": [
    "third_quarter_other = third_quarter[third_quarter['industry_id']==4]\n",
    "third_quarter_other.head()"
   ]
  },
  {
   "cell_type": "code",
   "execution_count": 103,
   "id": "a1dbdd6a",
   "metadata": {},
   "outputs": [
    {
     "data": {
      "text/plain": [
       "2145800"
      ]
     },
     "execution_count": 103,
     "metadata": {},
     "output_type": "execute_result"
    }
   ],
   "source": [
    "third_quarter_other_funded_amount = third_quarter_other[\"funded_amount\"].sum()\n",
    "third_quarter_other_funded_amount"
   ]
  },
  {
   "cell_type": "markdown",
   "id": "9474f78e",
   "metadata": {},
   "source": [
    "## Fourth Quarter Fund per Industry"
   ]
  },
  {
   "cell_type": "code",
   "execution_count": 104,
   "id": "26c74d7c",
   "metadata": {},
   "outputs": [
    {
     "data": {
      "text/html": [
       "<div>\n",
       "<style scoped>\n",
       "    .dataframe tbody tr th:only-of-type {\n",
       "        vertical-align: middle;\n",
       "    }\n",
       "\n",
       "    .dataframe tbody tr th {\n",
       "        vertical-align: top;\n",
       "    }\n",
       "\n",
       "    .dataframe thead th {\n",
       "        text-align: right;\n",
       "    }\n",
       "</style>\n",
       "<table border=\"1\" class=\"dataframe\">\n",
       "  <thead>\n",
       "    <tr style=\"text-align: right;\">\n",
       "      <th></th>\n",
       "      <th>deal_id</th>\n",
       "      <th>funded_amount</th>\n",
       "      <th>funded_date</th>\n",
       "      <th>industry_id</th>\n",
       "      <th>year</th>\n",
       "      <th>Month</th>\n",
       "    </tr>\n",
       "  </thead>\n",
       "  <tbody>\n",
       "    <tr>\n",
       "      <th>11</th>\n",
       "      <td>a4Gf1000000nS6LEAU</td>\n",
       "      <td>8000</td>\n",
       "      <td>2020-10-03</td>\n",
       "      <td>2</td>\n",
       "      <td>2020</td>\n",
       "      <td>10</td>\n",
       "    </tr>\n",
       "    <tr>\n",
       "      <th>12</th>\n",
       "      <td>a4Gf1000000nS6gEAE</td>\n",
       "      <td>3800</td>\n",
       "      <td>2020-10-23</td>\n",
       "      <td>2</td>\n",
       "      <td>2020</td>\n",
       "      <td>10</td>\n",
       "    </tr>\n",
       "    <tr>\n",
       "      <th>22</th>\n",
       "      <td>a4Gf1000000nS7MEAU</td>\n",
       "      <td>12000</td>\n",
       "      <td>2018-10-03</td>\n",
       "      <td>3</td>\n",
       "      <td>2018</td>\n",
       "      <td>10</td>\n",
       "    </tr>\n",
       "    <tr>\n",
       "      <th>28</th>\n",
       "      <td>a4Gf1000000nSL5EAM</td>\n",
       "      <td>7000</td>\n",
       "      <td>2019-10-10</td>\n",
       "      <td>1</td>\n",
       "      <td>2019</td>\n",
       "      <td>10</td>\n",
       "    </tr>\n",
       "    <tr>\n",
       "      <th>32</th>\n",
       "      <td>a4Gf1000000nSLSEA2</td>\n",
       "      <td>2500</td>\n",
       "      <td>2018-10-17</td>\n",
       "      <td>2</td>\n",
       "      <td>2018</td>\n",
       "      <td>10</td>\n",
       "    </tr>\n",
       "  </tbody>\n",
       "</table>\n",
       "</div>"
      ],
      "text/plain": [
       "               deal_id  funded_amount funded_date  industry_id  year  Month\n",
       "11  a4Gf1000000nS6LEAU           8000  2020-10-03            2  2020     10\n",
       "12  a4Gf1000000nS6gEAE           3800  2020-10-23            2  2020     10\n",
       "22  a4Gf1000000nS7MEAU          12000  2018-10-03            3  2018     10\n",
       "28  a4Gf1000000nSL5EAM           7000  2019-10-10            1  2019     10\n",
       "32  a4Gf1000000nSLSEA2           2500  2018-10-17            2  2018     10"
      ]
     },
     "execution_count": 104,
     "metadata": {},
     "output_type": "execute_result"
    }
   ],
   "source": [
    "fourth_quarter.head()"
   ]
  },
  {
   "cell_type": "code",
   "execution_count": 105,
   "id": "ab074d57",
   "metadata": {},
   "outputs": [
    {
     "data": {
      "text/html": [
       "<div>\n",
       "<style scoped>\n",
       "    .dataframe tbody tr th:only-of-type {\n",
       "        vertical-align: middle;\n",
       "    }\n",
       "\n",
       "    .dataframe tbody tr th {\n",
       "        vertical-align: top;\n",
       "    }\n",
       "\n",
       "    .dataframe thead th {\n",
       "        text-align: right;\n",
       "    }\n",
       "</style>\n",
       "<table border=\"1\" class=\"dataframe\">\n",
       "  <thead>\n",
       "    <tr style=\"text-align: right;\">\n",
       "      <th></th>\n",
       "      <th>deal_id</th>\n",
       "      <th>funded_amount</th>\n",
       "      <th>funded_date</th>\n",
       "      <th>industry_id</th>\n",
       "      <th>year</th>\n",
       "      <th>Month</th>\n",
       "    </tr>\n",
       "  </thead>\n",
       "  <tbody>\n",
       "    <tr>\n",
       "      <th>28</th>\n",
       "      <td>a4Gf1000000nSL5EAM</td>\n",
       "      <td>7000</td>\n",
       "      <td>2019-10-10</td>\n",
       "      <td>1</td>\n",
       "      <td>2019</td>\n",
       "      <td>10</td>\n",
       "    </tr>\n",
       "    <tr>\n",
       "      <th>174</th>\n",
       "      <td>a4Gf1000000nSeZEAU</td>\n",
       "      <td>12000</td>\n",
       "      <td>2019-10-29</td>\n",
       "      <td>1</td>\n",
       "      <td>2019</td>\n",
       "      <td>10</td>\n",
       "    </tr>\n",
       "    <tr>\n",
       "      <th>246</th>\n",
       "      <td>a4Gf1000000nSjQEAU</td>\n",
       "      <td>15000</td>\n",
       "      <td>2019-10-10</td>\n",
       "      <td>1</td>\n",
       "      <td>2019</td>\n",
       "      <td>10</td>\n",
       "    </tr>\n",
       "    <tr>\n",
       "      <th>397</th>\n",
       "      <td>a4Gf1000000nSN4EAM</td>\n",
       "      <td>5600</td>\n",
       "      <td>2020-10-04</td>\n",
       "      <td>1</td>\n",
       "      <td>2020</td>\n",
       "      <td>10</td>\n",
       "    </tr>\n",
       "    <tr>\n",
       "      <th>431</th>\n",
       "      <td>a4Gf1000000nSP0EAM</td>\n",
       "      <td>4000</td>\n",
       "      <td>2019-10-23</td>\n",
       "      <td>1</td>\n",
       "      <td>2019</td>\n",
       "      <td>10</td>\n",
       "    </tr>\n",
       "  </tbody>\n",
       "</table>\n",
       "</div>"
      ],
      "text/plain": [
       "                deal_id  funded_amount funded_date  industry_id  year  Month\n",
       "28   a4Gf1000000nSL5EAM           7000  2019-10-10            1  2019     10\n",
       "174  a4Gf1000000nSeZEAU          12000  2019-10-29            1  2019     10\n",
       "246  a4Gf1000000nSjQEAU          15000  2019-10-10            1  2019     10\n",
       "397  a4Gf1000000nSN4EAM           5600  2020-10-04            1  2020     10\n",
       "431  a4Gf1000000nSP0EAM           4000  2019-10-23            1  2019     10"
      ]
     },
     "execution_count": 105,
     "metadata": {},
     "output_type": "execute_result"
    }
   ],
   "source": [
    "fourth_quarter_commercial = fourth_quarter[fourth_quarter['industry_id']==1]\n",
    "fourth_quarter_commercial.head()"
   ]
  },
  {
   "cell_type": "code",
   "execution_count": 106,
   "id": "88d6c832",
   "metadata": {},
   "outputs": [
    {
     "data": {
      "text/plain": [
       "1390700"
      ]
     },
     "execution_count": 106,
     "metadata": {},
     "output_type": "execute_result"
    }
   ],
   "source": [
    "fourth_quarter_commercial_funded_amount = fourth_quarter_commercial['funded_amount'].sum()\n",
    "fourth_quarter_commercial_funded_amount"
   ]
  },
  {
   "cell_type": "code",
   "execution_count": 107,
   "id": "ac50c10a",
   "metadata": {},
   "outputs": [
    {
     "data": {
      "text/html": [
       "<div>\n",
       "<style scoped>\n",
       "    .dataframe tbody tr th:only-of-type {\n",
       "        vertical-align: middle;\n",
       "    }\n",
       "\n",
       "    .dataframe tbody tr th {\n",
       "        vertical-align: top;\n",
       "    }\n",
       "\n",
       "    .dataframe thead th {\n",
       "        text-align: right;\n",
       "    }\n",
       "</style>\n",
       "<table border=\"1\" class=\"dataframe\">\n",
       "  <thead>\n",
       "    <tr style=\"text-align: right;\">\n",
       "      <th></th>\n",
       "      <th>deal_id</th>\n",
       "      <th>funded_amount</th>\n",
       "      <th>funded_date</th>\n",
       "      <th>industry_id</th>\n",
       "      <th>year</th>\n",
       "      <th>Month</th>\n",
       "    </tr>\n",
       "  </thead>\n",
       "  <tbody>\n",
       "    <tr>\n",
       "      <th>11</th>\n",
       "      <td>a4Gf1000000nS6LEAU</td>\n",
       "      <td>8000</td>\n",
       "      <td>2020-10-03</td>\n",
       "      <td>2</td>\n",
       "      <td>2020</td>\n",
       "      <td>10</td>\n",
       "    </tr>\n",
       "    <tr>\n",
       "      <th>12</th>\n",
       "      <td>a4Gf1000000nS6gEAE</td>\n",
       "      <td>3800</td>\n",
       "      <td>2020-10-23</td>\n",
       "      <td>2</td>\n",
       "      <td>2020</td>\n",
       "      <td>10</td>\n",
       "    </tr>\n",
       "    <tr>\n",
       "      <th>32</th>\n",
       "      <td>a4Gf1000000nSLSEA2</td>\n",
       "      <td>2500</td>\n",
       "      <td>2018-10-17</td>\n",
       "      <td>2</td>\n",
       "      <td>2018</td>\n",
       "      <td>10</td>\n",
       "    </tr>\n",
       "    <tr>\n",
       "      <th>87</th>\n",
       "      <td>a4Gf1000000nSOqEAM</td>\n",
       "      <td>5500</td>\n",
       "      <td>2019-10-19</td>\n",
       "      <td>2</td>\n",
       "      <td>2019</td>\n",
       "      <td>10</td>\n",
       "    </tr>\n",
       "    <tr>\n",
       "      <th>99</th>\n",
       "      <td>a4Gf1000000nSPTEA2</td>\n",
       "      <td>7000</td>\n",
       "      <td>2018-10-17</td>\n",
       "      <td>2</td>\n",
       "      <td>2018</td>\n",
       "      <td>10</td>\n",
       "    </tr>\n",
       "  </tbody>\n",
       "</table>\n",
       "</div>"
      ],
      "text/plain": [
       "               deal_id  funded_amount funded_date  industry_id  year  Month\n",
       "11  a4Gf1000000nS6LEAU           8000  2020-10-03            2  2020     10\n",
       "12  a4Gf1000000nS6gEAE           3800  2020-10-23            2  2020     10\n",
       "32  a4Gf1000000nSLSEA2           2500  2018-10-17            2  2018     10\n",
       "87  a4Gf1000000nSOqEAM           5500  2019-10-19            2  2019     10\n",
       "99  a4Gf1000000nSPTEA2           7000  2018-10-17            2  2018     10"
      ]
     },
     "execution_count": 107,
     "metadata": {},
     "output_type": "execute_result"
    }
   ],
   "source": [
    "fourth_quarter_real_estate = fourth_quarter[fourth_quarter['industry_id']==2]\n",
    "fourth_quarter_real_estate.head()"
   ]
  },
  {
   "cell_type": "code",
   "execution_count": 108,
   "id": "48868036",
   "metadata": {},
   "outputs": [
    {
     "data": {
      "text/plain": [
       "1815600"
      ]
     },
     "execution_count": 108,
     "metadata": {},
     "output_type": "execute_result"
    }
   ],
   "source": [
    "fourth_quarter_real_estate_funded_amount = fourth_quarter_real_estate['funded_amount'].sum()\n",
    "fourth_quarter_real_estate_funded_amount"
   ]
  },
  {
   "cell_type": "code",
   "execution_count": 109,
   "id": "b1fe21d8",
   "metadata": {},
   "outputs": [
    {
     "data": {
      "text/html": [
       "<div>\n",
       "<style scoped>\n",
       "    .dataframe tbody tr th:only-of-type {\n",
       "        vertical-align: middle;\n",
       "    }\n",
       "\n",
       "    .dataframe tbody tr th {\n",
       "        vertical-align: top;\n",
       "    }\n",
       "\n",
       "    .dataframe thead th {\n",
       "        text-align: right;\n",
       "    }\n",
       "</style>\n",
       "<table border=\"1\" class=\"dataframe\">\n",
       "  <thead>\n",
       "    <tr style=\"text-align: right;\">\n",
       "      <th></th>\n",
       "      <th>deal_id</th>\n",
       "      <th>funded_amount</th>\n",
       "      <th>funded_date</th>\n",
       "      <th>industry_id</th>\n",
       "      <th>year</th>\n",
       "      <th>Month</th>\n",
       "    </tr>\n",
       "  </thead>\n",
       "  <tbody>\n",
       "    <tr>\n",
       "      <th>22</th>\n",
       "      <td>a4Gf1000000nS7MEAU</td>\n",
       "      <td>12000</td>\n",
       "      <td>2018-10-03</td>\n",
       "      <td>3</td>\n",
       "      <td>2018</td>\n",
       "      <td>10</td>\n",
       "    </tr>\n",
       "    <tr>\n",
       "      <th>42</th>\n",
       "      <td>a4Gf1000000nSM1EAM</td>\n",
       "      <td>10500</td>\n",
       "      <td>2020-10-15</td>\n",
       "      <td>3</td>\n",
       "      <td>2020</td>\n",
       "      <td>10</td>\n",
       "    </tr>\n",
       "    <tr>\n",
       "      <th>54</th>\n",
       "      <td>a4Gf1000000nSMbEAM</td>\n",
       "      <td>6500</td>\n",
       "      <td>2019-10-17</td>\n",
       "      <td>3</td>\n",
       "      <td>2019</td>\n",
       "      <td>10</td>\n",
       "    </tr>\n",
       "    <tr>\n",
       "      <th>106</th>\n",
       "      <td>a4Gf1000000nSPjEAM</td>\n",
       "      <td>7000</td>\n",
       "      <td>2020-10-22</td>\n",
       "      <td>3</td>\n",
       "      <td>2020</td>\n",
       "      <td>10</td>\n",
       "    </tr>\n",
       "    <tr>\n",
       "      <th>285</th>\n",
       "      <td>a4Gf1000000nSlnEAE</td>\n",
       "      <td>8800</td>\n",
       "      <td>2019-10-26</td>\n",
       "      <td>3</td>\n",
       "      <td>2019</td>\n",
       "      <td>10</td>\n",
       "    </tr>\n",
       "  </tbody>\n",
       "</table>\n",
       "</div>"
      ],
      "text/plain": [
       "                deal_id  funded_amount funded_date  industry_id  year  Month\n",
       "22   a4Gf1000000nS7MEAU          12000  2018-10-03            3  2018     10\n",
       "42   a4Gf1000000nSM1EAM          10500  2020-10-15            3  2020     10\n",
       "54   a4Gf1000000nSMbEAM           6500  2019-10-17            3  2019     10\n",
       "106  a4Gf1000000nSPjEAM           7000  2020-10-22            3  2020     10\n",
       "285  a4Gf1000000nSlnEAE           8800  2019-10-26            3  2019     10"
      ]
     },
     "execution_count": 109,
     "metadata": {},
     "output_type": "execute_result"
    }
   ],
   "source": [
    "fourth_quarter_technology = fourth_quarter[fourth_quarter['industry_id']==3]\n",
    "fourth_quarter_technology.head()"
   ]
  },
  {
   "cell_type": "code",
   "execution_count": 110,
   "id": "9b9d55d1",
   "metadata": {},
   "outputs": [
    {
     "data": {
      "text/plain": [
       "976400"
      ]
     },
     "execution_count": 110,
     "metadata": {},
     "output_type": "execute_result"
    }
   ],
   "source": [
    "fourth_quarter_technology_funded_amount = fourth_quarter_technology['funded_amount'].sum()\n",
    "fourth_quarter_technology_funded_amount"
   ]
  },
  {
   "cell_type": "code",
   "execution_count": 111,
   "id": "160c95db",
   "metadata": {},
   "outputs": [
    {
     "data": {
      "text/html": [
       "<div>\n",
       "<style scoped>\n",
       "    .dataframe tbody tr th:only-of-type {\n",
       "        vertical-align: middle;\n",
       "    }\n",
       "\n",
       "    .dataframe tbody tr th {\n",
       "        vertical-align: top;\n",
       "    }\n",
       "\n",
       "    .dataframe thead th {\n",
       "        text-align: right;\n",
       "    }\n",
       "</style>\n",
       "<table border=\"1\" class=\"dataframe\">\n",
       "  <thead>\n",
       "    <tr style=\"text-align: right;\">\n",
       "      <th></th>\n",
       "      <th>deal_id</th>\n",
       "      <th>funded_amount</th>\n",
       "      <th>funded_date</th>\n",
       "      <th>industry_id</th>\n",
       "      <th>year</th>\n",
       "      <th>Month</th>\n",
       "    </tr>\n",
       "  </thead>\n",
       "  <tbody>\n",
       "    <tr>\n",
       "      <th>86</th>\n",
       "      <td>a4Gf1000000nSOoEAM</td>\n",
       "      <td>20000</td>\n",
       "      <td>2018-10-09</td>\n",
       "      <td>4</td>\n",
       "      <td>2018</td>\n",
       "      <td>10</td>\n",
       "    </tr>\n",
       "    <tr>\n",
       "      <th>89</th>\n",
       "      <td>a4Gf1000000nSOsEAM</td>\n",
       "      <td>3000</td>\n",
       "      <td>2020-10-13</td>\n",
       "      <td>4</td>\n",
       "      <td>2020</td>\n",
       "      <td>10</td>\n",
       "    </tr>\n",
       "    <tr>\n",
       "      <th>120</th>\n",
       "      <td>a4Gf1000000nSQPEA2</td>\n",
       "      <td>13000</td>\n",
       "      <td>2018-10-11</td>\n",
       "      <td>4</td>\n",
       "      <td>2018</td>\n",
       "      <td>10</td>\n",
       "    </tr>\n",
       "    <tr>\n",
       "      <th>162</th>\n",
       "      <td>a4Gf1000000nSTDEA2</td>\n",
       "      <td>40000</td>\n",
       "      <td>2020-10-29</td>\n",
       "      <td>4</td>\n",
       "      <td>2020</td>\n",
       "      <td>10</td>\n",
       "    </tr>\n",
       "    <tr>\n",
       "      <th>187</th>\n",
       "      <td>a4Gf1000000nSfOEAU</td>\n",
       "      <td>10000</td>\n",
       "      <td>2019-10-23</td>\n",
       "      <td>4</td>\n",
       "      <td>2019</td>\n",
       "      <td>10</td>\n",
       "    </tr>\n",
       "  </tbody>\n",
       "</table>\n",
       "</div>"
      ],
      "text/plain": [
       "                deal_id  funded_amount funded_date  industry_id  year  Month\n",
       "86   a4Gf1000000nSOoEAM          20000  2018-10-09            4  2018     10\n",
       "89   a4Gf1000000nSOsEAM           3000  2020-10-13            4  2020     10\n",
       "120  a4Gf1000000nSQPEA2          13000  2018-10-11            4  2018     10\n",
       "162  a4Gf1000000nSTDEA2          40000  2020-10-29            4  2020     10\n",
       "187  a4Gf1000000nSfOEAU          10000  2019-10-23            4  2019     10"
      ]
     },
     "execution_count": 111,
     "metadata": {},
     "output_type": "execute_result"
    }
   ],
   "source": [
    "fourth_quarter_other = fourth_quarter[fourth_quarter['industry_id']==4]\n",
    "fourth_quarter_other.head()"
   ]
  },
  {
   "cell_type": "code",
   "execution_count": 112,
   "id": "1676026b",
   "metadata": {},
   "outputs": [
    {
     "data": {
      "text/plain": [
       "2261080"
      ]
     },
     "execution_count": 112,
     "metadata": {},
     "output_type": "execute_result"
    }
   ],
   "source": [
    "fourth_quarter_other_funded_amount = fourth_quarter_other['funded_amount'].sum()\n",
    "fourth_quarter_other_funded_amount"
   ]
  },
  {
   "cell_type": "code",
   "execution_count": 113,
   "id": "cb57931d",
   "metadata": {},
   "outputs": [],
   "source": [
    "funded_amount = {\"Commercial Industry\":[first_quarter_commercial_funded_amount,second_quarter_commercial_funded_amount, third_quarter_commercial_funded_amount,fourth_quarter_commercial_funded_amount],\n",
    "                \"Real Estate Industry\":[first_quarter_real_estate_funded_amount,second_quarter_real_estate_funded_amount, third_quarter_real_estate_funded_amount,fourth_quarter_real_estate_funded_amount],\n",
    "                \"Technology Industry\":[first_quarter_technology_funded_amount,second_quarter_technology_funded_amount, third_quarter_technology_funded_amount,fourth_quarter_technology_funded_amount],\n",
    "                \"Other Industry\":[first_quarter_other_funded_amount,second_quarter_other_funded_amount, third_quarter_other_funded_amount,fourth_quarter_other_funded_amount]}"
   ]
  },
  {
   "cell_type": "code",
   "execution_count": 114,
   "id": "11991178",
   "metadata": {},
   "outputs": [
    {
     "data": {
      "text/html": [
       "<div>\n",
       "<style scoped>\n",
       "    .dataframe tbody tr th:only-of-type {\n",
       "        vertical-align: middle;\n",
       "    }\n",
       "\n",
       "    .dataframe tbody tr th {\n",
       "        vertical-align: top;\n",
       "    }\n",
       "\n",
       "    .dataframe thead th {\n",
       "        text-align: right;\n",
       "    }\n",
       "</style>\n",
       "<table border=\"1\" class=\"dataframe\">\n",
       "  <thead>\n",
       "    <tr style=\"text-align: right;\">\n",
       "      <th></th>\n",
       "      <th>Commercial Industry</th>\n",
       "      <th>Real Estate Industry</th>\n",
       "      <th>Technology Industry</th>\n",
       "      <th>Other Industry</th>\n",
       "    </tr>\n",
       "  </thead>\n",
       "  <tbody>\n",
       "    <tr>\n",
       "      <th>First Quarter</th>\n",
       "      <td>1345900</td>\n",
       "      <td>1345900</td>\n",
       "      <td>812900</td>\n",
       "      <td>1703800</td>\n",
       "    </tr>\n",
       "    <tr>\n",
       "      <th>Second Quarter</th>\n",
       "      <td>950100</td>\n",
       "      <td>1363500</td>\n",
       "      <td>1148800</td>\n",
       "      <td>1983200</td>\n",
       "    </tr>\n",
       "    <tr>\n",
       "      <th>Third Quarter</th>\n",
       "      <td>942800</td>\n",
       "      <td>1909500</td>\n",
       "      <td>1029400</td>\n",
       "      <td>2145800</td>\n",
       "    </tr>\n",
       "    <tr>\n",
       "      <th>Fourth Quarter</th>\n",
       "      <td>1390700</td>\n",
       "      <td>1815600</td>\n",
       "      <td>976400</td>\n",
       "      <td>2261080</td>\n",
       "    </tr>\n",
       "  </tbody>\n",
       "</table>\n",
       "</div>"
      ],
      "text/plain": [
       "                Commercial Industry  Real Estate Industry  \\\n",
       "First Quarter               1345900               1345900   \n",
       "Second Quarter               950100               1363500   \n",
       "Third Quarter                942800               1909500   \n",
       "Fourth Quarter              1390700               1815600   \n",
       "\n",
       "                Technology Industry  Other Industry  \n",
       "First Quarter                812900         1703800  \n",
       "Second Quarter              1148800         1983200  \n",
       "Third Quarter               1029400         2145800  \n",
       "Fourth Quarter               976400         2261080  "
      ]
     },
     "execution_count": 114,
     "metadata": {},
     "output_type": "execute_result"
    }
   ],
   "source": [
    "funded_amount_per_quarter = pd.DataFrame(funded_amount, index=[\"First Quarter\", \"Second Quarter\", \"Third Quarter\", \"Fourth Quarter\"])\n",
    "funded_amount_per_quarter.head()"
   ]
  },
  {
   "cell_type": "code",
   "execution_count": 115,
   "id": "06e042ab",
   "metadata": {},
   "outputs": [
    {
     "data": {
      "text/plain": [
       "Text(0.5, 1.0, 'Fund Amount per Industry by Quarter')"
      ]
     },
     "execution_count": 115,
     "metadata": {},
     "output_type": "execute_result"
    },
    {
     "data": {
      "image/png": "[encoded data removed]",
      "text/plain": [
       "<Figure size 640x480 with 1 Axes>"
      ]
     },
     "metadata": {},
     "output_type": "display_data"
    }
   ],
   "source": [
    "funded_amount_per_quarter.plot(kind='bar')\n",
    "plt.xlabel('Quarter')\n",
    "plt.ylabel('Fund Amount')\n",
    "plt.title('Fund Amount per Industry by Quarter')\n",
    "#plt.savefig('fund amount per industry by quarter.png')"
   ]
  },
  {
   "cell_type": "code",
   "execution_count": 116,
   "id": "902bdce5",
   "metadata": {},
   "outputs": [
    {
     "data": {
      "text/plain": [
       "Text(0.5, 1.0, 'Fund Amount per Industry by Quarter')"
      ]
     },
     "execution_count": 116,
     "metadata": {},
     "output_type": "execute_result"
    },
    {
     "data": {
      "image/png": "[encoded data removed]",
      "text/plain": [
       "<Figure size 640x480 with 1 Axes>"
      ]
     },
     "metadata": {},
     "output_type": "display_data"
    }
   ],
   "source": [
    "funded_amount_per_quarter.plot(kind='line')\n",
    "plt.xlabel('Quarter')\n",
    "plt.ylabel('Fund Amount')\n",
    "plt.title('Fund Amount per Industry by Quarter')\n",
    "#plt.savefig('fund amount per industry by quarter2.png')"
   ]
  },
  {
   "cell_type": "code",
   "execution_count": null,
   "id": "3107036f",
   "metadata": {},
   "outputs": [],
   "source": []
  },
  {
   "cell_type": "code",
   "execution_count": null,
   "id": "a909fc83",
   "metadata": {},
   "outputs": [],
   "source": []
  }
 ],
 "metadata": {
  "kernelspec": {
   "display_name": "Python 3 (ipykernel)",
   "language": "python",
   "name": "python3"
  },
  "language_info": {
   "codemirror_mode": {
    "name": "ipython",
    "version": 3
   },
   "file_extension": ".py",
   "mimetype": "text/x-python",
   "name": "python",
   "nbconvert_exporter": "python",
   "pygments_lexer": "ipython3",
   "version": "3.9.13"
  }
 },
 "nbformat": 4,
 "nbformat_minor": 5
}
