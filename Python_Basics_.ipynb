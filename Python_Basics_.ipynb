{
  "cells": [
    {
      "cell_type": "markdown",
      "metadata": {
        "id": "view-in-github",
        "colab_type": "text"
      },
      "source": [
        "<a href=\"https://colab.research.google.com/github/abayomiabiodun/Project/blob/main/Python_Basics_.ipynb\" target=\"_parent\"><img src=\"https://colab.research.google.com/assets/colab-badge.svg\" alt=\"Open In Colab\"/></a>"
      ]
    },
    {
      "cell_type": "markdown",
      "id": "0d81d271",
      "metadata": {
        "id": "0d81d271"
      },
      "source": [
        "# What is programming ?"
      ]
    },
    {
      "cell_type": "markdown",
      "id": "47084b0a",
      "metadata": {
        "id": "47084b0a"
      },
      "source": [
        "Programming is a way to `instruct the computer to perform various tasks`"
      ]
    },
    {
      "cell_type": "markdown",
      "id": "f3a81d30",
      "metadata": {
        "id": "f3a81d30"
      },
      "source": [
        "# What is python programming?"
      ]
    },
    {
      "cell_type": "markdown",
      "id": "2e8b8cb0",
      "metadata": {
        "id": "2e8b8cb0"
      },
      "source": [
        "Python is a high-level, general-purpose programming language. Its design philosophy emphasizes code readability with the use of significant indentation. Python is dynamically-typed and garbage-collected. It supports multiple programming paradigms, including structured, object-oriented and functional programming by <span style=\"color:red\"> Wikipedia</span>"
      ]
    },
    {
      "cell_type": "markdown",
      "id": "aa0b5d11",
      "metadata": {
        "id": "aa0b5d11"
      },
      "source": [
        "# Application of Python Programming Language"
      ]
    },
    {
      "cell_type": "markdown",
      "id": "8a2ffe12",
      "metadata": {
        "id": "8a2ffe12"
      },
      "source": [
        " 1. Web Development\n",
        " 2. Game Development\n",
        " 3. Machine Learning and Artificial Intelligence\n",
        " 4. Data Science and Data Visualization\n",
        " 5. Desktop GUI\n",
        " 6. Web Scraping Applications\n",
        " 7. Business Applications\n",
        " 8. Audio and Video Applications\n",
        " 9. CAD Applications\n",
        " 10. Embedded Applications"
      ]
    },
    {
      "cell_type": "markdown",
      "id": "0c261b0f",
      "metadata": {
        "id": "0c261b0f"
      },
      "source": [
        "### Python Variable\n",
        "\n",
        "Variables are containers for storing data values."
      ]
    },
    {
      "cell_type": "markdown",
      "id": "8ec3cd18",
      "metadata": {
        "id": "8ec3cd18"
      },
      "source": [
        "## Variable creation"
      ]
    },
    {
      "cell_type": "code",
      "execution_count": null,
      "id": "2573a1c4",
      "metadata": {
        "colab": {
          "base_uri": "https://localhost:8080/"
        },
        "id": "2573a1c4",
        "outputId": "c9c7a4f1-b54d-4044-9384-257385136fba"
      },
      "outputs": [
        {
          "output_type": "stream",
          "name": "stdout",
          "text": [
            "Python\n",
            "40.7\n",
            "2\n",
            "4\n"
          ]
        }
      ],
      "source": [
        "a = \"Python\"\n",
        "b = 40.7\n",
        "x = 2\n",
        "y = 4\n",
        "\n",
        "print(a)\n",
        "print(b)\n",
        "print(x)\n",
        "print(y)"
      ]
    },
    {
      "cell_type": "code",
      "execution_count": null,
      "id": "8c32c456",
      "metadata": {
        "id": "8c32c456",
        "outputId": "fc5b8ae0-67d7-4e51-8440-3db3dd1bbd2a"
      },
      "outputs": [
        {
          "ename": "SyntaxError",
          "evalue": "cannot assign to literal (3763610352.py, line 1)",
          "output_type": "error",
          "traceback": [
            "\u001b[0;36m  File \u001b[0;32m\"/var/folders/2v/ccvhy2cn28vctd3kt9fmhtrm0000gn/T/ipykernel_8488/3763610352.py\"\u001b[0;36m, line \u001b[0;32m1\u001b[0m\n\u001b[0;31m    3  = \"Python\"\u001b[0m\n\u001b[0m    ^\u001b[0m\n\u001b[0;31mSyntaxError\u001b[0m\u001b[0;31m:\u001b[0m cannot assign to literal\n"
          ]
        }
      ],
      "source": [
        "3  = \"Python\"\n",
        "print(3)"
      ]
    },
    {
      "cell_type": "code",
      "execution_count": null,
      "id": "c7eb46f9",
      "metadata": {
        "id": "c7eb46f9",
        "outputId": "bd54f73c-fd84-4173-b143-ae27f07d3ee5"
      },
      "outputs": [
        {
          "name": "stdout",
          "output_type": "stream",
          "text": [
            "Python\n"
          ]
        }
      ],
      "source": [
        "_ = \"Python\"\n",
        "print(_)"
      ]
    },
    {
      "cell_type": "code",
      "execution_count": null,
      "id": "38dc66d2",
      "metadata": {
        "id": "38dc66d2",
        "outputId": "915b553c-f12d-4ee2-dbfa-9818f7818070"
      },
      "outputs": [
        {
          "name": "stdout",
          "output_type": "stream",
          "text": [
            "63\n"
          ]
        }
      ],
      "source": [
        "NUM1 = 23\n",
        "num2 = 40\n",
        "total = NUM1 + num2\n",
        "print(total)"
      ]
    },
    {
      "cell_type": "markdown",
      "id": "2099e4c3",
      "metadata": {
        "id": "2099e4c3"
      },
      "source": [
        "## Rules for Naming Variable in Python\n",
        " - A variable name must start with a letter or the underscore character\n",
        " - A variable name cannot start with a number\n",
        " - A variable name can only contain alpha-numeric characters and underscores (A-z, 0-9, and _ )\n",
        " - Variable names are case-sensitive (age, Age and AGE are three different variables)\n",
        " - A variable can have a short name (like x and y) or a more descriptive name (age, carname, total_volume)."
      ]
    },
    {
      "cell_type": "code",
      "execution_count": null,
      "id": "8ac6cd4d",
      "metadata": {
        "id": "8ac6cd4d",
        "outputId": "2b0b1a8e-5b05-483d-e07c-13307057f747"
      },
      "outputs": [
        {
          "name": "stdout",
          "output_type": "stream",
          "text": [
            "4\n"
          ]
        }
      ],
      "source": [
        "age = 4\n",
        "print(age)"
      ]
    },
    {
      "cell_type": "code",
      "execution_count": null,
      "id": "475f312c",
      "metadata": {
        "id": "475f312c",
        "outputId": "1b6602ca-d75a-4231-f15f-758155dd917f"
      },
      "outputs": [
        {
          "name": "stdout",
          "output_type": "stream",
          "text": [
            "4\n"
          ]
        }
      ],
      "source": [
        "Age = 70\n",
        "print(age)"
      ]
    },
    {
      "cell_type": "code",
      "execution_count": null,
      "id": "c36bcda7",
      "metadata": {
        "id": "c36bcda7",
        "outputId": "566aaa0e-ce64-419d-d8eb-8eb9f9518700"
      },
      "outputs": [
        {
          "name": "stdout",
          "output_type": "stream",
          "text": [
            "Victor\n"
          ]
        }
      ],
      "source": [
        "name_of_student = 'Victor'\n",
        "print(name_of_student)"
      ]
    },
    {
      "cell_type": "code",
      "execution_count": null,
      "id": "dc2d0b04",
      "metadata": {
        "id": "dc2d0b04",
        "outputId": "126d9620-6275-4570-aff7-51dd01773b1a"
      },
      "outputs": [
        {
          "name": "stdout",
          "output_type": "stream",
          "text": [
            "40\n",
            "30\n",
            "20\n"
          ]
        }
      ],
      "source": [
        "## many value to a variable name\n",
        "\n",
        "a,b,c = 40, 30, 20\n",
        "\n",
        "print(a)\n",
        "print(b)\n",
        "print(c)"
      ]
    },
    {
      "cell_type": "code",
      "execution_count": null,
      "id": "52375afe",
      "metadata": {
        "id": "52375afe",
        "outputId": "852ada9e-f14c-446b-95df-25d2b75dbab4"
      },
      "outputs": [
        {
          "name": "stdout",
          "output_type": "stream",
          "text": [
            "book pen bag\n",
            "book  pen  bag\n"
          ]
        }
      ],
      "source": [
        "## outputing multiple variable\n",
        "items1 = 'book '\n",
        "items2 = 'pen '\n",
        "items3 = 'bag'\n",
        "\n",
        "print(items1+items2+items3)\n",
        "print(items1,items2,items3)\n",
        "\n",
        "#print(items1)\n",
        "#print(items2)\n",
        "#print(items3)"
      ]
    },
    {
      "cell_type": "markdown",
      "id": "dad808fb",
      "metadata": {
        "id": "dad808fb"
      },
      "source": [
        "## Built-in Data Type in Python\n",
        "\n",
        "In programming, data type is an important concept.\n",
        "\n",
        "Variables can store data of different types, and different types can do different things.\n",
        "\n",
        "Python has the following data types built-in by default, in these categories:\n",
        "\n",
        " - Text Type:\tstr\n",
        " - Numeric Types:\tint, float, complex\n",
        " - Sequence Types:\tlist, tuple, range\n",
        " - Mapping Type:\tdict\n",
        " - Set Types:\tset\n",
        " - Boolean Type:\tTrue or False"
      ]
    },
    {
      "cell_type": "code",
      "execution_count": null,
      "id": "536be7d7",
      "metadata": {
        "id": "536be7d7",
        "outputId": "7ccb5132-23f8-40e0-d0bb-63418e950f5b"
      },
      "outputs": [
        {
          "name": "stdout",
          "output_type": "stream",
          "text": [
            "Emmanuel\n",
            "<class 'str'>\n",
            "OAU\n",
            "<class 'str'>\n",
            "Python\n",
            "<class 'str'>\n"
          ]
        }
      ],
      "source": [
        "Name = \"Emmanuel\"\n",
        "School = \"OAU\"\n",
        "Course_of_study = \"Python\"\n",
        "print(Name)\n",
        "print(type(Name))\n",
        "print(School)\n",
        "print(type(School))\n",
        "print(Course_of_study)\n",
        "print(type(Course_of_study))"
      ]
    },
    {
      "cell_type": "markdown",
      "id": "36bd01ab",
      "metadata": {
        "id": "36bd01ab"
      },
      "source": [
        "## Numeric type\n",
        " - int\n",
        " - float\n",
        " - complex"
      ]
    },
    {
      "cell_type": "code",
      "execution_count": null,
      "id": "9bc3fd62",
      "metadata": {
        "id": "9bc3fd62",
        "outputId": "d5c13fe2-f094-4c8e-dc97-80457e6749df"
      },
      "outputs": [
        {
          "name": "stdout",
          "output_type": "stream",
          "text": [
            "34\n",
            "<class 'int'>\n",
            "49.5\n",
            "<class 'float'>\n",
            "(3+5j)\n",
            "<class 'complex'>\n"
          ]
        }
      ],
      "source": [
        "# Integer data type - whole number\n",
        "num1 = 34\n",
        "# decimal - float data type\n",
        "num2 = 49.5\n",
        "num3 = 3 + 5j\n",
        "print(num1)\n",
        "print(type(num1))\n",
        "print(num2)\n",
        "print(type(num2))\n",
        "print(num3)\n",
        "print(type(num3))"
      ]
    },
    {
      "cell_type": "markdown",
      "id": "0307190f",
      "metadata": {
        "id": "0307190f"
      },
      "source": [
        "# List"
      ]
    },
    {
      "cell_type": "code",
      "execution_count": null,
      "id": "2cac53e0",
      "metadata": {
        "id": "2cac53e0",
        "outputId": "5a3e6c72-92d2-4ad0-8acc-dad987135944"
      },
      "outputs": [
        {
          "name": "stdout",
          "output_type": "stream",
          "text": [
            "[1, 2, 3, 4, 5, 6, 7, 8, 9, 90, 100]\n",
            "['Miracle', 'Oluwaseun', 'Victor', 'Emmanuel', 'Oyindamola']\n",
            "<class 'list'>\n",
            "<class 'list'>\n"
          ]
        }
      ],
      "source": [
        "numbers = [1,2,3,4,5,6,7,8,9,90,100]\n",
        "names = [\"Miracle\", \"Oluwaseun\", \"Victor\", \"Emmanuel\", \"Oyindamola\"]\n",
        "print(numbers)\n",
        "print(names)\n",
        "print(type(numbers))\n",
        "print(type(names))"
      ]
    },
    {
      "cell_type": "markdown",
      "id": "d74aec44",
      "metadata": {
        "id": "d74aec44"
      },
      "source": [
        "# Tuple"
      ]
    },
    {
      "cell_type": "code",
      "execution_count": null,
      "id": "89e69975",
      "metadata": {
        "id": "89e69975",
        "outputId": "98eebe5d-9a78-495b-d0be-da40ae662fe9"
      },
      "outputs": [
        {
          "name": "stdout",
          "output_type": "stream",
          "text": [
            "(1, 2, 3, 4, 5, 6, 7, 8, 9, 90, 100)\n",
            "('Miracle', 'Oluwaseun', 'Victor', 'Emmanuel', 'Oyindamola')\n",
            "<class 'tuple'>\n",
            "<class 'tuple'>\n"
          ]
        }
      ],
      "source": [
        "numbers = (1,2,3,4,5,6,7,8,9,90,100)\n",
        "names = (\"Miracle\", \"Oluwaseun\", \"Victor\", \"Emmanuel\", \"Oyindamola\")\n",
        "print(numbers)\n",
        "print(names)\n",
        "print(type(numbers))\n",
        "print(type(names))"
      ]
    },
    {
      "cell_type": "markdown",
      "id": "e3f297bd",
      "metadata": {
        "id": "e3f297bd"
      },
      "source": [
        "# Range"
      ]
    },
    {
      "cell_type": "code",
      "execution_count": null,
      "id": "b8e793dc",
      "metadata": {
        "id": "b8e793dc",
        "outputId": "c7b5928a-7e39-41e6-cf25-76c4bd3028f7"
      },
      "outputs": [
        {
          "name": "stdout",
          "output_type": "stream",
          "text": [
            "range(1, 20)\n",
            "<class 'range'>\n"
          ]
        }
      ],
      "source": [
        "r = range(1,20)\n",
        "print(r)\n",
        "print(type(r))"
      ]
    },
    {
      "cell_type": "code",
      "execution_count": null,
      "id": "35d7a0f7",
      "metadata": {
        "id": "35d7a0f7",
        "outputId": "6cbfc4ce-d715-4d56-9b90-5a1496a5a1ec"
      },
      "outputs": [
        {
          "name": "stdout",
          "output_type": "stream",
          "text": [
            "1\n",
            "2\n",
            "3\n",
            "4\n",
            "5\n",
            "6\n",
            "7\n",
            "8\n",
            "9\n",
            "10\n",
            "11\n",
            "12\n",
            "13\n",
            "14\n",
            "15\n",
            "16\n",
            "17\n",
            "18\n",
            "19\n"
          ]
        }
      ],
      "source": [
        "for i in range(1,20):\n",
        "    print(i)"
      ]
    },
    {
      "cell_type": "markdown",
      "id": "0639b201",
      "metadata": {
        "id": "0639b201"
      },
      "source": [
        "# Set"
      ]
    },
    {
      "cell_type": "code",
      "execution_count": null,
      "id": "092d884b",
      "metadata": {
        "id": "092d884b",
        "outputId": "34254937-bb7e-4b15-f223-f4dfce177520"
      },
      "outputs": [
        {
          "name": "stdout",
          "output_type": "stream",
          "text": [
            "{1, 2, 3, 4, 'victor', 'Aderonke'}\n"
          ]
        }
      ],
      "source": [
        "s = {1,2,3,4,4,4,4,'Aderonke', 'victor'}\n",
        "print(s)"
      ]
    },
    {
      "cell_type": "markdown",
      "id": "d99622d5",
      "metadata": {
        "id": "d99622d5"
      },
      "source": [
        "## Dictionary"
      ]
    },
    {
      "cell_type": "code",
      "execution_count": null,
      "id": "124fd46b",
      "metadata": {
        "id": "124fd46b",
        "outputId": "475aa2f6-844d-4bbc-e4c2-7d84206a756e"
      },
      "outputs": [
        {
          "name": "stdout",
          "output_type": "stream",
          "text": [
            "{'name': 'Abayomi', 'AGE': 25, 'Course': 'Python'}\n",
            "<class 'dict'>\n"
          ]
        }
      ],
      "source": [
        "d = {\"name\": \"Abayomi\", \"AGE\": 25, \"Course\":\"Python\"}\n",
        "print(d)\n",
        "print(type(d))"
      ]
    },
    {
      "cell_type": "markdown",
      "id": "14d2d66f",
      "metadata": {
        "id": "14d2d66f"
      },
      "source": [
        "## Boolean ( True or False )"
      ]
    },
    {
      "cell_type": "code",
      "execution_count": null,
      "id": "a3e4ad67",
      "metadata": {
        "id": "a3e4ad67",
        "outputId": "16c8ec13-015f-4ba2-89b9-f81b5951836f"
      },
      "outputs": [
        {
          "name": "stdout",
          "output_type": "stream",
          "text": [
            "True\n"
          ]
        }
      ],
      "source": [
        "print(2 == 2)"
      ]
    },
    {
      "cell_type": "code",
      "execution_count": null,
      "id": "ff7b0987",
      "metadata": {
        "id": "ff7b0987",
        "outputId": "849197d4-de7c-41c3-fd69-5fee89bd91e5"
      },
      "outputs": [
        {
          "name": "stdout",
          "output_type": "stream",
          "text": [
            "False\n"
          ]
        }
      ],
      "source": [
        "print(2 > 3)"
      ]
    },
    {
      "cell_type": "code",
      "execution_count": null,
      "id": "27f764f3",
      "metadata": {
        "id": "27f764f3",
        "outputId": "d94e3b5c-55f3-4679-cb82-376db2203041"
      },
      "outputs": [
        {
          "name": "stdout",
          "output_type": "stream",
          "text": [
            "True\n"
          ]
        }
      ],
      "source": [
        "print(4<5)"
      ]
    },
    {
      "cell_type": "markdown",
      "id": "29b1b7f7",
      "metadata": {
        "id": "29b1b7f7"
      },
      "source": [
        "# Python Conditions and If statements\n",
        "\n",
        "Python supports the usual logical conditions from mathematics:\n",
        "\n",
        " - Equals: `a == b`\n",
        " - Not Equals: `a != b`\n",
        " - Less than: `a < b`\n",
        " - Less than or equal to: `a <= b`\n",
        " - Greater than: `a > b`\n",
        " - Greater than or equal to: `a >= b`\n",
        "\n",
        "These conditions can be used in several ways, most commonly in \"if statements\" and loops.\n",
        "\n",
        "An \"if statement\" is written by using the `if` keyword and other conditional statement are `elif` and `else`"
      ]
    },
    {
      "cell_type": "markdown",
      "id": "b0cfa185",
      "metadata": {
        "id": "b0cfa185"
      },
      "source": [
        "## Example"
      ]
    },
    {
      "cell_type": "markdown",
      "id": "9d146022",
      "metadata": {
        "id": "9d146022"
      },
      "source": [
        "## if\n",
        "## elif\n",
        "## else"
      ]
    },
    {
      "cell_type": "code",
      "execution_count": null,
      "id": "3e74adc4",
      "metadata": {
        "id": "3e74adc4",
        "outputId": "3f1397c4-8998-4f79-ca6d-ef528076b5ae"
      },
      "outputs": [
        {
          "name": "stdout",
          "output_type": "stream",
          "text": [
            "Enter the name of this Bootcamp Sponsor: Microsoft\n",
            "Microsoft  is the one sponsoring this Bootcamp\n"
          ]
        }
      ],
      "source": [
        "Bootcamp_Sponsor = input(\"Enter the name of this Bootcamp Sponsor: \")\n",
        "\n",
        "if Bootcamp_Sponsor == \"Microsoft\":\n",
        "    print(Bootcamp_Sponsor,\" is the one sponsoring this Bootcamp\")\n",
        "else:\n",
        "    print(\"i'm not aware of the name of the Sponsor of this Bootcamp\")"
      ]
    },
    {
      "cell_type": "code",
      "execution_count": null,
      "id": "9424c42f",
      "metadata": {
        "id": "9424c42f",
        "outputId": "30bdee4f-645a-4438-98c2-ac8d4b190ccd"
      },
      "outputs": [
        {
          "name": "stdout",
          "output_type": "stream",
          "text": [
            "Enter any traffic light colour of your choice: white\n",
            "I'm not familiar with the colour you gave\n"
          ]
        }
      ],
      "source": [
        "colour = input(\"Enter any traffic light colour of your choice: \")\n",
        "\n",
        "if colour == 'yellow':\n",
        "    print(\"The vehicle should get set\")\n",
        "elif colour == 'green':\n",
        "    print(\"The vehicle should move\")\n",
        "elif colour == 'red':\n",
        "    print(\"The vehicle should stop\")\n",
        "else:\n",
        "    print(\"I'm not familiar with the colour you gave\")"
      ]
    },
    {
      "cell_type": "code",
      "execution_count": null,
      "id": "fcd7dcc7",
      "metadata": {
        "id": "fcd7dcc7",
        "outputId": "f6c4cc63-f3a2-4b33-db4a-269927928e0c"
      },
      "outputs": [
        {
          "name": "stdout",
          "output_type": "stream",
          "text": [
            "Guess a number: 20\n",
            "You guess right\n"
          ]
        }
      ],
      "source": [
        "original_number = 20\n",
        "\n",
        "guess = int(input(\"Guess a number: \"))\n",
        "\n",
        "if guess < original_number:\n",
        "    print(\"Your guess is less than the original number\")\n",
        "elif guess > original_number:\n",
        "    print(\"Your guess is greater than the original number\")\n",
        "elif guess == original_number:\n",
        "    print(\"You guess right\")\n",
        "else:\n",
        "    print(\"ohhh sorry, you really tried but try again\")"
      ]
    },
    {
      "cell_type": "markdown",
      "id": "317d1459",
      "metadata": {
        "id": "317d1459"
      },
      "source": [
        "# Loop In Python\n",
        "## Type of loop in python\n",
        " - for loop\n",
        " - while loop"
      ]
    },
    {
      "cell_type": "markdown",
      "id": "c393d4c0",
      "metadata": {
        "id": "c393d4c0"
      },
      "source": [
        "# For loop"
      ]
    },
    {
      "cell_type": "code",
      "execution_count": null,
      "id": "6ccdee52",
      "metadata": {
        "id": "6ccdee52",
        "outputId": "f69514c9-2602-433a-d461-4973b1a5c192"
      },
      "outputs": [
        {
          "name": "stdout",
          "output_type": "stream",
          "text": [
            "apple\n",
            "banana\n",
            "cherry\n"
          ]
        }
      ],
      "source": [
        "fruits = [\"apple\", \"banana\", \"cherry\"]\n",
        "\n",
        "#print(fruits)\n",
        "\n",
        "for i in fruits:\n",
        "    print(i)"
      ]
    },
    {
      "cell_type": "code",
      "execution_count": null,
      "id": "2bfc1737",
      "metadata": {
        "id": "2bfc1737",
        "outputId": "bc0a2a80-c238-4204-96b7-662f7a1e0c5d"
      },
      "outputs": [
        {
          "name": "stdout",
          "output_type": "stream",
          "text": [
            "0\n",
            "1\n",
            "2\n",
            "3\n",
            "4\n",
            "5\n",
            "6\n",
            "7\n",
            "8\n",
            "9\n"
          ]
        }
      ],
      "source": [
        "for i in range(10):\n",
        "    print(i)"
      ]
    },
    {
      "cell_type": "markdown",
      "id": "3b20f12c",
      "metadata": {
        "id": "3b20f12c"
      },
      "source": [
        "## While loop"
      ]
    },
    {
      "cell_type": "code",
      "execution_count": null,
      "id": "1803794a",
      "metadata": {
        "id": "1803794a",
        "outputId": "0e8a67d0-879b-4320-ddde-eb462bd9d151"
      },
      "outputs": [
        {
          "name": "stdout",
          "output_type": "stream",
          "text": [
            "0\n",
            "3\n",
            "6\n",
            "9\n"
          ]
        }
      ],
      "source": [
        "i = 0\n",
        "\n",
        "while i<=10:\n",
        "\n",
        "    print(i)\n",
        "\n",
        "    i +=3"
      ]
    },
    {
      "cell_type": "code",
      "execution_count": null,
      "id": "97f171d4",
      "metadata": {
        "id": "97f171d4"
      },
      "outputs": [],
      "source": [
        "i = 100 #initialization\n",
        "\n",
        "while i <= 0:  # condition\n",
        "    print(i)\n",
        "\n",
        "    i  -= 1 # Increment/ decrement"
      ]
    },
    {
      "cell_type": "code",
      "execution_count": null,
      "id": "d57b82d0",
      "metadata": {
        "id": "d57b82d0",
        "outputId": "317133fe-3585-40c2-9f5c-d8ebf3b6e203"
      },
      "outputs": [
        {
          "name": "stdout",
          "output_type": "stream",
          "text": [
            "hello\n"
          ]
        }
      ],
      "source": [
        "print(\"hello\")"
      ]
    },
    {
      "cell_type": "code",
      "execution_count": null,
      "id": "f2bd89ad",
      "metadata": {
        "id": "f2bd89ad",
        "outputId": "41db54ce-7fba-4d41-bb58-d2d5007599fa"
      },
      "outputs": [
        {
          "name": "stdout",
          "output_type": "stream",
          "text": [
            "2.0\n",
            "4.0\n",
            "6.0\n",
            "8.0\n",
            "10.0\n",
            "12.0\n",
            "14.0\n",
            "16.0\n",
            "18.0\n",
            "20.0\n"
          ]
        }
      ],
      "source": [
        "i = 2.0\n",
        "\n",
        "while i <= 20:\n",
        "    print(i)\n",
        "    i+=2"
      ]
    },
    {
      "cell_type": "code",
      "execution_count": null,
      "id": "e0300c0e",
      "metadata": {
        "id": "e0300c0e"
      },
      "outputs": [],
      "source": [
        "password = \" \"\n"
      ]
    },
    {
      "cell_type": "code",
      "execution_count": null,
      "id": "4910c2a0",
      "metadata": {
        "id": "4910c2a0",
        "outputId": "cfbfcaa1-32d3-47bf-aa56-acc368dc33dd"
      },
      "outputs": [
        {
          "name": "stdout",
          "output_type": "stream",
          "text": [
            "0\n",
            "3\n",
            "6\n",
            "9\n",
            "12\n",
            "15\n",
            "18\n"
          ]
        }
      ],
      "source": [
        "i = 0 # initialization\n",
        "\n",
        "while i <= 20: # condition\n",
        "    print(i)\n",
        "\n",
        "    i  += 3 # Increment or decrement"
      ]
    },
    {
      "cell_type": "markdown",
      "id": "053604d3",
      "metadata": {
        "id": "053604d3"
      },
      "source": [
        "# Function in Python"
      ]
    },
    {
      "cell_type": "markdown",
      "id": "36e90fed",
      "metadata": {
        "id": "36e90fed"
      },
      "source": [
        "A function is a block of code which only runs when it is called.\n",
        "\n",
        "You can pass data, known as parameters, into a function.\n",
        "\n",
        "A function can return data as a result."
      ]
    },
    {
      "cell_type": "markdown",
      "id": "f0993a9c",
      "metadata": {
        "id": "f0993a9c"
      },
      "source": [
        "### Examples"
      ]
    },
    {
      "cell_type": "code",
      "execution_count": null,
      "id": "8b110727",
      "metadata": {
        "id": "8b110727",
        "outputId": "58a3e69b-cd4f-4123-c61c-62d36e536f5b"
      },
      "outputs": [
        {
          "name": "stdout",
          "output_type": "stream",
          "text": [
            "hello world\n"
          ]
        }
      ],
      "source": [
        "print(\"hello world\")"
      ]
    },
    {
      "cell_type": "markdown",
      "id": "40aa0459",
      "metadata": {
        "id": "40aa0459"
      },
      "source": [
        "### Calling a Function\n",
        "To call a function, use the function name followed by parenthesis:"
      ]
    },
    {
      "cell_type": "code",
      "execution_count": null,
      "id": "0e6d1313",
      "metadata": {
        "id": "0e6d1313",
        "outputId": "e0e9e4de-4893-49b6-81db-d99b17ab73cd"
      },
      "outputs": [
        {
          "data": {
            "text/plain": [
              "'Hello from a function, this is the third week of this bootcamp'"
            ]
          },
          "execution_count": 13,
          "metadata": {},
          "output_type": "execute_result"
        }
      ],
      "source": [
        "def my_function():\n",
        "    return(\"Hello from a function, this is the third week of this bootcamp\")\n",
        "\n",
        "my_function()"
      ]
    },
    {
      "cell_type": "markdown",
      "id": "014b63a8",
      "metadata": {
        "id": "014b63a8"
      },
      "source": [
        "### Arguments\n",
        "##### Information can be passed into functions as arguments.\n",
        "\n",
        "Arguments are specified after the function name, inside the parentheses. You can add as many arguments as you want, just separate them with a comma.\n",
        "\n",
        "The following example has a function with one argument (fname). When the function is called, we pass along a first name, which is used inside the function to print the full name:"
      ]
    },
    {
      "cell_type": "code",
      "execution_count": null,
      "id": "e9c4c6bf",
      "metadata": {
        "id": "e9c4c6bf",
        "outputId": "a3ded2ab-43cb-4c1b-910b-42d80b83e0ae"
      },
      "outputs": [
        {
          "name": "stdout",
          "output_type": "stream",
          "text": [
            "12\n"
          ]
        }
      ],
      "source": [
        "num1 = 2\n",
        "num2 = 4\n",
        "num3 = 6\n",
        "\n",
        "total = num1 + num2 + num3\n",
        "\n",
        "print(total)"
      ]
    },
    {
      "cell_type": "code",
      "execution_count": null,
      "id": "e0c046de",
      "metadata": {
        "id": "e0c046de",
        "outputId": "0c175bc1-cc61-4d06-feb1-4b7fc40d67bf"
      },
      "outputs": [
        {
          "name": "stdout",
          "output_type": "stream",
          "text": [
            "84\n"
          ]
        }
      ],
      "source": [
        "def sum_of_three_numbers(num1, num2, num3):\n",
        "    total = num1 + num2 + num3\n",
        "    return total\n",
        "\n",
        "print(sum_of_three_numbers(20,4,60))"
      ]
    },
    {
      "cell_type": "code",
      "execution_count": null,
      "id": "2ad51c01",
      "metadata": {
        "id": "2ad51c01",
        "outputId": "86ad457c-f9bf-40c6-9005-0f8f3855684e"
      },
      "outputs": [
        {
          "name": "stdout",
          "output_type": "stream",
          "text": [
            "Alexander, Hello and how are you? \n",
            "Emmanuel, Hello and how are you? \n",
            "Oyindamola, Hello and how are you? \n",
            "Abayomi, Hello and how are you? \n",
            "Gbemiga, Hello and how are you? \n"
          ]
        }
      ],
      "source": [
        "def greet_users(fname):\n",
        "    return(fname + \", Hello and how are you? \")\n",
        "\n",
        "\n",
        "print(greet_users(\"Alexander\"))\n",
        "print(greet_users(\"Emmanuel\"))\n",
        "print(greet_users(\"Oyindamola\"))\n",
        "print(greet_users(\"Abayomi\"))\n",
        "print(greet_users(\"Gbemiga\"))"
      ]
    },
    {
      "cell_type": "markdown",
      "id": "b7c96908",
      "metadata": {
        "id": "b7c96908"
      },
      "source": [
        "# Object Oriented Programming"
      ]
    },
    {
      "cell_type": "markdown",
      "id": "416ac930",
      "metadata": {
        "id": "416ac930"
      },
      "source": [
        "### Python Classes and Objects"
      ]
    },
    {
      "cell_type": "markdown",
      "id": "ac7cb6ad",
      "metadata": {
        "id": "ac7cb6ad"
      },
      "source": [
        "# Python Classes/Objects\n",
        "Python is an object oriented programming language.\n",
        "\n",
        "Almost everything in Python is an object, with its properties and methods.\n",
        "\n",
        "A Class is like an object constructor, or a \"blueprint\" for creating objects.\n"
      ]
    },
    {
      "cell_type": "markdown",
      "id": "0c39d0a1",
      "metadata": {
        "id": "0c39d0a1"
      },
      "source": [
        "# Create a Class\n"
      ]
    },
    {
      "cell_type": "markdown",
      "id": "8f0cc821",
      "metadata": {
        "id": "8f0cc821"
      },
      "source": [
        "# Example\n",
        "Create a class named MyClass, with a property named x:"
      ]
    },
    {
      "cell_type": "code",
      "execution_count": null,
      "id": "df6501b6",
      "metadata": {
        "id": "df6501b6"
      },
      "outputs": [],
      "source": [
        "class MyClass:\n",
        "  x = 69"
      ]
    },
    {
      "cell_type": "code",
      "execution_count": null,
      "id": "ef024880",
      "metadata": {
        "id": "ef024880",
        "outputId": "70c1ad38-6766-459e-9ab1-82900f5f5be9"
      },
      "outputs": [
        {
          "name": "stdout",
          "output_type": "stream",
          "text": [
            "<class '__main__.MyClass'>\n"
          ]
        }
      ],
      "source": [
        "print(MyClass)"
      ]
    },
    {
      "cell_type": "markdown",
      "id": "40d1e90b",
      "metadata": {
        "id": "40d1e90b"
      },
      "source": [
        "Create an object named p1, and print the value of x:\n",
        "\n"
      ]
    },
    {
      "cell_type": "code",
      "execution_count": null,
      "id": "d8d8fe41",
      "metadata": {
        "id": "d8d8fe41",
        "outputId": "23c05e97-129b-4667-f083-6fe7969cb57f"
      },
      "outputs": [
        {
          "name": "stdout",
          "output_type": "stream",
          "text": [
            "69\n"
          ]
        }
      ],
      "source": [
        "a = MyClass()\n",
        "print(a.x)"
      ]
    },
    {
      "cell_type": "code",
      "execution_count": null,
      "id": "554cbb9b",
      "metadata": {
        "id": "554cbb9b",
        "outputId": "5773bb1b-32ef-46e4-af2e-108f0f7ee885"
      },
      "outputs": [
        {
          "name": "stdout",
          "output_type": "stream",
          "text": [
            "John\n",
            "36\n"
          ]
        }
      ],
      "source": [
        "class Person:\n",
        "  def __init__(self, name, age):\n",
        "    self.name = name\n",
        "    self.age = age\n",
        "\n",
        "p1 = Person(\"John\", 36)\n",
        "\n",
        "print(p1.name)\n",
        "print(p1.age)"
      ]
    },
    {
      "cell_type": "markdown",
      "id": "679aee27",
      "metadata": {
        "id": "679aee27"
      },
      "source": [
        "## Python Inheritance\n",
        "Inheritance allows us to define a class that inherits all the methods and properties from another class.\n",
        "\n",
        "Parent class is the class being inherited from, also called base class.\n",
        "\n",
        "Child class is the class that inherits from another class, also called derived class."
      ]
    },
    {
      "cell_type": "markdown",
      "id": "bb939af2",
      "metadata": {
        "id": "bb939af2"
      },
      "source": [
        "# Create a Parent Class\n",
        "Any class can be a parent class, so the syntax is the same as creating any other class:"
      ]
    },
    {
      "cell_type": "markdown",
      "id": "726428b3",
      "metadata": {
        "id": "726428b3"
      },
      "source": [
        "## Example\n",
        "Create a class named `Person`, with `firstname` and `lastname` properties, and a `printname` method"
      ]
    },
    {
      "cell_type": "code",
      "execution_count": null,
      "id": "0ef1e84e",
      "metadata": {
        "id": "0ef1e84e",
        "outputId": "30be5f6e-1671-421a-d4f3-21134dfdf9e7"
      },
      "outputs": [
        {
          "name": "stdout",
          "output_type": "stream",
          "text": [
            "John Doe\n"
          ]
        }
      ],
      "source": [
        "class Person:\n",
        "  def __init__(self, fname, lname):\n",
        "    self.firstname = fname\n",
        "    self.lastname = lname\n",
        "\n",
        "  def printname(self):\n",
        "    print(self.firstname, self.lastname)\n",
        "\n",
        "#Use the Person class to create an object, and then execute the printname method:\n",
        "\n",
        "x = Person(\"John\", \"Doe\")\n",
        "x.printname()"
      ]
    },
    {
      "cell_type": "code",
      "execution_count": null,
      "id": "571616f1",
      "metadata": {
        "id": "571616f1"
      },
      "outputs": [],
      "source": [
        "class Student(Person):\n",
        "  def __init__(self, fname, lname, year):\n",
        "    super().__init__(fname, lname)\n",
        "    self.graduationyear = year\n",
        "\n",
        "  def welcome(self):\n",
        "    print(\"Welcome\", self.firstname, self.lastname, \"to the class of\", self.graduationyear)"
      ]
    },
    {
      "cell_type": "markdown",
      "id": "bcaba384",
      "metadata": {
        "id": "bcaba384"
      },
      "source": [
        "If you add a method in the child class with the same name as a function in the parent class, the inheritance of the parent method will be overridden."
      ]
    },
    {
      "cell_type": "code",
      "execution_count": null,
      "id": "d26e184b",
      "metadata": {
        "id": "d26e184b"
      },
      "outputs": [],
      "source": []
    }
  ],
  "metadata": {
    "kernelspec": {
      "display_name": "Python 3 (ipykernel)",
      "language": "python",
      "name": "python3"
    },
    "language_info": {
      "codemirror_mode": {
        "name": "ipython",
        "version": 3
      },
      "file_extension": ".py",
      "mimetype": "text/x-python",
      "name": "python",
      "nbconvert_exporter": "python",
      "pygments_lexer": "ipython3",
      "version": "3.9.13"
    },
    "colab": {
      "provenance": [],
      "include_colab_link": true
    }
  },
  "nbformat": 4,
  "nbformat_minor": 5
}